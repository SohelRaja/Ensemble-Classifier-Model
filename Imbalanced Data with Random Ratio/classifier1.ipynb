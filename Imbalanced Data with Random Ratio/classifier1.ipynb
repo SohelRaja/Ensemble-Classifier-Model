{
  "nbformat": 4,
  "nbformat_minor": 0,
  "metadata": {
    "colab": {
      "name": "classifier1.ipynb",
      "provenance": [],
      "include_colab_link": true
    },
    "kernelspec": {
      "name": "python3",
      "display_name": "Python 3"
    }
  },
  "cells": [
    {
      "cell_type": "markdown",
      "metadata": {
        "id": "view-in-github",
        "colab_type": "text"
      },
      "source": [
        "<a href=\"https://colab.research.google.com/github/shankha2018/Consensus-and-Ensemble-Model/blob/main/Imbalanced%20Data%20with%20Random%20Ratio/classifier1.ipynb\" target=\"_parent\"><img src=\"https://colab.research.google.com/assets/colab-badge.svg\" alt=\"Open In Colab\"/></a>"
      ]
    },
    {
      "cell_type": "markdown",
      "metadata": {
        "id": "l4icOIGgFJAd"
      },
      "source": [
        "### Classification"
      ]
    },
    {
      "cell_type": "markdown",
      "metadata": {
        "id": "sO-PkJSpI2Iu"
      },
      "source": [
        "### Importing Libraries"
      ]
    },
    {
      "cell_type": "code",
      "metadata": {
        "id": "YUu26Ji_I7UT"
      },
      "source": [
        "import numpy as np\r\n",
        "import pandas as pd \r\n",
        "import seaborn as sns\r\n",
        "import matplotlib.pyplot as plt\r\n",
        "%matplotlib inline"
      ],
      "execution_count": null,
      "outputs": []
    },
    {
      "cell_type": "code",
      "metadata": {
        "id": "SQpPqrNmuCHh"
      },
      "source": [
        "import warnings\r\n",
        "warnings.filterwarnings(\"ignore\")"
      ],
      "execution_count": null,
      "outputs": []
    },
    {
      "cell_type": "markdown",
      "metadata": {
        "id": "fWI7eFcUJQ9y"
      },
      "source": [
        "### Reading the Dataset"
      ]
    },
    {
      "cell_type": "code",
      "metadata": {
        "id": "vC21I5wLFWWy"
      },
      "source": [
        "datasetUrl = 'https://raw.githubusercontent.com/SohelRaja/Consensus-and-Ensemble-Model/main/Datasets/colon.csv'"
      ],
      "execution_count": null,
      "outputs": []
    },
    {
      "cell_type": "code",
      "metadata": {
        "id": "GVPExhBVJk56"
      },
      "source": [
        "colon = pd.read_csv(datasetUrl)"
      ],
      "execution_count": null,
      "outputs": []
    },
    {
      "cell_type": "code",
      "metadata": {
        "colab": {
          "base_uri": "https://localhost:8080/",
          "height": 265
        },
        "id": "L0fgr6wUJskA",
        "outputId": "540cf3dd-6e2d-461e-aea3-74dfe4b137f7"
      },
      "source": [
        "colon.head(5)"
      ],
      "execution_count": null,
      "outputs": [
        {
          "output_type": "execute_result",
          "data": {
            "text/html": [
              "<div>\n",
              "<style scoped>\n",
              "    .dataframe tbody tr th:only-of-type {\n",
              "        vertical-align: middle;\n",
              "    }\n",
              "\n",
              "    .dataframe tbody tr th {\n",
              "        vertical-align: top;\n",
              "    }\n",
              "\n",
              "    .dataframe thead th {\n",
              "        text-align: right;\n",
              "    }\n",
              "</style>\n",
              "<table border=\"1\" class=\"dataframe\">\n",
              "  <thead>\n",
              "    <tr style=\"text-align: right;\">\n",
              "      <th></th>\n",
              "      <th>Unnamed: 0</th>\n",
              "      <th>H55933</th>\n",
              "      <th>R39465</th>\n",
              "      <th>R39465_</th>\n",
              "      <th>R85482</th>\n",
              "      <th>U14973</th>\n",
              "      <th>R02593</th>\n",
              "      <th>T51496</th>\n",
              "      <th>H80240</th>\n",
              "      <th>T65938</th>\n",
              "      <th>T55131</th>\n",
              "      <th>T72863</th>\n",
              "      <th>H86060_</th>\n",
              "      <th>X63432</th>\n",
              "      <th>H20709</th>\n",
              "      <th>U14971</th>\n",
              "      <th>T52342</th>\n",
              "      <th>L28809</th>\n",
              "      <th>T63508</th>\n",
              "      <th>H09263</th>\n",
              "      <th>T49423</th>\n",
              "      <th>H79852</th>\n",
              "      <th>J02763</th>\n",
              "      <th>R22197</th>\n",
              "      <th>T59954</th>\n",
              "      <th>H80240_</th>\n",
              "      <th>T95018</th>\n",
              "      <th>H86060</th>\n",
              "      <th>T63484</th>\n",
              "      <th>R02593_</th>\n",
              "      <th>M11799</th>\n",
              "      <th>T61609</th>\n",
              "      <th>T62220</th>\n",
              "      <th>T51574</th>\n",
              "      <th>T48041</th>\n",
              "      <th>T96832</th>\n",
              "      <th>H54676</th>\n",
              "      <th>R86975</th>\n",
              "      <th>T63258</th>\n",
              "      <th>control1</th>\n",
              "      <th>...</th>\n",
              "      <th>R78142</th>\n",
              "      <th>R62945</th>\n",
              "      <th>X70070</th>\n",
              "      <th>U05040</th>\n",
              "      <th>U33429</th>\n",
              "      <th>T60778</th>\n",
              "      <th>X04011</th>\n",
              "      <th>L12350</th>\n",
              "      <th>R06749</th>\n",
              "      <th>U24105</th>\n",
              "      <th>T57468</th>\n",
              "      <th>M55422</th>\n",
              "      <th>M64110</th>\n",
              "      <th>U14577</th>\n",
              "      <th>K03474</th>\n",
              "      <th>T49204</th>\n",
              "      <th>D00760</th>\n",
              "      <th>H20856</th>\n",
              "      <th>R98410</th>\n",
              "      <th>H62854</th>\n",
              "      <th>T89666</th>\n",
              "      <th>D38551</th>\n",
              "      <th>U12140</th>\n",
              "      <th>M63239</th>\n",
              "      <th>D14689</th>\n",
              "      <th>M67454</th>\n",
              "      <th>T64128</th>\n",
              "      <th>R76825</th>\n",
              "      <th>U15212</th>\n",
              "      <th>X67699</th>\n",
              "      <th>R70790</th>\n",
              "      <th>L11706</th>\n",
              "      <th>T90549</th>\n",
              "      <th>D17390</th>\n",
              "      <th>M33210</th>\n",
              "      <th>H18490</th>\n",
              "      <th>H40891</th>\n",
              "      <th>R77780</th>\n",
              "      <th>T49647</th>\n",
              "      <th>Class</th>\n",
              "    </tr>\n",
              "  </thead>\n",
              "  <tbody>\n",
              "    <tr>\n",
              "      <th>0</th>\n",
              "      <td>1</td>\n",
              "      <td>8589.4160</td>\n",
              "      <td>5468.2407</td>\n",
              "      <td>4263.4077</td>\n",
              "      <td>4064.9358</td>\n",
              "      <td>1997.8930</td>\n",
              "      <td>5282.3250</td>\n",
              "      <td>2169.7200</td>\n",
              "      <td>2773.4211</td>\n",
              "      <td>7526.3860</td>\n",
              "      <td>4607.6763</td>\n",
              "      <td>2598.0600</td>\n",
              "      <td>1522.6462</td>\n",
              "      <td>1300.5988</td>\n",
              "      <td>1181.6300</td>\n",
              "      <td>2417.95830</td>\n",
              "      <td>3139.4000</td>\n",
              "      <td>2473.2612</td>\n",
              "      <td>1306.9038</td>\n",
              "      <td>1285.6025</td>\n",
              "      <td>1900.3613</td>\n",
              "      <td>3504.2139</td>\n",
              "      <td>2428.0525</td>\n",
              "      <td>5150.0137</td>\n",
              "      <td>3855.8400</td>\n",
              "      <td>1806.4750</td>\n",
              "      <td>3192.4130</td>\n",
              "      <td>872.0143</td>\n",
              "      <td>1135.82390</td>\n",
              "      <td>2365.2424</td>\n",
              "      <td>1567.2363</td>\n",
              "      <td>1643.5575</td>\n",
              "      <td>1582.03500</td>\n",
              "      <td>2854.9875</td>\n",
              "      <td>2513.3350</td>\n",
              "      <td>930.0712</td>\n",
              "      <td>3166.5800</td>\n",
              "      <td>930.3038</td>\n",
              "      <td>2018.3550</td>\n",
              "      <td>2065.5945</td>\n",
              "      <td>...</td>\n",
              "      <td>135.19624</td>\n",
              "      <td>98.47250</td>\n",
              "      <td>74.65250</td>\n",
              "      <td>46.80125</td>\n",
              "      <td>75.626190</td>\n",
              "      <td>228.42250</td>\n",
              "      <td>77.22375</td>\n",
              "      <td>47.94625</td>\n",
              "      <td>34.68750</td>\n",
              "      <td>225.91500</td>\n",
              "      <td>243.41250</td>\n",
              "      <td>35.825000</td>\n",
              "      <td>177.23810</td>\n",
              "      <td>64.71125</td>\n",
              "      <td>88.44444</td>\n",
              "      <td>107.83375</td>\n",
              "      <td>42.16750</td>\n",
              "      <td>47.62125</td>\n",
              "      <td>163.80125</td>\n",
              "      <td>86.000000</td>\n",
              "      <td>69.35250</td>\n",
              "      <td>90.344444</td>\n",
              "      <td>58.44750</td>\n",
              "      <td>52.86625</td>\n",
              "      <td>12.202632</td>\n",
              "      <td>20.689285</td>\n",
              "      <td>86.81000</td>\n",
              "      <td>51.46000</td>\n",
              "      <td>289.42374</td>\n",
              "      <td>99.11072</td>\n",
              "      <td>67.56125</td>\n",
              "      <td>259.91250</td>\n",
              "      <td>138.89874</td>\n",
              "      <td>88.23250</td>\n",
              "      <td>39.66786</td>\n",
              "      <td>67.82875</td>\n",
              "      <td>75.67750</td>\n",
              "      <td>83.52250</td>\n",
              "      <td>28.70125</td>\n",
              "      <td>Abnormal</td>\n",
              "    </tr>\n",
              "    <tr>\n",
              "      <th>1</th>\n",
              "      <td>2</td>\n",
              "      <td>9164.2540</td>\n",
              "      <td>6719.5293</td>\n",
              "      <td>4883.4487</td>\n",
              "      <td>3718.1590</td>\n",
              "      <td>2015.2214</td>\n",
              "      <td>5569.9070</td>\n",
              "      <td>3849.0588</td>\n",
              "      <td>2793.3875</td>\n",
              "      <td>7017.7340</td>\n",
              "      <td>4802.2524</td>\n",
              "      <td>1672.9750</td>\n",
              "      <td>1792.1769</td>\n",
              "      <td>3792.5425</td>\n",
              "      <td>3630.3826</td>\n",
              "      <td>1906.21310</td>\n",
              "      <td>5745.3960</td>\n",
              "      <td>1919.4462</td>\n",
              "      <td>2036.2838</td>\n",
              "      <td>2253.3625</td>\n",
              "      <td>2490.8738</td>\n",
              "      <td>3759.5850</td>\n",
              "      <td>4268.9185</td>\n",
              "      <td>4166.1914</td>\n",
              "      <td>4286.6900</td>\n",
              "      <td>2699.2844</td>\n",
              "      <td>2796.0833</td>\n",
              "      <td>1015.9143</td>\n",
              "      <td>1459.10250</td>\n",
              "      <td>2865.0388</td>\n",
              "      <td>1156.9563</td>\n",
              "      <td>1351.9650</td>\n",
              "      <td>3218.32130</td>\n",
              "      <td>3855.5337</td>\n",
              "      <td>3097.4539</td>\n",
              "      <td>1667.5425</td>\n",
              "      <td>2779.3037</td>\n",
              "      <td>1064.2675</td>\n",
              "      <td>2430.8790</td>\n",
              "      <td>2814.2800</td>\n",
              "      <td>...</td>\n",
              "      <td>169.08000</td>\n",
              "      <td>76.40750</td>\n",
              "      <td>119.05750</td>\n",
              "      <td>62.59750</td>\n",
              "      <td>81.463100</td>\n",
              "      <td>1803.76370</td>\n",
              "      <td>100.05250</td>\n",
              "      <td>101.37625</td>\n",
              "      <td>61.82250</td>\n",
              "      <td>330.16125</td>\n",
              "      <td>202.20500</td>\n",
              "      <td>37.129760</td>\n",
              "      <td>605.53810</td>\n",
              "      <td>91.29500</td>\n",
              "      <td>86.03611</td>\n",
              "      <td>48.45875</td>\n",
              "      <td>37.41750</td>\n",
              "      <td>86.38625</td>\n",
              "      <td>163.13875</td>\n",
              "      <td>146.125000</td>\n",
              "      <td>89.59000</td>\n",
              "      <td>124.708330</td>\n",
              "      <td>35.79375</td>\n",
              "      <td>62.05875</td>\n",
              "      <td>39.719738</td>\n",
              "      <td>83.142860</td>\n",
              "      <td>321.33750</td>\n",
              "      <td>41.59125</td>\n",
              "      <td>263.36874</td>\n",
              "      <td>126.78929</td>\n",
              "      <td>92.23875</td>\n",
              "      <td>96.27625</td>\n",
              "      <td>150.59000</td>\n",
              "      <td>82.23750</td>\n",
              "      <td>85.03333</td>\n",
              "      <td>152.19500</td>\n",
              "      <td>186.56750</td>\n",
              "      <td>44.47250</td>\n",
              "      <td>16.77375</td>\n",
              "      <td>Normal</td>\n",
              "    </tr>\n",
              "    <tr>\n",
              "      <th>2</th>\n",
              "      <td>3</td>\n",
              "      <td>3825.7050</td>\n",
              "      <td>6970.3613</td>\n",
              "      <td>5369.9688</td>\n",
              "      <td>4705.6500</td>\n",
              "      <td>1166.5536</td>\n",
              "      <td>1572.1678</td>\n",
              "      <td>1325.4025</td>\n",
              "      <td>1472.2587</td>\n",
              "      <td>3296.9512</td>\n",
              "      <td>2786.5820</td>\n",
              "      <td>2441.4187</td>\n",
              "      <td>1487.6711</td>\n",
              "      <td>1315.8538</td>\n",
              "      <td>855.4550</td>\n",
              "      <td>802.30475</td>\n",
              "      <td>3251.1084</td>\n",
              "      <td>781.9950</td>\n",
              "      <td>1618.6500</td>\n",
              "      <td>1066.8387</td>\n",
              "      <td>1006.2112</td>\n",
              "      <td>1436.7850</td>\n",
              "      <td>658.8787</td>\n",
              "      <td>1924.7913</td>\n",
              "      <td>2080.6611</td>\n",
              "      <td>1155.9438</td>\n",
              "      <td>1444.0964</td>\n",
              "      <td>853.4429</td>\n",
              "      <td>734.52875</td>\n",
              "      <td>763.3075</td>\n",
              "      <td>704.1175</td>\n",
              "      <td>591.8088</td>\n",
              "      <td>807.39374</td>\n",
              "      <td>2138.8726</td>\n",
              "      <td>1734.1150</td>\n",
              "      <td>905.6200</td>\n",
              "      <td>1378.1200</td>\n",
              "      <td>797.1925</td>\n",
              "      <td>1880.1875</td>\n",
              "      <td>1389.6302</td>\n",
              "      <td>...</td>\n",
              "      <td>62.98000</td>\n",
              "      <td>51.04375</td>\n",
              "      <td>104.76250</td>\n",
              "      <td>10.15750</td>\n",
              "      <td>47.025000</td>\n",
              "      <td>460.56750</td>\n",
              "      <td>64.46125</td>\n",
              "      <td>159.98000</td>\n",
              "      <td>99.53250</td>\n",
              "      <td>122.04250</td>\n",
              "      <td>97.26750</td>\n",
              "      <td>23.496430</td>\n",
              "      <td>119.11190</td>\n",
              "      <td>75.15500</td>\n",
              "      <td>122.41389</td>\n",
              "      <td>40.46750</td>\n",
              "      <td>6.15625</td>\n",
              "      <td>10.62375</td>\n",
              "      <td>128.99374</td>\n",
              "      <td>24.917105</td>\n",
              "      <td>77.06375</td>\n",
              "      <td>33.443054</td>\n",
              "      <td>14.43625</td>\n",
              "      <td>30.18500</td>\n",
              "      <td>24.805264</td>\n",
              "      <td>6.016071</td>\n",
              "      <td>116.18375</td>\n",
              "      <td>50.87375</td>\n",
              "      <td>71.40125</td>\n",
              "      <td>151.87738</td>\n",
              "      <td>82.71500</td>\n",
              "      <td>31.10250</td>\n",
              "      <td>193.92000</td>\n",
              "      <td>76.97250</td>\n",
              "      <td>224.62024</td>\n",
              "      <td>31.22500</td>\n",
              "      <td>42.65625</td>\n",
              "      <td>16.09250</td>\n",
              "      <td>15.15625</td>\n",
              "      <td>Abnormal</td>\n",
              "    </tr>\n",
              "    <tr>\n",
              "      <th>3</th>\n",
              "      <td>4</td>\n",
              "      <td>6246.4487</td>\n",
              "      <td>7823.5340</td>\n",
              "      <td>5955.8350</td>\n",
              "      <td>3975.5642</td>\n",
              "      <td>2002.6132</td>\n",
              "      <td>2130.5430</td>\n",
              "      <td>1531.1425</td>\n",
              "      <td>1714.6312</td>\n",
              "      <td>3869.7850</td>\n",
              "      <td>4989.4070</td>\n",
              "      <td>1723.5800</td>\n",
              "      <td>1298.7250</td>\n",
              "      <td>1309.3475</td>\n",
              "      <td>1789.6700</td>\n",
              "      <td>1587.79170</td>\n",
              "      <td>3496.1458</td>\n",
              "      <td>1226.2975</td>\n",
              "      <td>1597.2812</td>\n",
              "      <td>1144.6912</td>\n",
              "      <td>1139.6274</td>\n",
              "      <td>2662.0974</td>\n",
              "      <td>2636.1562</td>\n",
              "      <td>3134.7476</td>\n",
              "      <td>4244.0700</td>\n",
              "      <td>1186.8938</td>\n",
              "      <td>2342.3820</td>\n",
              "      <td>792.2143</td>\n",
              "      <td>1133.23750</td>\n",
              "      <td>969.8237</td>\n",
              "      <td>835.3862</td>\n",
              "      <td>1392.7162</td>\n",
              "      <td>3034.57130</td>\n",
              "      <td>4699.3950</td>\n",
              "      <td>3312.4812</td>\n",
              "      <td>854.4288</td>\n",
              "      <td>1880.5400</td>\n",
              "      <td>1329.3225</td>\n",
              "      <td>3124.2488</td>\n",
              "      <td>2456.0930</td>\n",
              "      <td>...</td>\n",
              "      <td>61.42375</td>\n",
              "      <td>97.97375</td>\n",
              "      <td>34.58875</td>\n",
              "      <td>63.75875</td>\n",
              "      <td>45.223810</td>\n",
              "      <td>799.94500</td>\n",
              "      <td>71.27625</td>\n",
              "      <td>24.16875</td>\n",
              "      <td>40.38625</td>\n",
              "      <td>198.43500</td>\n",
              "      <td>170.53876</td>\n",
              "      <td>16.402382</td>\n",
              "      <td>172.44524</td>\n",
              "      <td>90.45500</td>\n",
              "      <td>140.83057</td>\n",
              "      <td>31.11625</td>\n",
              "      <td>21.02875</td>\n",
              "      <td>70.51875</td>\n",
              "      <td>203.06375</td>\n",
              "      <td>174.063160</td>\n",
              "      <td>86.48125</td>\n",
              "      <td>76.851390</td>\n",
              "      <td>38.58875</td>\n",
              "      <td>10.61125</td>\n",
              "      <td>35.985527</td>\n",
              "      <td>43.935715</td>\n",
              "      <td>239.27000</td>\n",
              "      <td>29.55875</td>\n",
              "      <td>367.58124</td>\n",
              "      <td>152.59525</td>\n",
              "      <td>41.68375</td>\n",
              "      <td>5.92500</td>\n",
              "      <td>183.00626</td>\n",
              "      <td>74.52875</td>\n",
              "      <td>67.71072</td>\n",
              "      <td>48.33875</td>\n",
              "      <td>42.52000</td>\n",
              "      <td>49.98250</td>\n",
              "      <td>16.08500</td>\n",
              "      <td>Normal</td>\n",
              "    </tr>\n",
              "    <tr>\n",
              "      <th>4</th>\n",
              "      <td>5</td>\n",
              "      <td>3230.3286</td>\n",
              "      <td>3694.4500</td>\n",
              "      <td>3400.7400</td>\n",
              "      <td>3463.5857</td>\n",
              "      <td>2181.4202</td>\n",
              "      <td>2922.7820</td>\n",
              "      <td>2069.2463</td>\n",
              "      <td>2948.5750</td>\n",
              "      <td>3303.3710</td>\n",
              "      <td>3109.4130</td>\n",
              "      <td>2724.2660</td>\n",
              "      <td>2557.7847</td>\n",
              "      <td>3164.6963</td>\n",
              "      <td>2285.3088</td>\n",
              "      <td>2576.74880</td>\n",
              "      <td>3056.7250</td>\n",
              "      <td>1391.5900</td>\n",
              "      <td>2162.5537</td>\n",
              "      <td>1540.2500</td>\n",
              "      <td>2705.6750</td>\n",
              "      <td>1271.7188</td>\n",
              "      <td>4439.8910</td>\n",
              "      <td>2030.6738</td>\n",
              "      <td>2249.8188</td>\n",
              "      <td>2150.1218</td>\n",
              "      <td>3350.5024</td>\n",
              "      <td>1563.9893</td>\n",
              "      <td>1903.58250</td>\n",
              "      <td>1568.1113</td>\n",
              "      <td>1368.8175</td>\n",
              "      <td>2648.2676</td>\n",
              "      <td>1073.41000</td>\n",
              "      <td>1207.4163</td>\n",
              "      <td>1201.7687</td>\n",
              "      <td>1733.8239</td>\n",
              "      <td>621.6500</td>\n",
              "      <td>1381.4825</td>\n",
              "      <td>719.4525</td>\n",
              "      <td>967.3576</td>\n",
              "      <td>...</td>\n",
              "      <td>40.36000</td>\n",
              "      <td>22.07125</td>\n",
              "      <td>6.37000</td>\n",
              "      <td>17.33375</td>\n",
              "      <td>45.464287</td>\n",
              "      <td>105.94625</td>\n",
              "      <td>28.90500</td>\n",
              "      <td>75.84375</td>\n",
              "      <td>42.00125</td>\n",
              "      <td>123.20875</td>\n",
              "      <td>42.02250</td>\n",
              "      <td>19.664286</td>\n",
              "      <td>49.37738</td>\n",
              "      <td>62.65250</td>\n",
              "      <td>52.74167</td>\n",
              "      <td>55.26750</td>\n",
              "      <td>30.60375</td>\n",
              "      <td>57.94250</td>\n",
              "      <td>149.38500</td>\n",
              "      <td>24.352633</td>\n",
              "      <td>29.42375</td>\n",
              "      <td>49.856945</td>\n",
              "      <td>80.67375</td>\n",
              "      <td>50.12125</td>\n",
              "      <td>71.184210</td>\n",
              "      <td>29.364286</td>\n",
              "      <td>52.59125</td>\n",
              "      <td>43.63625</td>\n",
              "      <td>56.07250</td>\n",
              "      <td>126.46429</td>\n",
              "      <td>76.60375</td>\n",
              "      <td>161.35000</td>\n",
              "      <td>61.70125</td>\n",
              "      <td>54.56375</td>\n",
              "      <td>223.35953</td>\n",
              "      <td>73.09875</td>\n",
              "      <td>57.59875</td>\n",
              "      <td>7.48875</td>\n",
              "      <td>31.81250</td>\n",
              "      <td>Abnormal</td>\n",
              "    </tr>\n",
              "  </tbody>\n",
              "</table>\n",
              "<p>5 rows × 2002 columns</p>\n",
              "</div>"
            ],
            "text/plain": [
              "   Unnamed: 0     H55933     R39465  ...    R77780    T49647     Class\n",
              "0           1  8589.4160  5468.2407  ...  83.52250  28.70125  Abnormal\n",
              "1           2  9164.2540  6719.5293  ...  44.47250  16.77375    Normal\n",
              "2           3  3825.7050  6970.3613  ...  16.09250  15.15625  Abnormal\n",
              "3           4  6246.4487  7823.5340  ...  49.98250  16.08500    Normal\n",
              "4           5  3230.3286  3694.4500  ...   7.48875  31.81250  Abnormal\n",
              "\n",
              "[5 rows x 2002 columns]"
            ]
          },
          "metadata": {
            "tags": []
          },
          "execution_count": 5
        }
      ]
    },
    {
      "cell_type": "markdown",
      "metadata": {
        "id": "uCTI7EkAKNBd"
      },
      "source": [
        "### Data Analysis"
      ]
    },
    {
      "cell_type": "code",
      "metadata": {
        "colab": {
          "base_uri": "https://localhost:8080/"
        },
        "id": "UmkqKNrkJyH4",
        "outputId": "00ca0e66-a5fa-41e5-cf11-93ead67ea6bd"
      },
      "source": [
        "colon.info()"
      ],
      "execution_count": null,
      "outputs": [
        {
          "output_type": "stream",
          "text": [
            "<class 'pandas.core.frame.DataFrame'>\n",
            "RangeIndex: 62 entries, 0 to 61\n",
            "Columns: 2002 entries, Unnamed: 0 to Class\n",
            "dtypes: float64(2000), int64(1), object(1)\n",
            "memory usage: 969.8+ KB\n"
          ],
          "name": "stdout"
        }
      ]
    },
    {
      "cell_type": "code",
      "metadata": {
        "colab": {
          "base_uri": "https://localhost:8080/"
        },
        "id": "PDPvbNGnKRGn",
        "outputId": "69860513-7080-41e8-987f-5aec48310501"
      },
      "source": [
        "colon_arr = np.array(colon.columns)\r\n",
        "def unique_value_check():\r\n",
        "    len_col = len(colon_arr)\r\n",
        "    print(\"Column Name : No. of unique value\")\r\n",
        "    print(\"---------------------------------\")\r\n",
        "    for i in range(len_col):\r\n",
        "        val = len(np.unique(colon[colon_arr[i]]))\r\n",
        "        if val != 62:\r\n",
        "            print(i,\" : \",colon_arr[i],\":\",val,end='\\t')\r\n",
        "            if(val<10):\r\n",
        "                print(\"---> \",colon[colon_arr[i]].unique().tolist())\r\n",
        "            else:\r\n",
        "                print(\"---> [Too Much Values]\")\r\n",
        "print(unique_value_check())\r\n",
        "colon_arr"
      ],
      "execution_count": null,
      "outputs": [
        {
          "output_type": "stream",
          "text": [
            "Column Name : No. of unique value\n",
            "---------------------------------\n",
            "870  :  M16827 : 61\t---> [Too Much Values]\n",
            "1022  :  R38513_ : 61\t---> [Too Much Values]\n",
            "1077  :  R55778 : 61\t---> [Too Much Values]\n",
            "1129  :  T55840 : 61\t---> [Too Much Values]\n",
            "1158  :  T89175 : 61\t---> [Too Much Values]\n",
            "1179  :  U20285 : 61\t---> [Too Much Values]\n",
            "1358  :  U02081 : 61\t---> [Too Much Values]\n",
            "1404  :  M14676 : 61\t---> [Too Much Values]\n",
            "1474  :  L26050_ : 61\t---> [Too Much Values]\n",
            "1521  :  U07139 : 61\t---> [Too Much Values]\n",
            "1524  :  T47719 : 61\t---> [Too Much Values]\n",
            "1531  :  M34344 : 61\t---> [Too Much Values]\n",
            "1701  :  H62466 : 61\t---> [Too Much Values]\n",
            "1740  :  M81651 : 61\t---> [Too Much Values]\n",
            "1771  :  J05032 : 61\t---> [Too Much Values]\n",
            "1864  :  T91121 : 61\t---> [Too Much Values]\n",
            "1947  :  R44112 : 61\t---> [Too Much Values]\n",
            "1984  :  U12140 : 61\t---> [Too Much Values]\n",
            "2001  :  Class : 2\t--->  ['Abnormal', 'Normal']\n",
            "None\n"
          ],
          "name": "stdout"
        },
        {
          "output_type": "execute_result",
          "data": {
            "text/plain": [
              "array(['Unnamed: 0', 'H55933', 'R39465', ..., 'R77780', 'T49647', 'Class'],\n",
              "      dtype=object)"
            ]
          },
          "metadata": {
            "tags": []
          },
          "execution_count": 7
        }
      ]
    },
    {
      "cell_type": "code",
      "metadata": {
        "colab": {
          "base_uri": "https://localhost:8080/",
          "height": 355
        },
        "id": "caFaa0G6MoFY",
        "outputId": "a75da24a-f431-4d2b-c18f-03ba2c385522"
      },
      "source": [
        "colon.describe()"
      ],
      "execution_count": null,
      "outputs": [
        {
          "output_type": "execute_result",
          "data": {
            "text/html": [
              "<div>\n",
              "<style scoped>\n",
              "    .dataframe tbody tr th:only-of-type {\n",
              "        vertical-align: middle;\n",
              "    }\n",
              "\n",
              "    .dataframe tbody tr th {\n",
              "        vertical-align: top;\n",
              "    }\n",
              "\n",
              "    .dataframe thead th {\n",
              "        text-align: right;\n",
              "    }\n",
              "</style>\n",
              "<table border=\"1\" class=\"dataframe\">\n",
              "  <thead>\n",
              "    <tr style=\"text-align: right;\">\n",
              "      <th></th>\n",
              "      <th>Unnamed: 0</th>\n",
              "      <th>H55933</th>\n",
              "      <th>R39465</th>\n",
              "      <th>R39465_</th>\n",
              "      <th>R85482</th>\n",
              "      <th>U14973</th>\n",
              "      <th>R02593</th>\n",
              "      <th>T51496</th>\n",
              "      <th>H80240</th>\n",
              "      <th>T65938</th>\n",
              "      <th>T55131</th>\n",
              "      <th>T72863</th>\n",
              "      <th>H86060_</th>\n",
              "      <th>X63432</th>\n",
              "      <th>H20709</th>\n",
              "      <th>U14971</th>\n",
              "      <th>T52342</th>\n",
              "      <th>L28809</th>\n",
              "      <th>T63508</th>\n",
              "      <th>H09263</th>\n",
              "      <th>T49423</th>\n",
              "      <th>H79852</th>\n",
              "      <th>J02763</th>\n",
              "      <th>R22197</th>\n",
              "      <th>T59954</th>\n",
              "      <th>H80240_</th>\n",
              "      <th>T95018</th>\n",
              "      <th>H86060</th>\n",
              "      <th>T63484</th>\n",
              "      <th>R02593_</th>\n",
              "      <th>M11799</th>\n",
              "      <th>T61609</th>\n",
              "      <th>T62220</th>\n",
              "      <th>T51574</th>\n",
              "      <th>T48041</th>\n",
              "      <th>T96832</th>\n",
              "      <th>H54676</th>\n",
              "      <th>R86975</th>\n",
              "      <th>T63258</th>\n",
              "      <th>control1</th>\n",
              "      <th>...</th>\n",
              "      <th>H77510</th>\n",
              "      <th>R78142</th>\n",
              "      <th>R62945</th>\n",
              "      <th>X70070</th>\n",
              "      <th>U05040</th>\n",
              "      <th>U33429</th>\n",
              "      <th>T60778</th>\n",
              "      <th>X04011</th>\n",
              "      <th>L12350</th>\n",
              "      <th>R06749</th>\n",
              "      <th>U24105</th>\n",
              "      <th>T57468</th>\n",
              "      <th>M55422</th>\n",
              "      <th>M64110</th>\n",
              "      <th>U14577</th>\n",
              "      <th>K03474</th>\n",
              "      <th>T49204</th>\n",
              "      <th>D00760</th>\n",
              "      <th>H20856</th>\n",
              "      <th>R98410</th>\n",
              "      <th>H62854</th>\n",
              "      <th>T89666</th>\n",
              "      <th>D38551</th>\n",
              "      <th>U12140</th>\n",
              "      <th>M63239</th>\n",
              "      <th>D14689</th>\n",
              "      <th>M67454</th>\n",
              "      <th>T64128</th>\n",
              "      <th>R76825</th>\n",
              "      <th>U15212</th>\n",
              "      <th>X67699</th>\n",
              "      <th>R70790</th>\n",
              "      <th>L11706</th>\n",
              "      <th>T90549</th>\n",
              "      <th>D17390</th>\n",
              "      <th>M33210</th>\n",
              "      <th>H18490</th>\n",
              "      <th>H40891</th>\n",
              "      <th>R77780</th>\n",
              "      <th>T49647</th>\n",
              "    </tr>\n",
              "  </thead>\n",
              "  <tbody>\n",
              "    <tr>\n",
              "      <th>count</th>\n",
              "      <td>62.000000</td>\n",
              "      <td>62.000000</td>\n",
              "      <td>62.000000</td>\n",
              "      <td>62.000000</td>\n",
              "      <td>62.000000</td>\n",
              "      <td>62.000000</td>\n",
              "      <td>62.000000</td>\n",
              "      <td>62.000000</td>\n",
              "      <td>62.000000</td>\n",
              "      <td>62.000000</td>\n",
              "      <td>62.000000</td>\n",
              "      <td>62.000000</td>\n",
              "      <td>62.000000</td>\n",
              "      <td>62.000000</td>\n",
              "      <td>62.000000</td>\n",
              "      <td>62.000000</td>\n",
              "      <td>62.000000</td>\n",
              "      <td>62.000000</td>\n",
              "      <td>62.000000</td>\n",
              "      <td>62.000000</td>\n",
              "      <td>62.000000</td>\n",
              "      <td>62.000000</td>\n",
              "      <td>62.000000</td>\n",
              "      <td>62.000000</td>\n",
              "      <td>62.000000</td>\n",
              "      <td>62.000000</td>\n",
              "      <td>62.000000</td>\n",
              "      <td>62.000000</td>\n",
              "      <td>62.000000</td>\n",
              "      <td>62.000000</td>\n",
              "      <td>62.000000</td>\n",
              "      <td>62.000000</td>\n",
              "      <td>62.000000</td>\n",
              "      <td>62.000000</td>\n",
              "      <td>62.000000</td>\n",
              "      <td>62.000000</td>\n",
              "      <td>62.000000</td>\n",
              "      <td>62.000000</td>\n",
              "      <td>62.000000</td>\n",
              "      <td>62.000000</td>\n",
              "      <td>...</td>\n",
              "      <td>62.000000</td>\n",
              "      <td>62.000000</td>\n",
              "      <td>62.000000</td>\n",
              "      <td>62.000000</td>\n",
              "      <td>62.000000</td>\n",
              "      <td>62.000000</td>\n",
              "      <td>62.000000</td>\n",
              "      <td>62.000000</td>\n",
              "      <td>62.000000</td>\n",
              "      <td>62.000000</td>\n",
              "      <td>62.000000</td>\n",
              "      <td>62.000000</td>\n",
              "      <td>62.000000</td>\n",
              "      <td>62.000000</td>\n",
              "      <td>62.000000</td>\n",
              "      <td>62.000000</td>\n",
              "      <td>62.000000</td>\n",
              "      <td>62.000000</td>\n",
              "      <td>62.000000</td>\n",
              "      <td>62.000000</td>\n",
              "      <td>62.000000</td>\n",
              "      <td>62.000000</td>\n",
              "      <td>62.000000</td>\n",
              "      <td>62.000000</td>\n",
              "      <td>62.000000</td>\n",
              "      <td>62.000000</td>\n",
              "      <td>62.000000</td>\n",
              "      <td>62.000000</td>\n",
              "      <td>62.000000</td>\n",
              "      <td>62.000000</td>\n",
              "      <td>62.000000</td>\n",
              "      <td>62.000000</td>\n",
              "      <td>62.000000</td>\n",
              "      <td>62.000000</td>\n",
              "      <td>62.000000</td>\n",
              "      <td>62.000000</td>\n",
              "      <td>62.000000</td>\n",
              "      <td>62.000000</td>\n",
              "      <td>62.000000</td>\n",
              "      <td>62.000000</td>\n",
              "    </tr>\n",
              "    <tr>\n",
              "      <th>mean</th>\n",
              "      <td>31.500000</td>\n",
              "      <td>7015.786703</td>\n",
              "      <td>4966.959971</td>\n",
              "      <td>4094.727906</td>\n",
              "      <td>3987.789302</td>\n",
              "      <td>2937.126132</td>\n",
              "      <td>4705.119294</td>\n",
              "      <td>3588.800302</td>\n",
              "      <td>2872.288627</td>\n",
              "      <td>4680.191126</td>\n",
              "      <td>4039.661958</td>\n",
              "      <td>3399.386232</td>\n",
              "      <td>2283.847035</td>\n",
              "      <td>3064.709573</td>\n",
              "      <td>3169.054361</td>\n",
              "      <td>3087.897071</td>\n",
              "      <td>4342.216085</td>\n",
              "      <td>2906.718926</td>\n",
              "      <td>2275.056023</td>\n",
              "      <td>2516.240561</td>\n",
              "      <td>2920.266588</td>\n",
              "      <td>3198.948548</td>\n",
              "      <td>4672.716847</td>\n",
              "      <td>3544.121735</td>\n",
              "      <td>3243.616007</td>\n",
              "      <td>2146.440465</td>\n",
              "      <td>4441.338633</td>\n",
              "      <td>1319.834292</td>\n",
              "      <td>2620.612727</td>\n",
              "      <td>2398.687153</td>\n",
              "      <td>2416.720414</td>\n",
              "      <td>2728.851989</td>\n",
              "      <td>1829.040311</td>\n",
              "      <td>3132.103775</td>\n",
              "      <td>1951.479187</td>\n",
              "      <td>1326.721536</td>\n",
              "      <td>2320.837516</td>\n",
              "      <td>2239.639920</td>\n",
              "      <td>1594.724263</td>\n",
              "      <td>2306.324157</td>\n",
              "      <td>...</td>\n",
              "      <td>78.244234</td>\n",
              "      <td>81.977560</td>\n",
              "      <td>223.428349</td>\n",
              "      <td>68.373891</td>\n",
              "      <td>57.369234</td>\n",
              "      <td>72.967761</td>\n",
              "      <td>463.727180</td>\n",
              "      <td>82.297017</td>\n",
              "      <td>128.950785</td>\n",
              "      <td>60.494657</td>\n",
              "      <td>271.628951</td>\n",
              "      <td>203.333509</td>\n",
              "      <td>41.380875</td>\n",
              "      <td>248.155971</td>\n",
              "      <td>79.882218</td>\n",
              "      <td>183.262590</td>\n",
              "      <td>103.252299</td>\n",
              "      <td>90.263649</td>\n",
              "      <td>71.159980</td>\n",
              "      <td>208.169699</td>\n",
              "      <td>90.730603</td>\n",
              "      <td>49.362177</td>\n",
              "      <td>112.489315</td>\n",
              "      <td>49.123790</td>\n",
              "      <td>55.558851</td>\n",
              "      <td>72.746414</td>\n",
              "      <td>61.462875</td>\n",
              "      <td>219.899538</td>\n",
              "      <td>65.092621</td>\n",
              "      <td>186.239012</td>\n",
              "      <td>186.204532</td>\n",
              "      <td>100.227903</td>\n",
              "      <td>293.222722</td>\n",
              "      <td>124.653387</td>\n",
              "      <td>133.186935</td>\n",
              "      <td>184.136636</td>\n",
              "      <td>84.118387</td>\n",
              "      <td>114.930000</td>\n",
              "      <td>53.251230</td>\n",
              "      <td>42.965827</td>\n",
              "    </tr>\n",
              "    <tr>\n",
              "      <th>std</th>\n",
              "      <td>18.041619</td>\n",
              "      <td>3092.970593</td>\n",
              "      <td>2188.890465</td>\n",
              "      <td>1818.080945</td>\n",
              "      <td>2019.086906</td>\n",
              "      <td>1356.932895</td>\n",
              "      <td>2400.848121</td>\n",
              "      <td>1872.106074</td>\n",
              "      <td>1122.365445</td>\n",
              "      <td>2417.239210</td>\n",
              "      <td>2018.044259</td>\n",
              "      <td>1841.232524</td>\n",
              "      <td>805.367040</td>\n",
              "      <td>1752.976635</td>\n",
              "      <td>1629.209786</td>\n",
              "      <td>1531.673225</td>\n",
              "      <td>2091.829860</td>\n",
              "      <td>1597.413732</td>\n",
              "      <td>954.275623</td>\n",
              "      <td>1455.282461</td>\n",
              "      <td>1646.820322</td>\n",
              "      <td>1657.661682</td>\n",
              "      <td>2202.233176</td>\n",
              "      <td>2012.013956</td>\n",
              "      <td>1923.390782</td>\n",
              "      <td>845.154632</td>\n",
              "      <td>2486.862067</td>\n",
              "      <td>521.621695</td>\n",
              "      <td>1314.871487</td>\n",
              "      <td>1332.286091</td>\n",
              "      <td>1236.560380</td>\n",
              "      <td>1708.641893</td>\n",
              "      <td>844.895807</td>\n",
              "      <td>1771.742108</td>\n",
              "      <td>877.221537</td>\n",
              "      <td>594.530875</td>\n",
              "      <td>1324.342855</td>\n",
              "      <td>1261.389033</td>\n",
              "      <td>795.542247</td>\n",
              "      <td>1330.420236</td>\n",
              "      <td>...</td>\n",
              "      <td>55.980613</td>\n",
              "      <td>52.123156</td>\n",
              "      <td>384.934640</td>\n",
              "      <td>38.273377</td>\n",
              "      <td>44.448600</td>\n",
              "      <td>55.354463</td>\n",
              "      <td>479.368497</td>\n",
              "      <td>48.883995</td>\n",
              "      <td>147.003258</td>\n",
              "      <td>51.905583</td>\n",
              "      <td>163.084930</td>\n",
              "      <td>146.025051</td>\n",
              "      <td>24.685863</td>\n",
              "      <td>325.837881</td>\n",
              "      <td>53.547760</td>\n",
              "      <td>201.103915</td>\n",
              "      <td>66.941879</td>\n",
              "      <td>99.478449</td>\n",
              "      <td>41.911208</td>\n",
              "      <td>136.261553</td>\n",
              "      <td>67.567683</td>\n",
              "      <td>27.559189</td>\n",
              "      <td>95.161307</td>\n",
              "      <td>23.945443</td>\n",
              "      <td>46.316973</td>\n",
              "      <td>54.988725</td>\n",
              "      <td>52.075881</td>\n",
              "      <td>200.746139</td>\n",
              "      <td>42.511124</td>\n",
              "      <td>116.216778</td>\n",
              "      <td>117.605889</td>\n",
              "      <td>78.022713</td>\n",
              "      <td>179.249194</td>\n",
              "      <td>75.535838</td>\n",
              "      <td>101.372557</td>\n",
              "      <td>159.914871</td>\n",
              "      <td>86.182028</td>\n",
              "      <td>88.011866</td>\n",
              "      <td>38.462814</td>\n",
              "      <td>28.395175</td>\n",
              "    </tr>\n",
              "    <tr>\n",
              "      <th>min</th>\n",
              "      <td>1.000000</td>\n",
              "      <td>1914.677500</td>\n",
              "      <td>1383.488600</td>\n",
              "      <td>1269.648700</td>\n",
              "      <td>1186.030400</td>\n",
              "      <td>1166.553600</td>\n",
              "      <td>1087.750000</td>\n",
              "      <td>1062.697500</td>\n",
              "      <td>1026.477500</td>\n",
              "      <td>995.790000</td>\n",
              "      <td>974.815500</td>\n",
              "      <td>967.785000</td>\n",
              "      <td>962.561500</td>\n",
              "      <td>886.018740</td>\n",
              "      <td>855.455000</td>\n",
              "      <td>802.304750</td>\n",
              "      <td>758.529200</td>\n",
              "      <td>745.535000</td>\n",
              "      <td>736.873800</td>\n",
              "      <td>716.773740</td>\n",
              "      <td>672.956240</td>\n",
              "      <td>666.181300</td>\n",
              "      <td>658.878700</td>\n",
              "      <td>607.091250</td>\n",
              "      <td>606.788760</td>\n",
              "      <td>601.550000</td>\n",
              "      <td>590.352360</td>\n",
              "      <td>569.736900</td>\n",
              "      <td>568.015000</td>\n",
              "      <td>566.867500</td>\n",
              "      <td>561.336240</td>\n",
              "      <td>538.690000</td>\n",
              "      <td>524.087500</td>\n",
              "      <td>502.191250</td>\n",
              "      <td>473.665000</td>\n",
              "      <td>461.221250</td>\n",
              "      <td>460.318760</td>\n",
              "      <td>439.676240</td>\n",
              "      <td>422.656250</td>\n",
              "      <td>408.691830</td>\n",
              "      <td>...</td>\n",
              "      <td>6.427500</td>\n",
              "      <td>6.416250</td>\n",
              "      <td>6.382500</td>\n",
              "      <td>6.370000</td>\n",
              "      <td>6.361250</td>\n",
              "      <td>6.330952</td>\n",
              "      <td>6.317500</td>\n",
              "      <td>6.298750</td>\n",
              "      <td>6.296250</td>\n",
              "      <td>6.295000</td>\n",
              "      <td>6.271250</td>\n",
              "      <td>6.261250</td>\n",
              "      <td>6.259524</td>\n",
              "      <td>6.253571</td>\n",
              "      <td>6.220000</td>\n",
              "      <td>6.191667</td>\n",
              "      <td>6.161250</td>\n",
              "      <td>6.156250</td>\n",
              "      <td>6.136250</td>\n",
              "      <td>6.121250</td>\n",
              "      <td>6.088158</td>\n",
              "      <td>6.081250</td>\n",
              "      <td>6.072222</td>\n",
              "      <td>6.068750</td>\n",
              "      <td>6.068750</td>\n",
              "      <td>6.032895</td>\n",
              "      <td>6.016071</td>\n",
              "      <td>6.010000</td>\n",
              "      <td>5.967500</td>\n",
              "      <td>5.960000</td>\n",
              "      <td>5.950000</td>\n",
              "      <td>5.935000</td>\n",
              "      <td>5.925000</td>\n",
              "      <td>5.923750</td>\n",
              "      <td>5.916250</td>\n",
              "      <td>5.888095</td>\n",
              "      <td>5.878750</td>\n",
              "      <td>5.848750</td>\n",
              "      <td>5.842500</td>\n",
              "      <td>5.816250</td>\n",
              "    </tr>\n",
              "    <tr>\n",
              "      <th>25%</th>\n",
              "      <td>16.250000</td>\n",
              "      <td>4877.364750</td>\n",
              "      <td>3408.951225</td>\n",
              "      <td>2763.725975</td>\n",
              "      <td>2648.942800</td>\n",
              "      <td>1890.857050</td>\n",
              "      <td>2843.368825</td>\n",
              "      <td>2112.952225</td>\n",
              "      <td>2050.814050</td>\n",
              "      <td>2971.792800</td>\n",
              "      <td>2797.992475</td>\n",
              "      <td>2262.145950</td>\n",
              "      <td>1611.937025</td>\n",
              "      <td>1907.105625</td>\n",
              "      <td>2172.427500</td>\n",
              "      <td>1910.997925</td>\n",
              "      <td>2819.642700</td>\n",
              "      <td>1838.989650</td>\n",
              "      <td>1572.333100</td>\n",
              "      <td>1512.676525</td>\n",
              "      <td>1900.875675</td>\n",
              "      <td>2151.280250</td>\n",
              "      <td>3294.699100</td>\n",
              "      <td>2082.751750</td>\n",
              "      <td>1901.467200</td>\n",
              "      <td>1545.273475</td>\n",
              "      <td>2537.145150</td>\n",
              "      <td>921.028275</td>\n",
              "      <td>1650.939025</td>\n",
              "      <td>1422.442500</td>\n",
              "      <td>1560.012825</td>\n",
              "      <td>1416.335900</td>\n",
              "      <td>1175.271800</td>\n",
              "      <td>1850.027550</td>\n",
              "      <td>1258.330050</td>\n",
              "      <td>893.686555</td>\n",
              "      <td>1414.655000</td>\n",
              "      <td>1265.376250</td>\n",
              "      <td>963.191550</td>\n",
              "      <td>1419.536425</td>\n",
              "      <td>...</td>\n",
              "      <td>41.089375</td>\n",
              "      <td>40.845625</td>\n",
              "      <td>61.557812</td>\n",
              "      <td>42.507500</td>\n",
              "      <td>27.512500</td>\n",
              "      <td>33.380059</td>\n",
              "      <td>119.756250</td>\n",
              "      <td>51.588125</td>\n",
              "      <td>43.374063</td>\n",
              "      <td>30.591250</td>\n",
              "      <td>142.063740</td>\n",
              "      <td>106.802813</td>\n",
              "      <td>22.445536</td>\n",
              "      <td>48.647916</td>\n",
              "      <td>44.088125</td>\n",
              "      <td>76.950000</td>\n",
              "      <td>53.410313</td>\n",
              "      <td>38.074062</td>\n",
              "      <td>37.255625</td>\n",
              "      <td>110.201875</td>\n",
              "      <td>38.524999</td>\n",
              "      <td>28.680312</td>\n",
              "      <td>47.329515</td>\n",
              "      <td>32.277187</td>\n",
              "      <td>24.349063</td>\n",
              "      <td>35.990133</td>\n",
              "      <td>28.098660</td>\n",
              "      <td>87.134062</td>\n",
              "      <td>33.091562</td>\n",
              "      <td>97.613125</td>\n",
              "      <td>117.778870</td>\n",
              "      <td>48.409375</td>\n",
              "      <td>161.518125</td>\n",
              "      <td>69.121250</td>\n",
              "      <td>71.637500</td>\n",
              "      <td>85.905057</td>\n",
              "      <td>30.701875</td>\n",
              "      <td>53.881563</td>\n",
              "      <td>27.334375</td>\n",
              "      <td>24.610000</td>\n",
              "    </tr>\n",
              "    <tr>\n",
              "      <th>50%</th>\n",
              "      <td>31.500000</td>\n",
              "      <td>6274.612550</td>\n",
              "      <td>4738.280500</td>\n",
              "      <td>3890.338150</td>\n",
              "      <td>3451.498150</td>\n",
              "      <td>2666.075700</td>\n",
              "      <td>4416.617650</td>\n",
              "      <td>3438.180000</td>\n",
              "      <td>2844.960650</td>\n",
              "      <td>4088.735500</td>\n",
              "      <td>3823.017800</td>\n",
              "      <td>2826.344350</td>\n",
              "      <td>2262.380750</td>\n",
              "      <td>2492.688100</td>\n",
              "      <td>2816.295000</td>\n",
              "      <td>2712.358850</td>\n",
              "      <td>3897.531200</td>\n",
              "      <td>2598.854500</td>\n",
              "      <td>2155.740600</td>\n",
              "      <td>2270.915000</td>\n",
              "      <td>2580.613150</td>\n",
              "      <td>2821.245000</td>\n",
              "      <td>4205.968800</td>\n",
              "      <td>3026.407450</td>\n",
              "      <td>2866.318750</td>\n",
              "      <td>2114.454700</td>\n",
              "      <td>3536.417850</td>\n",
              "      <td>1238.191650</td>\n",
              "      <td>2537.421750</td>\n",
              "      <td>2203.850550</td>\n",
              "      <td>2154.311850</td>\n",
              "      <td>2218.594350</td>\n",
              "      <td>1660.793800</td>\n",
              "      <td>2874.126200</td>\n",
              "      <td>1901.573150</td>\n",
              "      <td>1135.861250</td>\n",
              "      <td>1958.271250</td>\n",
              "      <td>1769.682500</td>\n",
              "      <td>1526.170000</td>\n",
              "      <td>2057.862750</td>\n",
              "      <td>...</td>\n",
              "      <td>64.441875</td>\n",
              "      <td>71.073125</td>\n",
              "      <td>104.259375</td>\n",
              "      <td>56.256875</td>\n",
              "      <td>47.458750</td>\n",
              "      <td>60.527975</td>\n",
              "      <td>252.145005</td>\n",
              "      <td>66.357500</td>\n",
              "      <td>93.665625</td>\n",
              "      <td>42.738750</td>\n",
              "      <td>249.394375</td>\n",
              "      <td>175.462505</td>\n",
              "      <td>36.244644</td>\n",
              "      <td>143.002970</td>\n",
              "      <td>68.923750</td>\n",
              "      <td>128.356945</td>\n",
              "      <td>90.375000</td>\n",
              "      <td>66.401250</td>\n",
              "      <td>67.405000</td>\n",
              "      <td>176.822495</td>\n",
              "      <td>65.128948</td>\n",
              "      <td>47.325625</td>\n",
              "      <td>86.543750</td>\n",
              "      <td>46.275000</td>\n",
              "      <td>40.516875</td>\n",
              "      <td>62.219736</td>\n",
              "      <td>40.495537</td>\n",
              "      <td>154.537500</td>\n",
              "      <td>53.750000</td>\n",
              "      <td>152.221250</td>\n",
              "      <td>152.722625</td>\n",
              "      <td>83.080625</td>\n",
              "      <td>251.883125</td>\n",
              "      <td>114.658125</td>\n",
              "      <td>104.271875</td>\n",
              "      <td>142.578565</td>\n",
              "      <td>56.385625</td>\n",
              "      <td>93.825625</td>\n",
              "      <td>45.358125</td>\n",
              "      <td>34.775000</td>\n",
              "    </tr>\n",
              "    <tr>\n",
              "      <th>75%</th>\n",
              "      <td>46.750000</td>\n",
              "      <td>8712.283250</td>\n",
              "      <td>6455.843300</td>\n",
              "      <td>5008.993925</td>\n",
              "      <td>4738.408950</td>\n",
              "      <td>3563.969400</td>\n",
              "      <td>6076.031850</td>\n",
              "      <td>4420.645200</td>\n",
              "      <td>3414.228475</td>\n",
              "      <td>6171.382750</td>\n",
              "      <td>4840.715525</td>\n",
              "      <td>4452.665550</td>\n",
              "      <td>2701.564975</td>\n",
              "      <td>3783.073450</td>\n",
              "      <td>3732.618825</td>\n",
              "      <td>3903.791150</td>\n",
              "      <td>5689.288750</td>\n",
              "      <td>3528.117450</td>\n",
              "      <td>2850.737500</td>\n",
              "      <td>3141.238200</td>\n",
              "      <td>3585.230075</td>\n",
              "      <td>4015.545275</td>\n",
              "      <td>5175.069200</td>\n",
              "      <td>4304.264175</td>\n",
              "      <td>3918.914300</td>\n",
              "      <td>2638.589050</td>\n",
              "      <td>6005.005000</td>\n",
              "      <td>1562.154775</td>\n",
              "      <td>3171.343200</td>\n",
              "      <td>2969.483750</td>\n",
              "      <td>3226.700300</td>\n",
              "      <td>3401.894675</td>\n",
              "      <td>2408.888050</td>\n",
              "      <td>3823.606200</td>\n",
              "      <td>2473.673125</td>\n",
              "      <td>1717.253550</td>\n",
              "      <td>2956.512500</td>\n",
              "      <td>2857.738750</td>\n",
              "      <td>2121.883750</td>\n",
              "      <td>2858.822650</td>\n",
              "      <td>...</td>\n",
              "      <td>96.124688</td>\n",
              "      <td>109.620312</td>\n",
              "      <td>202.349063</td>\n",
              "      <td>97.647500</td>\n",
              "      <td>67.532813</td>\n",
              "      <td>97.192859</td>\n",
              "      <td>717.615675</td>\n",
              "      <td>99.065000</td>\n",
              "      <td>156.652500</td>\n",
              "      <td>82.830938</td>\n",
              "      <td>379.323753</td>\n",
              "      <td>286.484380</td>\n",
              "      <td>51.166370</td>\n",
              "      <td>292.635120</td>\n",
              "      <td>94.648438</td>\n",
              "      <td>191.697230</td>\n",
              "      <td>125.748750</td>\n",
              "      <td>102.055312</td>\n",
              "      <td>105.196250</td>\n",
              "      <td>240.360937</td>\n",
              "      <td>132.379932</td>\n",
              "      <td>62.545625</td>\n",
              "      <td>153.776727</td>\n",
              "      <td>63.690313</td>\n",
              "      <td>71.107813</td>\n",
              "      <td>95.139802</td>\n",
              "      <td>83.622320</td>\n",
              "      <td>295.172180</td>\n",
              "      <td>83.565625</td>\n",
              "      <td>254.069065</td>\n",
              "      <td>247.298513</td>\n",
              "      <td>117.208438</td>\n",
              "      <td>424.742500</td>\n",
              "      <td>177.730310</td>\n",
              "      <td>149.772188</td>\n",
              "      <td>212.019948</td>\n",
              "      <td>101.231250</td>\n",
              "      <td>145.074062</td>\n",
              "      <td>66.235312</td>\n",
              "      <td>54.697500</td>\n",
              "    </tr>\n",
              "    <tr>\n",
              "      <th>max</th>\n",
              "      <td>62.000000</td>\n",
              "      <td>14876.407000</td>\n",
              "      <td>10152.273000</td>\n",
              "      <td>8605.044000</td>\n",
              "      <td>11248.680000</td>\n",
              "      <td>8093.875000</td>\n",
              "      <td>11222.682000</td>\n",
              "      <td>9939.246000</td>\n",
              "      <td>5917.026400</td>\n",
              "      <td>14144.835000</td>\n",
              "      <td>12307.913000</td>\n",
              "      <td>8021.137700</td>\n",
              "      <td>4224.231000</td>\n",
              "      <td>8878.309000</td>\n",
              "      <td>7860.928700</td>\n",
              "      <td>7190.996600</td>\n",
              "      <td>10694.517000</td>\n",
              "      <td>8875.920000</td>\n",
              "      <td>4680.407700</td>\n",
              "      <td>7498.049000</td>\n",
              "      <td>9255.164000</td>\n",
              "      <td>8706.220000</td>\n",
              "      <td>12112.095000</td>\n",
              "      <td>10051.350000</td>\n",
              "      <td>10721.298000</td>\n",
              "      <td>4620.137700</td>\n",
              "      <td>12061.600000</td>\n",
              "      <td>2714.634500</td>\n",
              "      <td>6943.249000</td>\n",
              "      <td>6196.501500</td>\n",
              "      <td>6215.131300</td>\n",
              "      <td>8193.987000</td>\n",
              "      <td>4026.877400</td>\n",
              "      <td>8418.048000</td>\n",
              "      <td>4246.701000</td>\n",
              "      <td>2822.997600</td>\n",
              "      <td>5684.589000</td>\n",
              "      <td>6190.576000</td>\n",
              "      <td>4111.697300</td>\n",
              "      <td>6961.134300</td>\n",
              "      <td>...</td>\n",
              "      <td>309.888760</td>\n",
              "      <td>255.560000</td>\n",
              "      <td>2586.041300</td>\n",
              "      <td>158.012500</td>\n",
              "      <td>212.325000</td>\n",
              "      <td>248.822620</td>\n",
              "      <td>2002.773800</td>\n",
              "      <td>205.428760</td>\n",
              "      <td>800.747500</td>\n",
              "      <td>285.026250</td>\n",
              "      <td>654.580000</td>\n",
              "      <td>670.437500</td>\n",
              "      <td>112.685710</td>\n",
              "      <td>1878.304800</td>\n",
              "      <td>269.295000</td>\n",
              "      <td>1174.891700</td>\n",
              "      <td>266.388760</td>\n",
              "      <td>534.781250</td>\n",
              "      <td>154.807500</td>\n",
              "      <td>554.676300</td>\n",
              "      <td>280.576320</td>\n",
              "      <td>147.623750</td>\n",
              "      <td>577.147200</td>\n",
              "      <td>107.090000</td>\n",
              "      <td>216.385000</td>\n",
              "      <td>242.228940</td>\n",
              "      <td>255.076800</td>\n",
              "      <td>1090.617600</td>\n",
              "      <td>217.951250</td>\n",
              "      <td>496.083740</td>\n",
              "      <td>725.338100</td>\n",
              "      <td>438.383760</td>\n",
              "      <td>902.572500</td>\n",
              "      <td>333.418760</td>\n",
              "      <td>464.930000</td>\n",
              "      <td>702.130900</td>\n",
              "      <td>405.600000</td>\n",
              "      <td>390.890000</td>\n",
              "      <td>197.220000</td>\n",
              "      <td>126.826250</td>\n",
              "    </tr>\n",
              "  </tbody>\n",
              "</table>\n",
              "<p>8 rows × 2001 columns</p>\n",
              "</div>"
            ],
            "text/plain": [
              "       Unnamed: 0        H55933  ...      R77780      T49647\n",
              "count   62.000000     62.000000  ...   62.000000   62.000000\n",
              "mean    31.500000   7015.786703  ...   53.251230   42.965827\n",
              "std     18.041619   3092.970593  ...   38.462814   28.395175\n",
              "min      1.000000   1914.677500  ...    5.842500    5.816250\n",
              "25%     16.250000   4877.364750  ...   27.334375   24.610000\n",
              "50%     31.500000   6274.612550  ...   45.358125   34.775000\n",
              "75%     46.750000   8712.283250  ...   66.235312   54.697500\n",
              "max     62.000000  14876.407000  ...  197.220000  126.826250\n",
              "\n",
              "[8 rows x 2001 columns]"
            ]
          },
          "metadata": {
            "tags": []
          },
          "execution_count": 8
        }
      ]
    },
    {
      "cell_type": "code",
      "metadata": {
        "colab": {
          "base_uri": "https://localhost:8080/",
          "height": 337
        },
        "id": "AQIZ6PAHPZ62",
        "outputId": "f27d2ab6-cefb-41c9-e749-52d3f880fa3f"
      },
      "source": [
        "sns.heatmap(colon.isnull(),cbar=False)"
      ],
      "execution_count": null,
      "outputs": [
        {
          "output_type": "execute_result",
          "data": {
            "text/plain": [
              "<matplotlib.axes._subplots.AxesSubplot at 0x7fa7b32fb3c8>"
            ]
          },
          "metadata": {
            "tags": []
          },
          "execution_count": 9
        },
        {
          "output_type": "display_data",
          "data": {
            "image/png": "[encoded data removed]",
            "text/plain": [
              "<Figure size 432x288 with 1 Axes>"
            ]
          },
          "metadata": {
            "tags": [],
            "needs_background": "light"
          }
        }
      ]
    },
    {
      "cell_type": "code",
      "metadata": {
        "id": "jzyPwLJgQHN7"
      },
      "source": [
        "df = colon.drop(columns=['Unnamed: 0'],axis=1)"
      ],
      "execution_count": null,
      "outputs": []
    },
    {
      "cell_type": "code",
      "metadata": {
        "colab": {
          "base_uri": "https://localhost:8080/"
        },
        "id": "WzoeMgrlRAmn",
        "outputId": "d7d3e926-a0f6-4dca-cbc6-8c82537d9d6d"
      },
      "source": [
        "df.info()"
      ],
      "execution_count": null,
      "outputs": [
        {
          "output_type": "stream",
          "text": [
            "<class 'pandas.core.frame.DataFrame'>\n",
            "RangeIndex: 62 entries, 0 to 61\n",
            "Columns: 2001 entries, H55933 to Class\n",
            "dtypes: float64(2000), object(1)\n",
            "memory usage: 969.4+ KB\n"
          ],
          "name": "stdout"
        }
      ]
    },
    {
      "cell_type": "code",
      "metadata": {
        "id": "J4QhI04vatcP"
      },
      "source": [
        "df = colon.drop(columns=['Unnamed: 0'],axis=1)"
      ],
      "execution_count": null,
      "outputs": []
    },
    {
      "cell_type": "code",
      "metadata": {
        "colab": {
          "base_uri": "https://localhost:8080/",
          "height": 247
        },
        "id": "fF8XECTuawum",
        "outputId": "cf01f738-a511-4ca0-f503-13ed19194dff"
      },
      "source": [
        "df.head()\r\n"
      ],
      "execution_count": null,
      "outputs": [
        {
          "output_type": "execute_result",
          "data": {
            "text/html": [
              "<div>\n",
              "<style scoped>\n",
              "    .dataframe tbody tr th:only-of-type {\n",
              "        vertical-align: middle;\n",
              "    }\n",
              "\n",
              "    .dataframe tbody tr th {\n",
              "        vertical-align: top;\n",
              "    }\n",
              "\n",
              "    .dataframe thead th {\n",
              "        text-align: right;\n",
              "    }\n",
              "</style>\n",
              "<table border=\"1\" class=\"dataframe\">\n",
              "  <thead>\n",
              "    <tr style=\"text-align: right;\">\n",
              "      <th></th>\n",
              "      <th>H55933</th>\n",
              "      <th>R39465</th>\n",
              "      <th>R39465_</th>\n",
              "      <th>R85482</th>\n",
              "      <th>U14973</th>\n",
              "      <th>R02593</th>\n",
              "      <th>T51496</th>\n",
              "      <th>H80240</th>\n",
              "      <th>T65938</th>\n",
              "      <th>T55131</th>\n",
              "      <th>T72863</th>\n",
              "      <th>H86060_</th>\n",
              "      <th>X63432</th>\n",
              "      <th>H20709</th>\n",
              "      <th>U14971</th>\n",
              "      <th>T52342</th>\n",
              "      <th>L28809</th>\n",
              "      <th>T63508</th>\n",
              "      <th>H09263</th>\n",
              "      <th>T49423</th>\n",
              "      <th>H79852</th>\n",
              "      <th>J02763</th>\n",
              "      <th>R22197</th>\n",
              "      <th>T59954</th>\n",
              "      <th>H80240_</th>\n",
              "      <th>T95018</th>\n",
              "      <th>H86060</th>\n",
              "      <th>T63484</th>\n",
              "      <th>R02593_</th>\n",
              "      <th>M11799</th>\n",
              "      <th>T61609</th>\n",
              "      <th>T62220</th>\n",
              "      <th>T51574</th>\n",
              "      <th>T48041</th>\n",
              "      <th>T96832</th>\n",
              "      <th>H54676</th>\n",
              "      <th>R86975</th>\n",
              "      <th>T63258</th>\n",
              "      <th>control1</th>\n",
              "      <th>control2</th>\n",
              "      <th>...</th>\n",
              "      <th>R78142</th>\n",
              "      <th>R62945</th>\n",
              "      <th>X70070</th>\n",
              "      <th>U05040</th>\n",
              "      <th>U33429</th>\n",
              "      <th>T60778</th>\n",
              "      <th>X04011</th>\n",
              "      <th>L12350</th>\n",
              "      <th>R06749</th>\n",
              "      <th>U24105</th>\n",
              "      <th>T57468</th>\n",
              "      <th>M55422</th>\n",
              "      <th>M64110</th>\n",
              "      <th>U14577</th>\n",
              "      <th>K03474</th>\n",
              "      <th>T49204</th>\n",
              "      <th>D00760</th>\n",
              "      <th>H20856</th>\n",
              "      <th>R98410</th>\n",
              "      <th>H62854</th>\n",
              "      <th>T89666</th>\n",
              "      <th>D38551</th>\n",
              "      <th>U12140</th>\n",
              "      <th>M63239</th>\n",
              "      <th>D14689</th>\n",
              "      <th>M67454</th>\n",
              "      <th>T64128</th>\n",
              "      <th>R76825</th>\n",
              "      <th>U15212</th>\n",
              "      <th>X67699</th>\n",
              "      <th>R70790</th>\n",
              "      <th>L11706</th>\n",
              "      <th>T90549</th>\n",
              "      <th>D17390</th>\n",
              "      <th>M33210</th>\n",
              "      <th>H18490</th>\n",
              "      <th>H40891</th>\n",
              "      <th>R77780</th>\n",
              "      <th>T49647</th>\n",
              "      <th>Class</th>\n",
              "    </tr>\n",
              "  </thead>\n",
              "  <tbody>\n",
              "    <tr>\n",
              "      <th>0</th>\n",
              "      <td>8589.4160</td>\n",
              "      <td>5468.2407</td>\n",
              "      <td>4263.4077</td>\n",
              "      <td>4064.9358</td>\n",
              "      <td>1997.8930</td>\n",
              "      <td>5282.3250</td>\n",
              "      <td>2169.7200</td>\n",
              "      <td>2773.4211</td>\n",
              "      <td>7526.3860</td>\n",
              "      <td>4607.6763</td>\n",
              "      <td>2598.0600</td>\n",
              "      <td>1522.6462</td>\n",
              "      <td>1300.5988</td>\n",
              "      <td>1181.6300</td>\n",
              "      <td>2417.95830</td>\n",
              "      <td>3139.4000</td>\n",
              "      <td>2473.2612</td>\n",
              "      <td>1306.9038</td>\n",
              "      <td>1285.6025</td>\n",
              "      <td>1900.3613</td>\n",
              "      <td>3504.2139</td>\n",
              "      <td>2428.0525</td>\n",
              "      <td>5150.0137</td>\n",
              "      <td>3855.8400</td>\n",
              "      <td>1806.4750</td>\n",
              "      <td>3192.4130</td>\n",
              "      <td>872.0143</td>\n",
              "      <td>1135.82390</td>\n",
              "      <td>2365.2424</td>\n",
              "      <td>1567.2363</td>\n",
              "      <td>1643.5575</td>\n",
              "      <td>1582.03500</td>\n",
              "      <td>2854.9875</td>\n",
              "      <td>2513.3350</td>\n",
              "      <td>930.0712</td>\n",
              "      <td>3166.5800</td>\n",
              "      <td>930.3038</td>\n",
              "      <td>2018.3550</td>\n",
              "      <td>2065.5945</td>\n",
              "      <td>2065.5945</td>\n",
              "      <td>...</td>\n",
              "      <td>135.19624</td>\n",
              "      <td>98.47250</td>\n",
              "      <td>74.65250</td>\n",
              "      <td>46.80125</td>\n",
              "      <td>75.626190</td>\n",
              "      <td>228.42250</td>\n",
              "      <td>77.22375</td>\n",
              "      <td>47.94625</td>\n",
              "      <td>34.68750</td>\n",
              "      <td>225.91500</td>\n",
              "      <td>243.41250</td>\n",
              "      <td>35.825000</td>\n",
              "      <td>177.23810</td>\n",
              "      <td>64.71125</td>\n",
              "      <td>88.44444</td>\n",
              "      <td>107.83375</td>\n",
              "      <td>42.16750</td>\n",
              "      <td>47.62125</td>\n",
              "      <td>163.80125</td>\n",
              "      <td>86.000000</td>\n",
              "      <td>69.35250</td>\n",
              "      <td>90.344444</td>\n",
              "      <td>58.44750</td>\n",
              "      <td>52.86625</td>\n",
              "      <td>12.202632</td>\n",
              "      <td>20.689285</td>\n",
              "      <td>86.81000</td>\n",
              "      <td>51.46000</td>\n",
              "      <td>289.42374</td>\n",
              "      <td>99.11072</td>\n",
              "      <td>67.56125</td>\n",
              "      <td>259.91250</td>\n",
              "      <td>138.89874</td>\n",
              "      <td>88.23250</td>\n",
              "      <td>39.66786</td>\n",
              "      <td>67.82875</td>\n",
              "      <td>75.67750</td>\n",
              "      <td>83.52250</td>\n",
              "      <td>28.70125</td>\n",
              "      <td>Abnormal</td>\n",
              "    </tr>\n",
              "    <tr>\n",
              "      <th>1</th>\n",
              "      <td>9164.2540</td>\n",
              "      <td>6719.5293</td>\n",
              "      <td>4883.4487</td>\n",
              "      <td>3718.1590</td>\n",
              "      <td>2015.2214</td>\n",
              "      <td>5569.9070</td>\n",
              "      <td>3849.0588</td>\n",
              "      <td>2793.3875</td>\n",
              "      <td>7017.7340</td>\n",
              "      <td>4802.2524</td>\n",
              "      <td>1672.9750</td>\n",
              "      <td>1792.1769</td>\n",
              "      <td>3792.5425</td>\n",
              "      <td>3630.3826</td>\n",
              "      <td>1906.21310</td>\n",
              "      <td>5745.3960</td>\n",
              "      <td>1919.4462</td>\n",
              "      <td>2036.2838</td>\n",
              "      <td>2253.3625</td>\n",
              "      <td>2490.8738</td>\n",
              "      <td>3759.5850</td>\n",
              "      <td>4268.9185</td>\n",
              "      <td>4166.1914</td>\n",
              "      <td>4286.6900</td>\n",
              "      <td>2699.2844</td>\n",
              "      <td>2796.0833</td>\n",
              "      <td>1015.9143</td>\n",
              "      <td>1459.10250</td>\n",
              "      <td>2865.0388</td>\n",
              "      <td>1156.9563</td>\n",
              "      <td>1351.9650</td>\n",
              "      <td>3218.32130</td>\n",
              "      <td>3855.5337</td>\n",
              "      <td>3097.4539</td>\n",
              "      <td>1667.5425</td>\n",
              "      <td>2779.3037</td>\n",
              "      <td>1064.2675</td>\n",
              "      <td>2430.8790</td>\n",
              "      <td>2814.2800</td>\n",
              "      <td>2814.2800</td>\n",
              "      <td>...</td>\n",
              "      <td>169.08000</td>\n",
              "      <td>76.40750</td>\n",
              "      <td>119.05750</td>\n",
              "      <td>62.59750</td>\n",
              "      <td>81.463100</td>\n",
              "      <td>1803.76370</td>\n",
              "      <td>100.05250</td>\n",
              "      <td>101.37625</td>\n",
              "      <td>61.82250</td>\n",
              "      <td>330.16125</td>\n",
              "      <td>202.20500</td>\n",
              "      <td>37.129760</td>\n",
              "      <td>605.53810</td>\n",
              "      <td>91.29500</td>\n",
              "      <td>86.03611</td>\n",
              "      <td>48.45875</td>\n",
              "      <td>37.41750</td>\n",
              "      <td>86.38625</td>\n",
              "      <td>163.13875</td>\n",
              "      <td>146.125000</td>\n",
              "      <td>89.59000</td>\n",
              "      <td>124.708330</td>\n",
              "      <td>35.79375</td>\n",
              "      <td>62.05875</td>\n",
              "      <td>39.719738</td>\n",
              "      <td>83.142860</td>\n",
              "      <td>321.33750</td>\n",
              "      <td>41.59125</td>\n",
              "      <td>263.36874</td>\n",
              "      <td>126.78929</td>\n",
              "      <td>92.23875</td>\n",
              "      <td>96.27625</td>\n",
              "      <td>150.59000</td>\n",
              "      <td>82.23750</td>\n",
              "      <td>85.03333</td>\n",
              "      <td>152.19500</td>\n",
              "      <td>186.56750</td>\n",
              "      <td>44.47250</td>\n",
              "      <td>16.77375</td>\n",
              "      <td>Normal</td>\n",
              "    </tr>\n",
              "    <tr>\n",
              "      <th>2</th>\n",
              "      <td>3825.7050</td>\n",
              "      <td>6970.3613</td>\n",
              "      <td>5369.9688</td>\n",
              "      <td>4705.6500</td>\n",
              "      <td>1166.5536</td>\n",
              "      <td>1572.1678</td>\n",
              "      <td>1325.4025</td>\n",
              "      <td>1472.2587</td>\n",
              "      <td>3296.9512</td>\n",
              "      <td>2786.5820</td>\n",
              "      <td>2441.4187</td>\n",
              "      <td>1487.6711</td>\n",
              "      <td>1315.8538</td>\n",
              "      <td>855.4550</td>\n",
              "      <td>802.30475</td>\n",
              "      <td>3251.1084</td>\n",
              "      <td>781.9950</td>\n",
              "      <td>1618.6500</td>\n",
              "      <td>1066.8387</td>\n",
              "      <td>1006.2112</td>\n",
              "      <td>1436.7850</td>\n",
              "      <td>658.8787</td>\n",
              "      <td>1924.7913</td>\n",
              "      <td>2080.6611</td>\n",
              "      <td>1155.9438</td>\n",
              "      <td>1444.0964</td>\n",
              "      <td>853.4429</td>\n",
              "      <td>734.52875</td>\n",
              "      <td>763.3075</td>\n",
              "      <td>704.1175</td>\n",
              "      <td>591.8088</td>\n",
              "      <td>807.39374</td>\n",
              "      <td>2138.8726</td>\n",
              "      <td>1734.1150</td>\n",
              "      <td>905.6200</td>\n",
              "      <td>1378.1200</td>\n",
              "      <td>797.1925</td>\n",
              "      <td>1880.1875</td>\n",
              "      <td>1389.6302</td>\n",
              "      <td>1389.6302</td>\n",
              "      <td>...</td>\n",
              "      <td>62.98000</td>\n",
              "      <td>51.04375</td>\n",
              "      <td>104.76250</td>\n",
              "      <td>10.15750</td>\n",
              "      <td>47.025000</td>\n",
              "      <td>460.56750</td>\n",
              "      <td>64.46125</td>\n",
              "      <td>159.98000</td>\n",
              "      <td>99.53250</td>\n",
              "      <td>122.04250</td>\n",
              "      <td>97.26750</td>\n",
              "      <td>23.496430</td>\n",
              "      <td>119.11190</td>\n",
              "      <td>75.15500</td>\n",
              "      <td>122.41389</td>\n",
              "      <td>40.46750</td>\n",
              "      <td>6.15625</td>\n",
              "      <td>10.62375</td>\n",
              "      <td>128.99374</td>\n",
              "      <td>24.917105</td>\n",
              "      <td>77.06375</td>\n",
              "      <td>33.443054</td>\n",
              "      <td>14.43625</td>\n",
              "      <td>30.18500</td>\n",
              "      <td>24.805264</td>\n",
              "      <td>6.016071</td>\n",
              "      <td>116.18375</td>\n",
              "      <td>50.87375</td>\n",
              "      <td>71.40125</td>\n",
              "      <td>151.87738</td>\n",
              "      <td>82.71500</td>\n",
              "      <td>31.10250</td>\n",
              "      <td>193.92000</td>\n",
              "      <td>76.97250</td>\n",
              "      <td>224.62024</td>\n",
              "      <td>31.22500</td>\n",
              "      <td>42.65625</td>\n",
              "      <td>16.09250</td>\n",
              "      <td>15.15625</td>\n",
              "      <td>Abnormal</td>\n",
              "    </tr>\n",
              "    <tr>\n",
              "      <th>3</th>\n",
              "      <td>6246.4487</td>\n",
              "      <td>7823.5340</td>\n",
              "      <td>5955.8350</td>\n",
              "      <td>3975.5642</td>\n",
              "      <td>2002.6132</td>\n",
              "      <td>2130.5430</td>\n",
              "      <td>1531.1425</td>\n",
              "      <td>1714.6312</td>\n",
              "      <td>3869.7850</td>\n",
              "      <td>4989.4070</td>\n",
              "      <td>1723.5800</td>\n",
              "      <td>1298.7250</td>\n",
              "      <td>1309.3475</td>\n",
              "      <td>1789.6700</td>\n",
              "      <td>1587.79170</td>\n",
              "      <td>3496.1458</td>\n",
              "      <td>1226.2975</td>\n",
              "      <td>1597.2812</td>\n",
              "      <td>1144.6912</td>\n",
              "      <td>1139.6274</td>\n",
              "      <td>2662.0974</td>\n",
              "      <td>2636.1562</td>\n",
              "      <td>3134.7476</td>\n",
              "      <td>4244.0700</td>\n",
              "      <td>1186.8938</td>\n",
              "      <td>2342.3820</td>\n",
              "      <td>792.2143</td>\n",
              "      <td>1133.23750</td>\n",
              "      <td>969.8237</td>\n",
              "      <td>835.3862</td>\n",
              "      <td>1392.7162</td>\n",
              "      <td>3034.57130</td>\n",
              "      <td>4699.3950</td>\n",
              "      <td>3312.4812</td>\n",
              "      <td>854.4288</td>\n",
              "      <td>1880.5400</td>\n",
              "      <td>1329.3225</td>\n",
              "      <td>3124.2488</td>\n",
              "      <td>2456.0930</td>\n",
              "      <td>2456.0930</td>\n",
              "      <td>...</td>\n",
              "      <td>61.42375</td>\n",
              "      <td>97.97375</td>\n",
              "      <td>34.58875</td>\n",
              "      <td>63.75875</td>\n",
              "      <td>45.223810</td>\n",
              "      <td>799.94500</td>\n",
              "      <td>71.27625</td>\n",
              "      <td>24.16875</td>\n",
              "      <td>40.38625</td>\n",
              "      <td>198.43500</td>\n",
              "      <td>170.53876</td>\n",
              "      <td>16.402382</td>\n",
              "      <td>172.44524</td>\n",
              "      <td>90.45500</td>\n",
              "      <td>140.83057</td>\n",
              "      <td>31.11625</td>\n",
              "      <td>21.02875</td>\n",
              "      <td>70.51875</td>\n",
              "      <td>203.06375</td>\n",
              "      <td>174.063160</td>\n",
              "      <td>86.48125</td>\n",
              "      <td>76.851390</td>\n",
              "      <td>38.58875</td>\n",
              "      <td>10.61125</td>\n",
              "      <td>35.985527</td>\n",
              "      <td>43.935715</td>\n",
              "      <td>239.27000</td>\n",
              "      <td>29.55875</td>\n",
              "      <td>367.58124</td>\n",
              "      <td>152.59525</td>\n",
              "      <td>41.68375</td>\n",
              "      <td>5.92500</td>\n",
              "      <td>183.00626</td>\n",
              "      <td>74.52875</td>\n",
              "      <td>67.71072</td>\n",
              "      <td>48.33875</td>\n",
              "      <td>42.52000</td>\n",
              "      <td>49.98250</td>\n",
              "      <td>16.08500</td>\n",
              "      <td>Normal</td>\n",
              "    </tr>\n",
              "    <tr>\n",
              "      <th>4</th>\n",
              "      <td>3230.3286</td>\n",
              "      <td>3694.4500</td>\n",
              "      <td>3400.7400</td>\n",
              "      <td>3463.5857</td>\n",
              "      <td>2181.4202</td>\n",
              "      <td>2922.7820</td>\n",
              "      <td>2069.2463</td>\n",
              "      <td>2948.5750</td>\n",
              "      <td>3303.3710</td>\n",
              "      <td>3109.4130</td>\n",
              "      <td>2724.2660</td>\n",
              "      <td>2557.7847</td>\n",
              "      <td>3164.6963</td>\n",
              "      <td>2285.3088</td>\n",
              "      <td>2576.74880</td>\n",
              "      <td>3056.7250</td>\n",
              "      <td>1391.5900</td>\n",
              "      <td>2162.5537</td>\n",
              "      <td>1540.2500</td>\n",
              "      <td>2705.6750</td>\n",
              "      <td>1271.7188</td>\n",
              "      <td>4439.8910</td>\n",
              "      <td>2030.6738</td>\n",
              "      <td>2249.8188</td>\n",
              "      <td>2150.1218</td>\n",
              "      <td>3350.5024</td>\n",
              "      <td>1563.9893</td>\n",
              "      <td>1903.58250</td>\n",
              "      <td>1568.1113</td>\n",
              "      <td>1368.8175</td>\n",
              "      <td>2648.2676</td>\n",
              "      <td>1073.41000</td>\n",
              "      <td>1207.4163</td>\n",
              "      <td>1201.7687</td>\n",
              "      <td>1733.8239</td>\n",
              "      <td>621.6500</td>\n",
              "      <td>1381.4825</td>\n",
              "      <td>719.4525</td>\n",
              "      <td>967.3576</td>\n",
              "      <td>967.3576</td>\n",
              "      <td>...</td>\n",
              "      <td>40.36000</td>\n",
              "      <td>22.07125</td>\n",
              "      <td>6.37000</td>\n",
              "      <td>17.33375</td>\n",
              "      <td>45.464287</td>\n",
              "      <td>105.94625</td>\n",
              "      <td>28.90500</td>\n",
              "      <td>75.84375</td>\n",
              "      <td>42.00125</td>\n",
              "      <td>123.20875</td>\n",
              "      <td>42.02250</td>\n",
              "      <td>19.664286</td>\n",
              "      <td>49.37738</td>\n",
              "      <td>62.65250</td>\n",
              "      <td>52.74167</td>\n",
              "      <td>55.26750</td>\n",
              "      <td>30.60375</td>\n",
              "      <td>57.94250</td>\n",
              "      <td>149.38500</td>\n",
              "      <td>24.352633</td>\n",
              "      <td>29.42375</td>\n",
              "      <td>49.856945</td>\n",
              "      <td>80.67375</td>\n",
              "      <td>50.12125</td>\n",
              "      <td>71.184210</td>\n",
              "      <td>29.364286</td>\n",
              "      <td>52.59125</td>\n",
              "      <td>43.63625</td>\n",
              "      <td>56.07250</td>\n",
              "      <td>126.46429</td>\n",
              "      <td>76.60375</td>\n",
              "      <td>161.35000</td>\n",
              "      <td>61.70125</td>\n",
              "      <td>54.56375</td>\n",
              "      <td>223.35953</td>\n",
              "      <td>73.09875</td>\n",
              "      <td>57.59875</td>\n",
              "      <td>7.48875</td>\n",
              "      <td>31.81250</td>\n",
              "      <td>Abnormal</td>\n",
              "    </tr>\n",
              "  </tbody>\n",
              "</table>\n",
              "<p>5 rows × 2001 columns</p>\n",
              "</div>"
            ],
            "text/plain": [
              "      H55933     R39465    R39465_  ...    R77780    T49647     Class\n",
              "0  8589.4160  5468.2407  4263.4077  ...  83.52250  28.70125  Abnormal\n",
              "1  9164.2540  6719.5293  4883.4487  ...  44.47250  16.77375    Normal\n",
              "2  3825.7050  6970.3613  5369.9688  ...  16.09250  15.15625  Abnormal\n",
              "3  6246.4487  7823.5340  5955.8350  ...  49.98250  16.08500    Normal\n",
              "4  3230.3286  3694.4500  3400.7400  ...   7.48875  31.81250  Abnormal\n",
              "\n",
              "[5 rows x 2001 columns]"
            ]
          },
          "metadata": {
            "tags": []
          },
          "execution_count": 13
        }
      ]
    },
    {
      "cell_type": "code",
      "metadata": {
        "id": "IWudOWnrazH_"
      },
      "source": [
        "X = df.drop(['Class'],axis=1)\r\n",
        "y = df['Class']"
      ],
      "execution_count": null,
      "outputs": []
    },
    {
      "cell_type": "markdown",
      "metadata": {
        "id": "tPQtNAG9pA5U"
      },
      "source": [
        "### Taking Dummy Values"
      ]
    },
    {
      "cell_type": "code",
      "metadata": {
        "id": "upkUo7frnGgG",
        "colab": {
          "base_uri": "https://localhost:8080/",
          "height": 198
        },
        "outputId": "14f9ae5e-76d7-49b4-829e-c655d20a29cd"
      },
      "source": [
        "Y = pd.get_dummies(y,drop_first=True)\r\n",
        "Y.head()"
      ],
      "execution_count": null,
      "outputs": [
        {
          "output_type": "execute_result",
          "data": {
            "text/html": [
              "<div>\n",
              "<style scoped>\n",
              "    .dataframe tbody tr th:only-of-type {\n",
              "        vertical-align: middle;\n",
              "    }\n",
              "\n",
              "    .dataframe tbody tr th {\n",
              "        vertical-align: top;\n",
              "    }\n",
              "\n",
              "    .dataframe thead th {\n",
              "        text-align: right;\n",
              "    }\n",
              "</style>\n",
              "<table border=\"1\" class=\"dataframe\">\n",
              "  <thead>\n",
              "    <tr style=\"text-align: right;\">\n",
              "      <th></th>\n",
              "      <th>Normal</th>\n",
              "    </tr>\n",
              "  </thead>\n",
              "  <tbody>\n",
              "    <tr>\n",
              "      <th>0</th>\n",
              "      <td>0</td>\n",
              "    </tr>\n",
              "    <tr>\n",
              "      <th>1</th>\n",
              "      <td>1</td>\n",
              "    </tr>\n",
              "    <tr>\n",
              "      <th>2</th>\n",
              "      <td>0</td>\n",
              "    </tr>\n",
              "    <tr>\n",
              "      <th>3</th>\n",
              "      <td>1</td>\n",
              "    </tr>\n",
              "    <tr>\n",
              "      <th>4</th>\n",
              "      <td>0</td>\n",
              "    </tr>\n",
              "  </tbody>\n",
              "</table>\n",
              "</div>"
            ],
            "text/plain": [
              "   Normal\n",
              "0       0\n",
              "1       1\n",
              "2       0\n",
              "3       1\n",
              "4       0"
            ]
          },
          "metadata": {
            "tags": []
          },
          "execution_count": 15
        }
      ]
    },
    {
      "cell_type": "markdown",
      "metadata": {
        "id": "HkWo4ue6pH5Q"
      },
      "source": [
        "### Spliting of Training and testing dataset"
      ]
    },
    {
      "cell_type": "code",
      "metadata": {
        "id": "ojaBAAHqnffP"
      },
      "source": [
        "from sklearn.model_selection import train_test_split"
      ],
      "execution_count": null,
      "outputs": []
    },
    {
      "cell_type": "code",
      "metadata": {
        "id": "TR4GCXMDniC8"
      },
      "source": [
        "X_train, X_test, y_train, y_test = train_test_split(X, Y, test_size=0.2, random_state=101)"
      ],
      "execution_count": null,
      "outputs": []
    },
    {
      "cell_type": "markdown",
      "metadata": {
        "id": "uZGeIIDqpTjE"
      },
      "source": [
        "### KNN Classification"
      ]
    },
    {
      "cell_type": "code",
      "metadata": {
        "id": "G7BtyXwxnj_S"
      },
      "source": [
        "from sklearn.neighbors import KNeighborsClassifier\r\n",
        "from sklearn import metrics"
      ],
      "execution_count": null,
      "outputs": []
    },
    {
      "cell_type": "code",
      "metadata": {
        "id": "q8zdlak7npLo"
      },
      "source": [
        "K = 15\r\n",
        "acc = np.zeros((K-1))\r\n",
        "for k in range(1,K):\r\n",
        "  clf_knn = KNeighborsClassifier(n_neighbors=k).fit(X_train,y_train)\r\n",
        "  y_pred_knn = clf_knn.predict(X_test)\r\n",
        "  acc[k-1] = metrics.accuracy_score(y_test,y_pred_knn)"
      ],
      "execution_count": null,
      "outputs": []
    },
    {
      "cell_type": "code",
      "metadata": {
        "id": "R-3QELzBnt4m",
        "colab": {
          "base_uri": "https://localhost:8080/"
        },
        "outputId": "82da8f0e-9fad-4b7e-b9da-465b7f7c2cbb"
      },
      "source": [
        "print(\"The Best Accuracy is:\",acc.max()*100,\"% with k=\",acc.argmax()+1)"
      ],
      "execution_count": null,
      "outputs": [
        {
          "output_type": "stream",
          "text": [
            "The Best Accuracy is: 92.3076923076923 % with k= 5\n"
          ],
          "name": "stdout"
        }
      ]
    },
    {
      "cell_type": "code",
      "metadata": {
        "id": "_8H3stri5qA0"
      },
      "source": [
        ""
      ],
      "execution_count": null,
      "outputs": []
    },
    {
      "cell_type": "code",
      "metadata": {
        "id": "TmynnnzZF0Kf",
        "colab": {
          "base_uri": "https://localhost:8080/"
        },
        "outputId": "bdce2ffb-5164-4a68-832b-03a893e41288"
      },
      "source": [
        "knn_model = KNeighborsClassifier(n_neighbors=5).fit(X_train,y_train)\r\n",
        "y_pred_knn = knn_model.predict(X_test)\r\n",
        "print(\"Accuracy : \",metrics.accuracy_score(y_test,y_pred_knn))"
      ],
      "execution_count": null,
      "outputs": [
        {
          "output_type": "stream",
          "text": [
            "Accuracy :  0.9230769230769231\n"
          ],
          "name": "stdout"
        }
      ]
    },
    {
      "cell_type": "code",
      "metadata": {
        "id": "-UrU4EsKF5TP",
        "colab": {
          "base_uri": "https://localhost:8080/"
        },
        "outputId": "1dab4600-990d-4fc1-90d9-1028672f670d"
      },
      "source": [
        "print(\"Train Accuracy :\", knn_model.score(X_train, y_train), \"Testing Accuracy :\", knn_model.score(X_test, y_test))"
      ],
      "execution_count": null,
      "outputs": [
        {
          "output_type": "stream",
          "text": [
            "Train Accuracy : 0.8571428571428571 Testing Accuracy : 0.9230769230769231\n"
          ],
          "name": "stdout"
        }
      ]
    },
    {
      "cell_type": "code",
      "metadata": {
        "id": "xyZdDimVLj5N",
        "colab": {
          "base_uri": "https://localhost:8080/"
        },
        "outputId": "d10df835-0dd7-49d4-89cb-d26d1da2fbf7"
      },
      "source": [
        "from sklearn.metrics import precision_score\r\n",
        "print(precision_score(y_test, y_pred_knn, average='macro'))\r\n",
        "print(precision_score(y_test, y_pred_knn, average='micro'))\r\n",
        "print(precision_score(y_test, y_pred_knn, average='weighted'))"
      ],
      "execution_count": null,
      "outputs": [
        {
          "output_type": "stream",
          "text": [
            "0.9\n",
            "0.9230769230769231\n",
            "0.9384615384615385\n"
          ],
          "name": "stdout"
        }
      ]
    },
    {
      "cell_type": "markdown",
      "metadata": {
        "id": "09D960wJpZUQ"
      },
      "source": [
        "### Logistic Regression"
      ]
    },
    {
      "cell_type": "code",
      "metadata": {
        "id": "pbNYlMgjnxwj"
      },
      "source": [
        "from sklearn.linear_model import LogisticRegression"
      ],
      "execution_count": null,
      "outputs": []
    },
    {
      "cell_type": "code",
      "metadata": {
        "id": "rAPMrpHjnz8m"
      },
      "source": [
        "clf_logreg = LogisticRegression(max_iter=50, verbose=1, random_state=101)"
      ],
      "execution_count": null,
      "outputs": []
    },
    {
      "cell_type": "code",
      "metadata": {
        "id": "ijfYeHQhn3Fj",
        "colab": {
          "base_uri": "https://localhost:8080/"
        },
        "outputId": "e2ed96a5-5d46-45bc-b735-9835eeddb476"
      },
      "source": [
        "clf_logreg.fit(X_train, y_train)"
      ],
      "execution_count": null,
      "outputs": [
        {
          "output_type": "stream",
          "text": [
            "[Parallel(n_jobs=1)]: Using backend SequentialBackend with 1 concurrent workers.\n",
            "[Parallel(n_jobs=1)]: Done   1 out of   1 | elapsed:    0.1s finished\n"
          ],
          "name": "stderr"
        },
        {
          "output_type": "execute_result",
          "data": {
            "text/plain": [
              "LogisticRegression(C=1.0, class_weight=None, dual=False, fit_intercept=True,\n",
              "                   intercept_scaling=1, l1_ratio=None, max_iter=50,\n",
              "                   multi_class='auto', n_jobs=None, penalty='l2',\n",
              "                   random_state=101, solver='lbfgs', tol=0.0001, verbose=1,\n",
              "                   warm_start=False)"
            ]
          },
          "metadata": {
            "tags": []
          },
          "execution_count": 26
        }
      ]
    },
    {
      "cell_type": "code",
      "metadata": {
        "id": "g6Xx9bkTn4ok"
      },
      "source": [
        "y_pred_logreg = clf_logreg.predict(X_test)"
      ],
      "execution_count": null,
      "outputs": []
    },
    {
      "cell_type": "code",
      "metadata": {
        "id": "KTj8ph6dn8Ku",
        "colab": {
          "base_uri": "https://localhost:8080/"
        },
        "outputId": "c354d1e7-1143-41a2-d67b-c0cba8850af6"
      },
      "source": [
        "print('Accuracy of logistic regression classifier on test set:{:.2f}'.format(clf_logreg.score(X_test,y_test)*100))"
      ],
      "execution_count": null,
      "outputs": [
        {
          "output_type": "stream",
          "text": [
            "Accuracy of logistic regression classifier on test set:61.54\n"
          ],
          "name": "stdout"
        }
      ]
    },
    {
      "cell_type": "code",
      "metadata": {
        "id": "RSGNp5_8ENVf",
        "colab": {
          "base_uri": "https://localhost:8080/"
        },
        "outputId": "15df63ae-6fea-4cea-e677-150809fc0b8f"
      },
      "source": [
        "print(\"Train Accuracy :\", clf_logreg.score(X_train,y_train), \"Testing Accuracy :\", clf_logreg.score(X_test, y_test))"
      ],
      "execution_count": null,
      "outputs": [
        {
          "output_type": "stream",
          "text": [
            "Train Accuracy : 1.0 Testing Accuracy : 0.6153846153846154\n"
          ],
          "name": "stdout"
        }
      ]
    },
    {
      "cell_type": "code",
      "metadata": {
        "id": "1cow2GAEMS0b",
        "colab": {
          "base_uri": "https://localhost:8080/"
        },
        "outputId": "95cba4a6-fbb2-41bd-eb63-89e513edd566"
      },
      "source": [
        "print(precision_score(y_test, y_pred_logreg, average='macro'))\r\n",
        "print(precision_score(y_test, y_pred_logreg, average='micro'))\r\n",
        "print(precision_score(y_test, y_pred_logreg, average='weighted'))"
      ],
      "execution_count": null,
      "outputs": [
        {
          "output_type": "stream",
          "text": [
            "0.6309523809523809\n",
            "0.6153846153846154\n",
            "0.7087912087912087\n"
          ],
          "name": "stdout"
        }
      ]
    },
    {
      "cell_type": "markdown",
      "metadata": {
        "id": "6tcOstS5peQE"
      },
      "source": [
        "### Naive Bayes"
      ]
    },
    {
      "cell_type": "code",
      "metadata": {
        "id": "1DR32XXnoAMg"
      },
      "source": [
        "from sklearn.naive_bayes import GaussianNB"
      ],
      "execution_count": null,
      "outputs": []
    },
    {
      "cell_type": "code",
      "metadata": {
        "id": "RGV5sGc2oDCI"
      },
      "source": [
        "clf_gnb = GaussianNB()\r\n",
        "clf_gnb.fit(X_train, y_train)\r\n",
        "y_pred_gnb = clf_gnb.predict(X_test)"
      ],
      "execution_count": null,
      "outputs": []
    },
    {
      "cell_type": "code",
      "metadata": {
        "id": "3wpQGGu6oFX4",
        "colab": {
          "base_uri": "https://localhost:8080/"
        },
        "outputId": "0f2c9d6d-04a7-45e1-935c-d31940be4443"
      },
      "source": [
        "print(\"Accuracy \",metrics.accuracy_score(y_test,y_pred_gnb)*100)"
      ],
      "execution_count": null,
      "outputs": [
        {
          "output_type": "stream",
          "text": [
            "Accuracy  46.15384615384615\n"
          ],
          "name": "stdout"
        }
      ]
    },
    {
      "cell_type": "code",
      "metadata": {
        "id": "cw3BLkieEYf-",
        "colab": {
          "base_uri": "https://localhost:8080/"
        },
        "outputId": "1a4c7370-2c83-45a4-b65e-65425f4e822d"
      },
      "source": [
        "print(\"Train Accuracy :\", clf_gnb.score(X_train,y_train), \"Testing Accuracy :\",clf_gnb.score(X_test,y_test))"
      ],
      "execution_count": null,
      "outputs": [
        {
          "output_type": "stream",
          "text": [
            "Train Accuracy : 0.6530612244897959 Testing Accuracy : 0.46153846153846156\n"
          ],
          "name": "stdout"
        }
      ]
    },
    {
      "cell_type": "code",
      "metadata": {
        "id": "wjuUBNVcoIiM",
        "colab": {
          "base_uri": "https://localhost:8080/"
        },
        "outputId": "e897ad1e-57e6-49bd-cc11-1f3748572209"
      },
      "source": [
        "from sklearn.metrics import confusion_matrix\r\n",
        "confusion_matrix = confusion_matrix(y_test,y_pred_gnb)\r\n",
        "print(confusion_matrix)"
      ],
      "execution_count": null,
      "outputs": [
        {
          "output_type": "stream",
          "text": [
            "[[2 7]\n",
            " [0 4]]\n"
          ],
          "name": "stdout"
        }
      ]
    },
    {
      "cell_type": "markdown",
      "metadata": {
        "id": "vUyQm5z13Qtu"
      },
      "source": [
        "### Decision Tree"
      ]
    },
    {
      "cell_type": "code",
      "metadata": {
        "id": "7cuEOQ3o3Uo7",
        "colab": {
          "base_uri": "https://localhost:8080/"
        },
        "outputId": "23b3ea2f-22ff-4885-b2b8-27754532605e"
      },
      "source": [
        "from sklearn.tree import DecisionTreeClassifier\r\n",
        "clf_dt_entropy = DecisionTreeClassifier(criterion='entropy', random_state=1)\r\n",
        "clf_dt_entropy.fit(X_train,y_train)\r\n",
        "y_pred = clf_dt_entropy.predict(X_test)\r\n",
        "dt_accuracy = round(metrics.accuracy_score(y_test,y_pred)*100,2)\r\n",
        "print('Accuracy(Decision Tree): ',dt_accuracy,'%')\r\n",
        "print(\"Train Accuracy :\", clf_dt_entropy.score(X_train,y_train), \"Testing Accuracy :\", clf_dt_entropy.score(X_test, y_test))"
      ],
      "execution_count": null,
      "outputs": [
        {
          "output_type": "stream",
          "text": [
            "Accuracy(Decision Tree):  46.15 %\n",
            "Train Accuracy : 1.0 Testing Accuracy : 0.46153846153846156\n"
          ],
          "name": "stdout"
        }
      ]
    },
    {
      "cell_type": "markdown",
      "metadata": {
        "id": "ABSTkdmY3bbQ"
      },
      "source": [
        "### SVM"
      ]
    },
    {
      "cell_type": "code",
      "metadata": {
        "id": "Ywz_yRuT3dOx",
        "colab": {
          "base_uri": "https://localhost:8080/"
        },
        "outputId": "92ec539a-1a53-4ccd-f698-ac74078d728a"
      },
      "source": [
        "from sklearn import svm\r\n",
        "clf_svm = svm.SVC()\r\n",
        "clf_svm.fit(X_train,y_train)\r\n",
        "y_pred = clf_svm.predict(X_test)\r\n",
        "svm_accuracy = round(metrics.accuracy_score(y_test,y_pred)*100,2)\r\n",
        "print('Accuracy(SVM): ',svm_accuracy,'%')\r\n",
        "print(\"Train Accuracy :\", clf_svm.score(X_train, y_train), \"Testing Accuracy :\", clf_svm.score(X_test, y_test))"
      ],
      "execution_count": null,
      "outputs": [
        {
          "output_type": "stream",
          "text": [
            "Accuracy(SVM):  92.31 %\n",
            "Train Accuracy : 0.8979591836734694 Testing Accuracy : 0.9230769230769231\n"
          ],
          "name": "stdout"
        }
      ]
    },
    {
      "cell_type": "markdown",
      "metadata": {
        "id": "_7X9AAqg7Nu1"
      },
      "source": [
        "### Bagging Approach"
      ]
    },
    {
      "cell_type": "code",
      "metadata": {
        "id": "3_UTZs3L7Up3"
      },
      "source": [
        "from sklearn.ensemble import RandomForestClassifier\r\n",
        "from sklearn.metrics import accuracy_score, roc_curve, auc"
      ],
      "execution_count": null,
      "outputs": []
    },
    {
      "cell_type": "code",
      "metadata": {
        "id": "cR4pCqtO7PyV"
      },
      "source": [
        "n_estimators = [2, 4, 8, 16, 32, 64, 100, 200, 300, 400, 500]\r\n",
        "train_result_rf = []\r\n",
        "test_result_rf = []"
      ],
      "execution_count": null,
      "outputs": []
    },
    {
      "cell_type": "markdown",
      "metadata": {
        "id": "aaHHTIQjCGti"
      },
      "source": [
        "#### Random Forest with gini criterion "
      ]
    },
    {
      "cell_type": "code",
      "metadata": {
        "id": "-aVloSrW7eV7"
      },
      "source": [
        "for estimator in n_estimators:\r\n",
        "    rf = RandomForestClassifier(n_estimators = estimator, criterion='gini')\r\n",
        "    rf.fit(X_train, y_train)\r\n",
        "    train_pred = rf.predict(X_train)\r\n",
        "    false_positive_rate, true_positive_rate, thresholds = roc_curve(y_train, train_pred)\r\n",
        "    roc_auc = auc(false_positive_rate, true_positive_rate)\r\n",
        "    train_result_rf.append(roc_auc)\r\n",
        "    y_pred = rf.predict(X_test)\r\n",
        "    false_positive_rate, true_positive_rate, thresholds = roc_curve(y_test, y_pred)\r\n",
        "    roc_auc = auc(false_positive_rate, true_positive_rate)\r\n",
        "    test_result_rf.append(roc_auc)\r\n"
      ],
      "execution_count": null,
      "outputs": []
    },
    {
      "cell_type": "code",
      "metadata": {
        "id": "qUFHhbGh9tA3",
        "colab": {
          "base_uri": "https://localhost:8080/",
          "height": 280
        },
        "outputId": "4f50e0ce-89db-4758-eaed-f33203aee427"
      },
      "source": [
        "from matplotlib.legend_handler import HandlerLine2D\r\n",
        "\r\n",
        "line1, = plt.plot(n_estimators, train_result_rf, \"b\", label=\"Train AUC\")\r\n",
        "line2, = plt.plot(n_estimators, test_result_rf, \"r\", label=\"Test AUC\")\r\n",
        "plt.legend(handler_map={line1: HandlerLine2D(numpoints=2)})\r\n",
        "plt.ylabel(\"AUC Score\")\r\n",
        "plt.xlabel(\"n_estimators\")\r\n",
        "plt.show()"
      ],
      "execution_count": null,
      "outputs": [
        {
          "output_type": "display_data",
          "data": {
            "image/png": "[encoded data removed]",
            "text/plain": [
              "<Figure size 432x288 with 1 Axes>"
            ]
          },
          "metadata": {
            "tags": [],
            "needs_background": "light"
          }
        }
      ]
    },
    {
      "cell_type": "code",
      "metadata": {
        "id": "zpevNX5K-AzP"
      },
      "source": [
        "n_estimators = [50, 55, 60, 65, 70, 75, 80]\r\n",
        "train_result_rf = []\r\n",
        "test_result_rf = []"
      ],
      "execution_count": null,
      "outputs": []
    },
    {
      "cell_type": "code",
      "metadata": {
        "id": "cAksWnqJAPec"
      },
      "source": [
        "for estimator in n_estimators:\r\n",
        "    rf = RandomForestClassifier(n_estimators = estimator, criterion='gini')\r\n",
        "    rf.fit(X_train, y_train)\r\n",
        "    train_pred = rf.predict(X_train)\r\n",
        "    false_positive_rate, true_positive_rate, thresholds = roc_curve(y_train, train_pred)\r\n",
        "    roc_auc = auc(false_positive_rate, true_positive_rate)\r\n",
        "    train_result_rf.append(roc_auc)\r\n",
        "    y_pred = rf.predict(X_test)\r\n",
        "    false_positive_rate, true_positive_rate, thresholds = roc_curve(y_test, y_pred)\r\n",
        "    roc_auc = auc(false_positive_rate, true_positive_rate)\r\n",
        "    test_result_rf.append(roc_auc)"
      ],
      "execution_count": null,
      "outputs": []
    },
    {
      "cell_type": "code",
      "metadata": {
        "id": "lWcxC__vAQdt",
        "colab": {
          "base_uri": "https://localhost:8080/",
          "height": 280
        },
        "outputId": "450d4f16-c779-437d-e658-9140a13361b4"
      },
      "source": [
        "line1, = plt.plot(n_estimators, train_result_rf, \"b\", label=\"Train AUC\")\r\n",
        "line2, = plt.plot(n_estimators, test_result_rf, \"r\", label=\"Test AUC\")\r\n",
        "plt.legend(handler_map={line1: HandlerLine2D(numpoints=2)})\r\n",
        "plt.ylabel(\"AUC Score\")\r\n",
        "plt.xlabel(\"n_estimators\")\r\n",
        "plt.show()"
      ],
      "execution_count": null,
      "outputs": [
        {
          "output_type": "display_data",
          "data": {
            "image/png": "[encoded data removed]",
            "text/plain": [
              "<Figure size 432x288 with 1 Axes>"
            ]
          },
          "metadata": {
            "tags": [],
            "needs_background": "light"
          }
        }
      ]
    },
    {
      "cell_type": "code",
      "metadata": {
        "id": "k3zh0tT4AT7G",
        "colab": {
          "base_uri": "https://localhost:8080/"
        },
        "outputId": "5d2f5c1f-6376-4f54-9edd-aa415b111b37"
      },
      "source": [
        "rf = RandomForestClassifier(n_estimators = 60)\r\n",
        "rf.fit(X_train,y_train)\r\n",
        "y_pred = rf.predict(X_test)\r\n",
        "rf_accuracy = round(accuracy_score(y_test,y_pred)*100,2)\r\n",
        "print('Accuracy(Random Forest): ',rf_accuracy,'%')"
      ],
      "execution_count": null,
      "outputs": [
        {
          "output_type": "stream",
          "text": [
            "Accuracy(Random Forest):  69.23 %\n"
          ],
          "name": "stdout"
        }
      ]
    },
    {
      "cell_type": "markdown",
      "metadata": {
        "id": "ASdc24auCaF7"
      },
      "source": [
        "#### Random Forest with entropy criterion"
      ]
    },
    {
      "cell_type": "code",
      "metadata": {
        "id": "_Hy-H2UPCd0E",
        "colab": {
          "base_uri": "https://localhost:8080/",
          "height": 280
        },
        "outputId": "9c6663fd-7e95-446e-bf4e-8c6c4063a3a4"
      },
      "source": [
        "n_estimators = [2, 4, 8, 16, 32, 64, 100, 200, 300, 400, 500]\r\n",
        "train_result_rf = []\r\n",
        "test_result_rf = []\r\n",
        "\r\n",
        "for estimator in n_estimators:\r\n",
        "    rf = RandomForestClassifier(n_estimators = estimator, criterion='entropy')\r\n",
        "    rf.fit(X_train, y_train)\r\n",
        "    train_pred = rf.predict(X_train)\r\n",
        "    false_positive_rate, true_positive_rate, thresholds = roc_curve(y_train, train_pred)\r\n",
        "    roc_auc = auc(false_positive_rate, true_positive_rate)\r\n",
        "    train_result_rf.append(roc_auc)\r\n",
        "    y_pred = rf.predict(X_test)\r\n",
        "    false_positive_rate, true_positive_rate, thresholds = roc_curve(y_test, y_pred)\r\n",
        "    roc_auc = auc(false_positive_rate, true_positive_rate)\r\n",
        "    test_result_rf.append(roc_auc)\r\n",
        "\r\n",
        "line1, = plt.plot(n_estimators, train_result_rf, \"b\", label=\"Train AUC\")\r\n",
        "line2, = plt.plot(n_estimators, test_result_rf, \"r\", label=\"Test AUC\")\r\n",
        "plt.legend(handler_map={line1: HandlerLine2D(numpoints=2)})\r\n",
        "plt.ylabel(\"AUC Score\")\r\n",
        "plt.xlabel(\"n_estimators\")\r\n",
        "plt.show()"
      ],
      "execution_count": null,
      "outputs": [
        {
          "output_type": "display_data",
          "data": {
            "image/png": "[encoded data removed]",
            "text/plain": [
              "<Figure size 432x288 with 1 Axes>"
            ]
          },
          "metadata": {
            "tags": [],
            "needs_background": "light"
          }
        }
      ]
    },
    {
      "cell_type": "code",
      "metadata": {
        "id": "yMHLn7jDChgP",
        "colab": {
          "base_uri": "https://localhost:8080/",
          "height": 280
        },
        "outputId": "0c30c565-7438-4f88-97e5-7127a8663e7d"
      },
      "source": [
        "n_estimators = [20, 30, 40, 45, 50, 55, 60, 65, 70, 75]\r\n",
        "train_result_rf = []\r\n",
        "test_result_rf = []\r\n",
        "\r\n",
        "for estimator in n_estimators:\r\n",
        "    rf = RandomForestClassifier(n_estimators = estimator, criterion='entropy')\r\n",
        "    rf.fit(X_train, y_train)\r\n",
        "    train_pred = rf.predict(X_train)\r\n",
        "    false_positive_rate, true_positive_rate, thresholds = roc_curve(y_train, train_pred)\r\n",
        "    roc_auc = auc(false_positive_rate, true_positive_rate)\r\n",
        "    train_result_rf.append(roc_auc)\r\n",
        "    y_pred = rf.predict(X_test)\r\n",
        "    false_positive_rate, true_positive_rate, thresholds = roc_curve(y_test, y_pred)\r\n",
        "    roc_auc = auc(false_positive_rate, true_positive_rate)\r\n",
        "    test_result_rf.append(roc_auc)\r\n",
        "\r\n",
        "line1, = plt.plot(n_estimators, train_result_rf, \"b\", label=\"Train AUC\")\r\n",
        "line2, = plt.plot(n_estimators, test_result_rf, \"r\", label=\"Test AUC\")\r\n",
        "plt.legend(handler_map={line1: HandlerLine2D(numpoints=2)})\r\n",
        "plt.ylabel(\"AUC Score\")\r\n",
        "plt.xlabel(\"n_estimators\")\r\n",
        "plt.show()"
      ],
      "execution_count": null,
      "outputs": [
        {
          "output_type": "display_data",
          "data": {
            "image/png": "[encoded data removed]",
            "text/plain": [
              "<Figure size 432x288 with 1 Axes>"
            ]
          },
          "metadata": {
            "tags": [],
            "needs_background": "light"
          }
        }
      ]
    },
    {
      "cell_type": "code",
      "metadata": {
        "id": "4IlLNkBYDmkp",
        "colab": {
          "base_uri": "https://localhost:8080/"
        },
        "outputId": "e4d0ae7b-4f5a-46ce-9a23-43cbbbcbaa73"
      },
      "source": [
        "rf = RandomForestClassifier(n_estimators=50, criterion='entropy')\r\n",
        "rf.fit(X_train,y_train)\r\n",
        "y_pred = rf.predict(X_test)\r\n",
        "rf_accuracy = round(accuracy_score(y_test,y_pred)*100,2)\r\n",
        "print('Accuracy(Random Forest): ',rf_accuracy,'%')"
      ],
      "execution_count": null,
      "outputs": [
        {
          "output_type": "stream",
          "text": [
            "Accuracy(Random Forest):  76.92 %\n"
          ],
          "name": "stdout"
        }
      ]
    },
    {
      "cell_type": "code",
      "metadata": {
        "id": "fHD1W-krPUke",
        "colab": {
          "base_uri": "https://localhost:8080/"
        },
        "outputId": "b1a8c058-5f51-474a-b39e-68f8170f0af5"
      },
      "source": [
        "from sklearn.svm import SVC\r\n",
        "from sklearn.linear_model import LogisticRegression\r\n",
        "from sklearn.neighbors import KNeighborsClassifier\r\n",
        "from sklearn.tree import DecisionTreeClassifier\r\n",
        "from sklearn.ensemble import RandomForestClassifier\r\n",
        "from sklearn.naive_bayes import GaussianNB\r\n",
        "\r\n",
        "from sklearn.ensemble import VotingClassifier\r\n",
        "\r\n",
        "log_clf = LogisticRegression()\r\n",
        "rnd_clf = RandomForestClassifier()\r\n",
        "svm_clf = SVC(kernel=\"linear\", C=1000)\r\n",
        "nb_clf = GaussianNB()\r\n",
        "dt_clf = DecisionTreeClassifier(criterion='entropy', random_state=2)\r\n",
        "knn_clf = KNeighborsClassifier(n_neighbors=38)\r\n",
        "\r\n",
        "voting_clf = VotingClassifier(\r\n",
        "\testimators = [('lr', log_clf), ('rf', rnd_clf), ('knn',knn_clf),('dt',dt_clf),('nb', nb_clf)])    \r\n",
        "voting_clf.fit(X_train, y_train)\r\n",
        "y_pred=voting_clf.predict(X_test)\r\n",
        "\r\n",
        "vot_accuracy = round(accuracy_score(y_test,y_pred)*100,2)\r\n",
        "print('\\n\\nAccuracy(Voting Classifier) for Training Dataset :', voting_clf.score(X_train, y_train)*100, \"%, \",'Accuracy(Voting Classifier) for Testing Dataset: ',vot_accuracy,'%')"
      ],
      "execution_count": null,
      "outputs": [
        {
          "output_type": "stream",
          "text": [
            "\n",
            "\n",
            "Accuracy(Voting Classifier) for Training Dataset : 100.0 %,  Accuracy(Voting Classifier) for Testing Dataset:  61.54 %\n"
          ],
          "name": "stdout"
        }
      ]
    },
    {
      "cell_type": "code",
      "metadata": {
        "id": "ZrG-1UWIEClJ"
      },
      "source": [
        "from sklearn.ensemble import BaggingClassifier"
      ],
      "execution_count": null,
      "outputs": []
    },
    {
      "cell_type": "markdown",
      "metadata": {
        "id": "5OO8sPjToJgP"
      },
      "source": [
        "### Bagging (KNeighborsClassifier)"
      ]
    },
    {
      "cell_type": "code",
      "metadata": {
        "id": "o7gI3g_r4XV_"
      },
      "source": [
        "n =30\r\n",
        "l_knn=[]\r\n",
        "for i in range(1,n):\r\n",
        "  bg =BaggingClassifier(KNeighborsClassifier(n_neighbors=5),max_samples=0.7,max_features=0.7,n_estimators=i)\r\n",
        "  bg.fit(X_train,y_train)\r\n",
        "  l_knn.append(bg.score(X_test,y_test))\r\n"
      ],
      "execution_count": null,
      "outputs": []
    },
    {
      "cell_type": "code",
      "metadata": {
        "colab": {
          "base_uri": "https://localhost:8080/"
        },
        "id": "HxKqjyHD5jTX",
        "outputId": "469ae8b9-670e-44bc-c135-763e9b0775ac"
      },
      "source": [
        "#print(\"The Best Accuracy is:\",acc.max()*100,\"% with n_estimator=\",acc.argmax()+1)\r\n",
        "print(\"accuracy = \" + str(max(l_knn))+ \" with estimator \"+ str(1+l_knn.index(max(l_knn))))\r\n"
      ],
      "execution_count": null,
      "outputs": [
        {
          "output_type": "stream",
          "text": [
            "accuracy = 0.9230769230769231 with estimator 4\n"
          ],
          "name": "stdout"
        }
      ]
    },
    {
      "cell_type": "markdown",
      "metadata": {
        "id": "OgOJ77DCoTs9"
      },
      "source": [
        "Bagging (Decision Tree)"
      ]
    },
    {
      "cell_type": "code",
      "metadata": {
        "id": "XlRGVhPjmcMq"
      },
      "source": [
        "n =30\r\n",
        "l_dt=[]\r\n",
        "for i in range(1,n):\r\n",
        "  bg_dt = BaggingClassifier(DecisionTreeClassifier(criterion='entropy'),max_samples=0.5,max_features=1.0,n_estimators=i)\r\n",
        "  bg_dt.fit(X_train,y_train)\r\n",
        "  l_dt.append(bg_dt.score(X_test,y_test))\r\n"
      ],
      "execution_count": null,
      "outputs": []
    },
    {
      "cell_type": "code",
      "metadata": {
        "colab": {
          "base_uri": "https://localhost:8080/"
        },
        "id": "wl1Mv9Ma_Wxe",
        "outputId": "c82ee4ef-649a-4126-988c-10acc251b70f"
      },
      "source": [
        "#print(l_dt)\r\n",
        "print(\"accuracy = \" + str(max(l_dt))+ \" with estimator \"+ str(1+l_dt.index(max(l_dt))))"
      ],
      "execution_count": null,
      "outputs": [
        {
          "output_type": "stream",
          "text": [
            "accuracy = 0.8461538461538461 with estimator 10\n"
          ],
          "name": "stdout"
        }
      ]
    },
    {
      "cell_type": "markdown",
      "metadata": {
        "id": "7qZwAz3gobl7"
      },
      "source": [
        "###Bagging(LogisticRegression)"
      ]
    },
    {
      "cell_type": "code",
      "metadata": {
        "id": "-OGzJsHzmlnb"
      },
      "source": [
        "n =30\r\n",
        "l_lr=[]\r\n",
        "for i in range(1,n):\r\n",
        "  bg_lr= BaggingClassifier(LogisticRegression(),max_samples=0.5,max_features=1.0,n_estimators=i)\r\n",
        "  bg_lr.fit(X_train,y_train)\r\n",
        "  l_lr.append(bg_lr.score(X_test,y_test))\r\n",
        "\r\n"
      ],
      "execution_count": null,
      "outputs": []
    },
    {
      "cell_type": "code",
      "metadata": {
        "colab": {
          "base_uri": "https://localhost:8080/"
        },
        "id": "Af8NoqXs-g41",
        "outputId": "e628d1b8-1791-472d-c9b4-07f270a1e91d"
      },
      "source": [
        "\r\n",
        "print(\"accuracy = \" + str(max(l_lr))+ \" with estimator \"+ str(1+l_lr.index(max(l_lr))))"
      ],
      "execution_count": null,
      "outputs": [
        {
          "output_type": "stream",
          "text": [
            "accuracy = 0.9230769230769231 with estimator 2\n"
          ],
          "name": "stdout"
        }
      ]
    },
    {
      "cell_type": "markdown",
      "metadata": {
        "id": "uAv10PB-olm-"
      },
      "source": [
        "### Bagging (SVM)"
      ]
    },
    {
      "cell_type": "code",
      "metadata": {
        "id": "QN57kSOVmr59",
        "colab": {
          "base_uri": "https://localhost:8080/"
        },
        "outputId": "33a0056b-400d-4366-808a-78c116e180b1"
      },
      "source": [
        "bg = BaggingClassifier(svm.SVC(),max_samples=0.5,max_features=1.0,n_estimators=30)\r\n",
        "bg.fit(X_train,y_train)\r\n",
        "print(bg.score(X_train, y_train),bg.score(X_test,y_test))"
      ],
      "execution_count": null,
      "outputs": [
        {
          "output_type": "stream",
          "text": [
            "0.7142857142857143 0.7692307692307693\n"
          ],
          "name": "stdout"
        }
      ]
    },
    {
      "cell_type": "code",
      "metadata": {
        "id": "PWPWZ54JoAxE"
      },
      "source": [
        "from sklearn.ensemble import  AdaBoostClassifier"
      ],
      "execution_count": null,
      "outputs": []
    },
    {
      "cell_type": "markdown",
      "metadata": {
        "id": "1UzkVrJwrWjs"
      },
      "source": [
        "####AdaBoosting (DecisionTree)"
      ]
    },
    {
      "cell_type": "code",
      "metadata": {
        "id": "LbTwRv5mqgas",
        "colab": {
          "base_uri": "https://localhost:8080/"
        },
        "outputId": "6136aeb9-e203-43ef-b6f4-76a16dac2eaf"
      },
      "source": [
        "from sklearn.model_selection import KFold\r\n",
        "seed = 5\r\n",
        "kfold = KFold(n_splits = 10, random_state = seed)\r\n",
        "adb_dt =AdaBoostClassifier(DecisionTreeClassifier(),n_estimators=5,learning_rate=1)\r\n",
        "adb_dt.fit(X_train,y_train)"
      ],
      "execution_count": null,
      "outputs": [
        {
          "output_type": "execute_result",
          "data": {
            "text/plain": [
              "AdaBoostClassifier(algorithm='SAMME.R',\n",
              "                   base_estimator=DecisionTreeClassifier(ccp_alpha=0.0,\n",
              "                                                         class_weight=None,\n",
              "                                                         criterion='gini',\n",
              "                                                         max_depth=None,\n",
              "                                                         max_features=None,\n",
              "                                                         max_leaf_nodes=None,\n",
              "                                                         min_impurity_decrease=0.0,\n",
              "                                                         min_impurity_split=None,\n",
              "                                                         min_samples_leaf=1,\n",
              "                                                         min_samples_split=2,\n",
              "                                                         min_weight_fraction_leaf=0.0,\n",
              "                                                         presort='deprecated',\n",
              "                                                         random_state=None,\n",
              "                                                         splitter='best'),\n",
              "                   learning_rate=1, n_estimators=5, random_state=None)"
            ]
          },
          "metadata": {
            "tags": []
          },
          "execution_count": 59
        }
      ]
    },
    {
      "cell_type": "code",
      "metadata": {
        "colab": {
          "base_uri": "https://localhost:8080/"
        },
        "id": "v5rqNUeTjBVF",
        "outputId": "43c768fb-7653-420b-c717-ab34051e4350"
      },
      "source": [
        "from sklearn.model_selection import cross_val_score\r\n",
        "results = cross_val_score(adb_dt, X_train,y_train, cv = kfold)\r\n",
        "print(results.mean())"
      ],
      "execution_count": null,
      "outputs": [
        {
          "output_type": "stream",
          "text": [
            "0.82\n"
          ],
          "name": "stdout"
        }
      ]
    },
    {
      "cell_type": "code",
      "metadata": {
        "id": "Qn16A_bhqt3u"
      },
      "source": [
        "adb_dt.score(X_test,y_test)"
      ],
      "execution_count": null,
      "outputs": []
    },
    {
      "cell_type": "code",
      "metadata": {
        "id": "7pK2i8gWq8CN"
      },
      "source": [
        "adb_dt.score(X_train,y_train)"
      ],
      "execution_count": null,
      "outputs": []
    },
    {
      "cell_type": "markdown",
      "metadata": {
        "id": "Kp8k5oE61r8k"
      },
      "source": [
        "####AdaBoost(Logistic Regression)"
      ]
    },
    {
      "cell_type": "code",
      "metadata": {
        "id": "eCWsSe6210LA"
      },
      "source": [
        "adb_lr =AdaBoostClassifier(LogisticRegression(),n_estimators=5,learning_rate=1)\r\n",
        "adb_lr.fit(X_train,y_train)\r\n",
        "print(adb_lr.score(X_test,y_test))\r\n",
        "results = cross_val_score(adb_lr, X_train,y_train, cv = kfold)\r\n",
        "print(results.mean())"
      ],
      "execution_count": null,
      "outputs": []
    },
    {
      "cell_type": "markdown",
      "metadata": {
        "id": "wH-9H5ud3UUN"
      },
      "source": [
        "####Adaboost(SVM)"
      ]
    },
    {
      "cell_type": "code",
      "metadata": {
        "id": "JCmeyOuk3BzB",
        "colab": {
          "base_uri": "https://localhost:8080/"
        },
        "outputId": "665f8bdf-5ff7-4e86-bd3c-0d55badc2521"
      },
      "source": [
        "\r\n",
        "adb_svm= AdaBoostClassifier(SVC(probability=True, kernel='linear'),n_estimators=20,learning_rate=1)\r\n",
        "adb_svm.fit(X_train,y_train)\r\n",
        "print(adb_svm.score(X_test,y_test))\r\n",
        "results = cross_val_score(adb_svm, X_train,y_train, cv = kfold)\r\n",
        "print(results.mean())"
      ],
      "execution_count": null,
      "outputs": [
        {
          "output_type": "stream",
          "text": [
            "0.6923076923076923\n",
            "0.775\n"
          ],
          "name": "stdout"
        }
      ]
    },
    {
      "cell_type": "markdown",
      "metadata": {
        "id": "yuTUCYovX44e"
      },
      "source": [
        "#### GradientBoosing "
      ]
    },
    {
      "cell_type": "code",
      "metadata": {
        "id": "mM6cwkkrX9Bi"
      },
      "source": [
        "from sklearn.ensemble import GradientBoostingClassifier\r\n",
        "from sklearn.metrics import mean_squared_error as MSE \r\n",
        " "
      ],
      "execution_count": null,
      "outputs": []
    },
    {
      "cell_type": "code",
      "metadata": {
        "id": "sdNlNDG2cZyx",
        "colab": {
          "base_uri": "https://localhost:8080/"
        },
        "outputId": "054ebe98-1742-4b21-fd2f-52dcb6310124"
      },
      "source": [
        "from sklearn.ensemble import GradientBoostingClassifier\r\n",
        "from sklearn.metrics import classification_report\r\n",
        "from sklearn.model_selection import RandomizedSearchCV, GridSearchCV, train_test_split\r\n",
        "\r\n",
        "\r\n",
        "baseline = GradientBoostingClassifier(learning_rate=0.1, n_estimators=100,max_depth=3, min_samples_split=2, min_samples_leaf=1, subsample=1,max_features='sqrt', random_state=10)\r\n",
        "baseline.fit(X_train,y_train)\r\n",
        "predictors=list(X_train)\r\n",
        "print('Accuracy of the GBM on test set: {:.3f}'.format(baseline.score(X_test, y_test)))\r\n",
        "pred=baseline.predict(X_test)\r\n",
        "print(classification_report(y_test, pred))"
      ],
      "execution_count": null,
      "outputs": [
        {
          "output_type": "stream",
          "text": [
            "Accuracy of the GBM on test set: 0.769\n",
            "              precision    recall  f1-score   support\n",
            "\n",
            "           0       1.00      0.67      0.80         9\n",
            "           1       0.57      1.00      0.73         4\n",
            "\n",
            "    accuracy                           0.77        13\n",
            "   macro avg       0.79      0.83      0.76        13\n",
            "weighted avg       0.87      0.77      0.78        13\n",
            "\n"
          ],
          "name": "stdout"
        }
      ]
    },
    {
      "cell_type": "markdown",
      "metadata": {
        "id": "1-UtUReliG8I"
      },
      "source": [
        "######Tune Learning rate and n_estimator"
      ]
    },
    {
      "cell_type": "code",
      "metadata": {
        "id": "35y6Hsx4cL3N",
        "colab": {
          "base_uri": "https://localhost:8080/"
        },
        "outputId": "95275112-58e3-4dbc-b1b3-f8c46d49b81b"
      },
      "source": [
        "p_test3 = {'learning_rate':[0.15,0.1,0.05,0.01,0.005,0.001], 'n_estimators':[100,250,500,750,1000,1250,1500,1750]}\r\n",
        "\r\n",
        "tuning = GridSearchCV(estimator =GradientBoostingClassifier(max_depth=4, min_samples_split=2, min_samples_leaf=1, subsample=1,max_features='sqrt', random_state=10), \r\n",
        "            param_grid = p_test3, scoring='accuracy',n_jobs=4,iid=False, cv=5)\r\n",
        "tuning.fit(X_train,y_train)\r\n",
        "tuning.cv_results_, tuning.best_params_, tuning.best_score_"
      ],
      "execution_count": null,
      "outputs": [
        {
          "output_type": "execute_result",
          "data": {
            "text/plain": [
              "({'mean_fit_time': array([0.18730054, 0.3404109 , 0.54393125, 0.77478428, 0.97925367,\n",
              "         1.1956079 , 1.47592487, 1.69854093, 0.2322422 , 0.36959391,\n",
              "         0.60336866, 0.8458497 , 1.00912089, 1.26489487, 1.48222079,\n",
              "         1.75824409, 0.31544943, 0.45756941, 0.72619352, 0.94181695,\n",
              "         1.16377673, 1.39370561, 1.61599798, 1.85339823, 0.3083127 ,\n",
              "         0.77276115, 1.40141792, 1.95357404, 2.18499517, 2.38609452,\n",
              "         2.64670353, 2.84973845, 0.30128274, 0.79170518, 1.5186955 ,\n",
              "         2.16972151, 2.77274609, 3.40897169, 3.86892467, 4.23377695,\n",
              "         0.26590462, 0.67994909, 1.40602126, 2.13329582, 2.89672327,\n",
              "         3.64247503, 4.43365612, 4.40269046]),\n",
              "  'mean_score_time': array([0.00950599, 0.00884452, 0.00873227, 0.01038747, 0.01137061,\n",
              "         0.00829525, 0.0106442 , 0.01118913, 0.01116729, 0.0108067 ,\n",
              "         0.00930967, 0.01069732, 0.00873089, 0.01049986, 0.01344376,\n",
              "         0.0110476 , 0.01086817, 0.01203384, 0.01018453, 0.00887403,\n",
              "         0.01139259, 0.01096535, 0.01747503, 0.00906324, 0.00977497,\n",
              "         0.01170764, 0.01243701, 0.01091633, 0.01087527, 0.01301556,\n",
              "         0.01285701, 0.01477022, 0.00977201, 0.00804782, 0.0106452 ,\n",
              "         0.01221724, 0.01232944, 0.01475902, 0.01162276, 0.01349492,\n",
              "         0.00843759, 0.01180406, 0.01299887, 0.0101316 , 0.01387939,\n",
              "         0.01316242, 0.0133409 , 0.00945816]),\n",
              "  'mean_test_score': array([0.83555556, 0.83555556, 0.83555556, 0.83555556, 0.83555556,\n",
              "         0.83555556, 0.83555556, 0.83555556, 0.79555556, 0.79555556,\n",
              "         0.79555556, 0.79555556, 0.79555556, 0.79555556, 0.79555556,\n",
              "         0.79555556, 0.83555556, 0.81777778, 0.81777778, 0.81777778,\n",
              "         0.81777778, 0.81777778, 0.81777778, 0.81777778, 0.73333333,\n",
              "         0.79555556, 0.81555556, 0.83777778, 0.83777778, 0.83777778,\n",
              "         0.83777778, 0.83777778, 0.69333333, 0.73333333, 0.77555556,\n",
              "         0.79555556, 0.79555556, 0.79555556, 0.79555556, 0.79555556,\n",
              "         0.63333333, 0.63333333, 0.71333333, 0.71333333, 0.71333333,\n",
              "         0.75555556, 0.75555556, 0.75555556]),\n",
              "  'param_learning_rate': masked_array(data=[0.15, 0.15, 0.15, 0.15, 0.15, 0.15, 0.15, 0.15, 0.1,\n",
              "                     0.1, 0.1, 0.1, 0.1, 0.1, 0.1, 0.1, 0.05, 0.05, 0.05,\n",
              "                     0.05, 0.05, 0.05, 0.05, 0.05, 0.01, 0.01, 0.01, 0.01,\n",
              "                     0.01, 0.01, 0.01, 0.01, 0.005, 0.005, 0.005, 0.005,\n",
              "                     0.005, 0.005, 0.005, 0.005, 0.001, 0.001, 0.001, 0.001,\n",
              "                     0.001, 0.001, 0.001, 0.001],\n",
              "               mask=[False, False, False, False, False, False, False, False,\n",
              "                     False, False, False, False, False, False, False, False,\n",
              "                     False, False, False, False, False, False, False, False,\n",
              "                     False, False, False, False, False, False, False, False,\n",
              "                     False, False, False, False, False, False, False, False,\n",
              "                     False, False, False, False, False, False, False, False],\n",
              "         fill_value='?',\n",
              "              dtype=object),\n",
              "  'param_n_estimators': masked_array(data=[100, 250, 500, 750, 1000, 1250, 1500, 1750, 100, 250,\n",
              "                     500, 750, 1000, 1250, 1500, 1750, 100, 250, 500, 750,\n",
              "                     1000, 1250, 1500, 1750, 100, 250, 500, 750, 1000, 1250,\n",
              "                     1500, 1750, 100, 250, 500, 750, 1000, 1250, 1500, 1750,\n",
              "                     100, 250, 500, 750, 1000, 1250, 1500, 1750],\n",
              "               mask=[False, False, False, False, False, False, False, False,\n",
              "                     False, False, False, False, False, False, False, False,\n",
              "                     False, False, False, False, False, False, False, False,\n",
              "                     False, False, False, False, False, False, False, False,\n",
              "                     False, False, False, False, False, False, False, False,\n",
              "                     False, False, False, False, False, False, False, False],\n",
              "         fill_value='?',\n",
              "              dtype=object),\n",
              "  'params': [{'learning_rate': 0.15, 'n_estimators': 100},\n",
              "   {'learning_rate': 0.15, 'n_estimators': 250},\n",
              "   {'learning_rate': 0.15, 'n_estimators': 500},\n",
              "   {'learning_rate': 0.15, 'n_estimators': 750},\n",
              "   {'learning_rate': 0.15, 'n_estimators': 1000},\n",
              "   {'learning_rate': 0.15, 'n_estimators': 1250},\n",
              "   {'learning_rate': 0.15, 'n_estimators': 1500},\n",
              "   {'learning_rate': 0.15, 'n_estimators': 1750},\n",
              "   {'learning_rate': 0.1, 'n_estimators': 100},\n",
              "   {'learning_rate': 0.1, 'n_estimators': 250},\n",
              "   {'learning_rate': 0.1, 'n_estimators': 500},\n",
              "   {'learning_rate': 0.1, 'n_estimators': 750},\n",
              "   {'learning_rate': 0.1, 'n_estimators': 1000},\n",
              "   {'learning_rate': 0.1, 'n_estimators': 1250},\n",
              "   {'learning_rate': 0.1, 'n_estimators': 1500},\n",
              "   {'learning_rate': 0.1, 'n_estimators': 1750},\n",
              "   {'learning_rate': 0.05, 'n_estimators': 100},\n",
              "   {'learning_rate': 0.05, 'n_estimators': 250},\n",
              "   {'learning_rate': 0.05, 'n_estimators': 500},\n",
              "   {'learning_rate': 0.05, 'n_estimators': 750},\n",
              "   {'learning_rate': 0.05, 'n_estimators': 1000},\n",
              "   {'learning_rate': 0.05, 'n_estimators': 1250},\n",
              "   {'learning_rate': 0.05, 'n_estimators': 1500},\n",
              "   {'learning_rate': 0.05, 'n_estimators': 1750},\n",
              "   {'learning_rate': 0.01, 'n_estimators': 100},\n",
              "   {'learning_rate': 0.01, 'n_estimators': 250},\n",
              "   {'learning_rate': 0.01, 'n_estimators': 500},\n",
              "   {'learning_rate': 0.01, 'n_estimators': 750},\n",
              "   {'learning_rate': 0.01, 'n_estimators': 1000},\n",
              "   {'learning_rate': 0.01, 'n_estimators': 1250},\n",
              "   {'learning_rate': 0.01, 'n_estimators': 1500},\n",
              "   {'learning_rate': 0.01, 'n_estimators': 1750},\n",
              "   {'learning_rate': 0.005, 'n_estimators': 100},\n",
              "   {'learning_rate': 0.005, 'n_estimators': 250},\n",
              "   {'learning_rate': 0.005, 'n_estimators': 500},\n",
              "   {'learning_rate': 0.005, 'n_estimators': 750},\n",
              "   {'learning_rate': 0.005, 'n_estimators': 1000},\n",
              "   {'learning_rate': 0.005, 'n_estimators': 1250},\n",
              "   {'learning_rate': 0.005, 'n_estimators': 1500},\n",
              "   {'learning_rate': 0.005, 'n_estimators': 1750},\n",
              "   {'learning_rate': 0.001, 'n_estimators': 100},\n",
              "   {'learning_rate': 0.001, 'n_estimators': 250},\n",
              "   {'learning_rate': 0.001, 'n_estimators': 500},\n",
              "   {'learning_rate': 0.001, 'n_estimators': 750},\n",
              "   {'learning_rate': 0.001, 'n_estimators': 1000},\n",
              "   {'learning_rate': 0.001, 'n_estimators': 1250},\n",
              "   {'learning_rate': 0.001, 'n_estimators': 1500},\n",
              "   {'learning_rate': 0.001, 'n_estimators': 1750}],\n",
              "  'rank_test_score': array([ 6,  6,  6,  6,  6,  6,  6,  6, 23, 23, 23, 23, 23, 23, 23, 23,  6,\n",
              "         15, 15, 15, 15, 15, 15, 15, 41, 36, 22,  1,  1,  1,  1,  1, 46, 41,\n",
              "         37, 23, 23, 23, 23, 23, 47, 47, 43, 43, 43, 38, 38, 38],\n",
              "        dtype=int32),\n",
              "  'split0_test_score': array([0.8, 0.8, 0.8, 0.8, 0.8, 0.8, 0.8, 0.8, 0.7, 0.7, 0.7, 0.7, 0.7,\n",
              "         0.7, 0.7, 0.7, 0.9, 0.8, 0.8, 0.8, 0.8, 0.8, 0.8, 0.8, 0.8, 0.8,\n",
              "         0.8, 0.8, 0.8, 0.8, 0.8, 0.8, 0.8, 0.7, 0.7, 0.7, 0.7, 0.7, 0.7,\n",
              "         0.7, 0.7, 0.7, 0.8, 0.8, 0.7, 0.7, 0.7, 0.7]),\n",
              "  'split1_test_score': array([0.9, 0.9, 0.9, 0.9, 0.9, 0.9, 0.9, 0.9, 0.8, 0.8, 0.8, 0.8, 0.8,\n",
              "         0.8, 0.8, 0.8, 0.8, 0.8, 0.8, 0.8, 0.8, 0.8, 0.8, 0.8, 0.8, 0.8,\n",
              "         0.8, 0.8, 0.8, 0.8, 0.8, 0.8, 0.6, 0.8, 0.8, 0.8, 0.8, 0.8, 0.8,\n",
              "         0.8, 0.6, 0.6, 0.7, 0.7, 0.8, 0.8, 0.8, 0.8]),\n",
              "  'split2_test_score': array([0.7, 0.7, 0.7, 0.7, 0.7, 0.7, 0.7, 0.7, 0.7, 0.7, 0.7, 0.7, 0.7,\n",
              "         0.7, 0.7, 0.7, 0.7, 0.7, 0.7, 0.7, 0.7, 0.7, 0.7, 0.7, 0.6, 0.7,\n",
              "         0.7, 0.7, 0.7, 0.7, 0.7, 0.7, 0.6, 0.6, 0.7, 0.7, 0.7, 0.7, 0.7,\n",
              "         0.7, 0.6, 0.6, 0.6, 0.6, 0.6, 0.6, 0.6, 0.6]),\n",
              "  'split3_test_score': array([1. , 1. , 1. , 1. , 1. , 1. , 1. , 1. , 1. , 1. , 1. , 1. , 1. ,\n",
              "         1. , 1. , 1. , 1. , 0.9, 0.9, 0.9, 0.9, 0.9, 0.9, 0.9, 0.8, 0.9,\n",
              "         1. , 1. , 1. , 1. , 1. , 1. , 0.8, 0.9, 0.9, 1. , 1. , 1. , 1. ,\n",
              "         1. , 0.6, 0.6, 0.8, 0.8, 0.8, 0.9, 0.9, 0.9]),\n",
              "  'split4_test_score': array([0.77777778, 0.77777778, 0.77777778, 0.77777778, 0.77777778,\n",
              "         0.77777778, 0.77777778, 0.77777778, 0.77777778, 0.77777778,\n",
              "         0.77777778, 0.77777778, 0.77777778, 0.77777778, 0.77777778,\n",
              "         0.77777778, 0.77777778, 0.88888889, 0.88888889, 0.88888889,\n",
              "         0.88888889, 0.88888889, 0.88888889, 0.88888889, 0.66666667,\n",
              "         0.77777778, 0.77777778, 0.88888889, 0.88888889, 0.88888889,\n",
              "         0.88888889, 0.88888889, 0.66666667, 0.66666667, 0.77777778,\n",
              "         0.77777778, 0.77777778, 0.77777778, 0.77777778, 0.77777778,\n",
              "         0.66666667, 0.66666667, 0.66666667, 0.66666667, 0.66666667,\n",
              "         0.77777778, 0.77777778, 0.77777778]),\n",
              "  'std_fit_time': array([0.05280742, 0.06235633, 0.00993989, 0.01223653, 0.01739674,\n",
              "         0.05227773, 0.05595797, 0.03027151, 0.01243987, 0.01514682,\n",
              "         0.01050461, 0.05440605, 0.24479678, 0.00733387, 0.15746952,\n",
              "         0.06668582, 0.05061928, 0.08285122, 0.02107292, 0.02698636,\n",
              "         0.0221996 , 0.02589309, 0.0251907 , 0.05078306, 0.02626319,\n",
              "         0.05027102, 0.09829636, 0.11748329, 0.12151255, 0.12274973,\n",
              "         0.12566429, 0.14282851, 0.01242507, 0.04501691, 0.13573663,\n",
              "         0.17274309, 0.20424099, 0.22696712, 0.23141654, 0.22722652,\n",
              "         0.04865867, 0.05804133, 0.13550549, 0.20274112, 0.28268001,\n",
              "         0.38060949, 0.40867071, 0.88095962]),\n",
              "  'std_score_time': array([0.00598524, 0.00423684, 0.00328022, 0.0028869 , 0.00284444,\n",
              "         0.00373739, 0.00307953, 0.00289384, 0.00580073, 0.00104706,\n",
              "         0.00355468, 0.00534513, 0.004332  , 0.00474802, 0.0015227 ,\n",
              "         0.00292952, 0.0039236 , 0.00436728, 0.00415687, 0.00324155,\n",
              "         0.00370446, 0.00284737, 0.0094437 , 0.00325386, 0.00250185,\n",
              "         0.00388353, 0.00438574, 0.00529812, 0.00270764, 0.00026403,\n",
              "         0.00040613, 0.00539789, 0.0046512 , 0.00332233, 0.00277526,\n",
              "         0.00377026, 0.00356327, 0.00250726, 0.00295716, 0.00012329,\n",
              "         0.00320797, 0.00045024, 0.00161075, 0.00326345, 0.0035725 ,\n",
              "         0.00019345, 0.00061172, 0.00475781]),\n",
              "  'std_test_score': array([0.10408923, 0.10408923, 0.10408923, 0.10408923, 0.10408923,\n",
              "         0.10408923, 0.10408923, 0.10408923, 0.10990456, 0.10990456,\n",
              "         0.10990456, 0.10990456, 0.10990456, 0.10990456, 0.10990456,\n",
              "         0.10990456, 0.10408923, 0.07255479, 0.07255479, 0.07255479,\n",
              "         0.07255479, 0.07255479, 0.07255479, 0.07255479, 0.0843274 ,\n",
              "         0.06386715, 0.09928137, 0.10076252, 0.10076252, 0.10076252,\n",
              "         0.10076252, 0.10076252, 0.09043107, 0.10540926, 0.07417031,\n",
              "         0.10990456, 0.10990456, 0.10990456, 0.10990456, 0.10990456,\n",
              "         0.0421637 , 0.0421637 , 0.07774603, 0.07774603, 0.07774603,\n",
              "         0.10061539, 0.10061539, 0.10061539])},\n",
              " {'learning_rate': 0.01, 'n_estimators': 750},\n",
              " 0.8377777777777776)"
            ]
          },
          "metadata": {
            "tags": []
          },
          "execution_count": 102
        }
      ]
    },
    {
      "cell_type": "markdown",
      "metadata": {
        "id": "ZSqSJYiqiOGX"
      },
      "source": [
        "######Tune max_depth"
      ]
    },
    {
      "cell_type": "code",
      "metadata": {
        "id": "Hn9XWIHwfOf1",
        "colab": {
          "base_uri": "https://localhost:8080/"
        },
        "outputId": "107f6761-6438-43ac-c3a9-75dafa2005c0"
      },
      "source": [
        "p_test2 = {'max_depth':[2,3,4,5,6,7] }\r\n",
        "tuning = GridSearchCV(estimator =GradientBoostingClassifier(learning_rate=0.01,n_estimators=1500, min_samples_split=2, min_samples_leaf=1, subsample=1,max_features='sqrt', random_state=10), \r\n",
        "            param_grid = p_test2, scoring='accuracy',n_jobs=4,iid=False, cv=5)\r\n",
        "tuning.fit(X_train,y_train)\r\n",
        "tuning.cv_results_, tuning.best_params_, tuning.best_score_"
      ],
      "execution_count": null,
      "outputs": [
        {
          "output_type": "execute_result",
          "data": {
            "text/plain": [
              "({'mean_fit_time': array([2.61653104, 2.69769077, 2.63597889, 2.49000378, 2.48978004,\n",
              "         2.00115576]),\n",
              "  'mean_score_time': array([0.01355343, 0.01802163, 0.0116025 , 0.01175375, 0.01428351,\n",
              "         0.00835991]),\n",
              "  'mean_test_score': array([0.86      , 0.83777778, 0.83777778, 0.81777778, 0.81777778,\n",
              "         0.81777778]),\n",
              "  'param_max_depth': masked_array(data=[2, 3, 4, 5, 6, 7],\n",
              "               mask=[False, False, False, False, False, False],\n",
              "         fill_value='?',\n",
              "              dtype=object),\n",
              "  'params': [{'max_depth': 2},\n",
              "   {'max_depth': 3},\n",
              "   {'max_depth': 4},\n",
              "   {'max_depth': 5},\n",
              "   {'max_depth': 6},\n",
              "   {'max_depth': 7}],\n",
              "  'rank_test_score': array([1, 2, 2, 4, 4, 4], dtype=int32),\n",
              "  'split0_test_score': array([0.8, 0.8, 0.8, 0.7, 0.7, 0.7]),\n",
              "  'split1_test_score': array([0.8, 0.8, 0.8, 0.8, 0.8, 0.8]),\n",
              "  'split2_test_score': array([0.7, 0.7, 0.7, 0.7, 0.7, 0.7]),\n",
              "  'split3_test_score': array([1., 1., 1., 1., 1., 1.]),\n",
              "  'split4_test_score': array([1.        , 0.88888889, 0.88888889, 0.88888889, 0.88888889,\n",
              "         0.88888889]),\n",
              "  'std_fit_time': array([0.09441514, 0.06206431, 0.09921112, 0.10864475, 0.08073941,\n",
              "         0.53828727]),\n",
              "  'std_score_time': array([0.00434605, 0.00538414, 0.00286348, 0.00349074, 0.00091881,\n",
              "         0.00406384]),\n",
              "  'std_test_score': array([0.12      , 0.10076252, 0.10076252, 0.1151703 , 0.1151703 ,\n",
              "         0.1151703 ])},\n",
              " {'max_depth': 2},\n",
              " 0.86)"
            ]
          },
          "metadata": {
            "tags": []
          },
          "execution_count": 103
        }
      ]
    },
    {
      "cell_type": "markdown",
      "metadata": {
        "id": "uDg7URHJiZ-5"
      },
      "source": [
        "#####Tune Subsample"
      ]
    },
    {
      "cell_type": "code",
      "metadata": {
        "id": "AJwlxywQhd3E",
        "colab": {
          "base_uri": "https://localhost:8080/"
        },
        "outputId": "65d2bcfc-8bad-416f-b13e-ebaf437110b6"
      },
      "source": [
        "p_test6= {'subsample':[0.7,0.75,0.8,0.85,0.9,0.95,1]}\r\n",
        "\r\n",
        "tuning = GridSearchCV(estimator =GradientBoostingClassifier(learning_rate=0.01, n_estimators=1500,max_depth=4, min_samples_split=40, min_samples_leaf=7,max_features=4 , random_state=10), \r\n",
        "param_grid = p_test6, scoring='accuracy',n_jobs=4,iid=False, cv=5)\r\n",
        "tuning.fit(X_train,y_train)\r\n",
        "tuning.cv_results_, tuning.best_params_, tuning.best_score_"
      ],
      "execution_count": null,
      "outputs": [
        {
          "output_type": "execute_result",
          "data": {
            "text/plain": [
              "({'mean_fit_time': array([1.80591207, 1.79868522, 1.80086637, 1.81952934, 1.7725523 ,\n",
              "         1.79937673, 1.15948396]),\n",
              "  'mean_score_time': array([0.01096168, 0.01433759, 0.01211324, 0.01331005, 0.01434302,\n",
              "         0.01112919, 0.00933065]),\n",
              "  'mean_test_score': array([0.63333333, 0.63333333, 0.63333333, 0.63333333, 0.63333333,\n",
              "         0.63333333, 0.67777778]),\n",
              "  'param_subsample': masked_array(data=[0.7, 0.75, 0.8, 0.85, 0.9, 0.95, 1],\n",
              "               mask=[False, False, False, False, False, False, False],\n",
              "         fill_value='?',\n",
              "              dtype=object),\n",
              "  'params': [{'subsample': 0.7},\n",
              "   {'subsample': 0.75},\n",
              "   {'subsample': 0.8},\n",
              "   {'subsample': 0.85},\n",
              "   {'subsample': 0.9},\n",
              "   {'subsample': 0.95},\n",
              "   {'subsample': 1}],\n",
              "  'rank_test_score': array([2, 2, 2, 2, 2, 2, 1], dtype=int32),\n",
              "  'split0_test_score': array([0.7, 0.7, 0.7, 0.7, 0.7, 0.7, 0.7]),\n",
              "  'split1_test_score': array([0.6, 0.6, 0.6, 0.6, 0.6, 0.6, 0.6]),\n",
              "  'split2_test_score': array([0.6, 0.6, 0.6, 0.6, 0.6, 0.6, 0.6]),\n",
              "  'split3_test_score': array([0.6, 0.6, 0.6, 0.6, 0.6, 0.6, 0.6]),\n",
              "  'split4_test_score': array([0.66666667, 0.66666667, 0.66666667, 0.66666667, 0.66666667,\n",
              "         0.66666667, 0.88888889]),\n",
              "  'std_fit_time': array([0.04813934, 0.02324624, 0.02543658, 0.02300153, 0.01275235,\n",
              "         0.03373256, 0.18495387]),\n",
              "  'std_score_time': array([0.00275679, 0.00278008, 0.00379617, 0.00226265, 0.00244067,\n",
              "         0.00323514, 0.0041207 ]),\n",
              "  'std_test_score': array([0.0421637 , 0.0421637 , 0.0421637 , 0.0421637 , 0.0421637 ,\n",
              "         0.0421637 , 0.11243654])},\n",
              " {'subsample': 1},\n",
              " 0.6777777777777778)"
            ]
          },
          "metadata": {
            "tags": []
          },
          "execution_count": 106
        }
      ]
    },
    {
      "cell_type": "markdown",
      "metadata": {
        "id": "Oi2ThSVzie9j"
      },
      "source": [
        "####After Tuning(GradientBoost)"
      ]
    },
    {
      "cell_type": "code",
      "metadata": {
        "id": "maw9lGYIgAEh",
        "colab": {
          "base_uri": "https://localhost:8080/"
        },
        "outputId": "7497b609-7629-4a70-ead7-e35819802163"
      },
      "source": [
        "model1 = GradientBoostingClassifier(learning_rate=0.01, n_estimators=750,max_depth=2, min_samples_split=2, min_samples_leaf=1, subsample=1,max_features='sqrt', random_state=10)\r\n",
        "model1.fit(X_train,y_train)\r\n",
        "predictors=list(X_train)\r\n",
        "print('Accuracy of the GBM on test set: {:.2f}'.format(model1.score(X_test, y_test)))\r\n",
        "pred=model1.predict(X_test)\r\n",
        "print(classification_report(y_test, pred))"
      ],
      "execution_count": null,
      "outputs": [
        {
          "output_type": "stream",
          "text": [
            "Accuracy of the GBM on test set: 0.77\n",
            "              precision    recall  f1-score   support\n",
            "\n",
            "           0       1.00      0.67      0.80         9\n",
            "           1       0.57      1.00      0.73         4\n",
            "\n",
            "    accuracy                           0.77        13\n",
            "   macro avg       0.79      0.83      0.76        13\n",
            "weighted avg       0.87      0.77      0.78        13\n",
            "\n"
          ],
          "name": "stdout"
        }
      ]
    },
    {
      "cell_type": "markdown",
      "metadata": {
        "id": "XXLhq4EQjrlH"
      },
      "source": [
        "####XGBoosting "
      ]
    },
    {
      "cell_type": "code",
      "metadata": {
        "id": "UHa_76s2jxUT",
        "colab": {
          "base_uri": "https://localhost:8080/"
        },
        "outputId": "2dc595a2-5d8b-4a60-e695-6d1739ce8bb1"
      },
      "source": [
        "\r\n",
        "from numpy import loadtxt\r\n",
        "from xgboost import XGBClassifier\r\n",
        "model = XGBClassifier()\r\n",
        "model.fit(X_train, y_train)\r\n",
        "y_pred = model.predict(X_test)\r\n",
        "predictions = [round(value) for value in y_pred]\r\n",
        "\r\n",
        "accuracy = accuracy_score(y_test, predictions)\r\n",
        "print(\"Accuracy: %.2f%%\" % (accuracy * 100.0))\r\n"
      ],
      "execution_count": null,
      "outputs": [
        {
          "output_type": "stream",
          "text": [
            "Accuracy: 53.85%\n"
          ],
          "name": "stdout"
        }
      ]
    },
    {
      "cell_type": "markdown",
      "metadata": {
        "id": "2_OVYGhXrZWa"
      },
      "source": [
        "####Tuning1"
      ]
    },
    {
      "cell_type": "code",
      "metadata": {
        "id": "Bfo8stmvlZ7H",
        "colab": {
          "base_uri": "https://localhost:8080/"
        },
        "outputId": "7de6c406-272c-448b-9c22-f026249a1588"
      },
      "source": [
        "param_test1 = {\r\n",
        " 'max_depth':range(3,10,2),\r\n",
        " 'min_child_weight':range(1,6,2)\r\n",
        "}\r\n",
        "gsearch1 = GridSearchCV(estimator = XGBClassifier( learning_rate =0.1, n_estimators=140, max_depth=5,\r\n",
        " min_child_weight=1, gamma=0, subsample=0.8, colsample_bytree=0.8,\r\n",
        " objective= 'binary:logistic', nthread=4, scale_pos_weight=1, seed=27), \r\n",
        " param_grid = param_test1, scoring='roc_auc',n_jobs=4,iid=False, cv=5)\r\n",
        "gsearch1.fit(X_train,y_train)\r\n",
        "gsearch1.cv_results_, gsearch1.best_params_, gsearch1.best_score_"
      ],
      "execution_count": null,
      "outputs": [
        {
          "output_type": "execute_result",
          "data": {
            "text/plain": [
              "({'mean_fit_time': array([1.41168346, 1.02619548, 0.90695424, 1.3770442 , 0.97129769,\n",
              "         0.96266727, 1.33131132, 0.91683402, 0.92645516, 1.31972566,\n",
              "         1.08099399, 0.76955595]),\n",
              "  'mean_score_time': array([0.12834425, 0.13313293, 0.16670122, 0.14017944, 0.13444648,\n",
              "         0.14399776, 0.16085625, 0.17309608, 0.12239547, 0.16636376,\n",
              "         0.11465545, 0.09494963]),\n",
              "  'mean_test_score': array([0.89047619, 0.86269841, 0.5       , 0.89047619, 0.86269841,\n",
              "         0.5       , 0.89047619, 0.86269841, 0.5       , 0.89047619,\n",
              "         0.86269841, 0.5       ]),\n",
              "  'param_max_depth': masked_array(data=[3, 3, 3, 5, 5, 5, 7, 7, 7, 9, 9, 9],\n",
              "               mask=[False, False, False, False, False, False, False, False,\n",
              "                     False, False, False, False],\n",
              "         fill_value='?',\n",
              "              dtype=object),\n",
              "  'param_min_child_weight': masked_array(data=[1, 3, 5, 1, 3, 5, 1, 3, 5, 1, 3, 5],\n",
              "               mask=[False, False, False, False, False, False, False, False,\n",
              "                     False, False, False, False],\n",
              "         fill_value='?',\n",
              "              dtype=object),\n",
              "  'params': [{'max_depth': 3, 'min_child_weight': 1},\n",
              "   {'max_depth': 3, 'min_child_weight': 3},\n",
              "   {'max_depth': 3, 'min_child_weight': 5},\n",
              "   {'max_depth': 5, 'min_child_weight': 1},\n",
              "   {'max_depth': 5, 'min_child_weight': 3},\n",
              "   {'max_depth': 5, 'min_child_weight': 5},\n",
              "   {'max_depth': 7, 'min_child_weight': 1},\n",
              "   {'max_depth': 7, 'min_child_weight': 3},\n",
              "   {'max_depth': 7, 'min_child_weight': 5},\n",
              "   {'max_depth': 9, 'min_child_weight': 1},\n",
              "   {'max_depth': 9, 'min_child_weight': 3},\n",
              "   {'max_depth': 9, 'min_child_weight': 5}],\n",
              "  'rank_test_score': array([1, 5, 9, 1, 5, 9, 1, 5, 9, 1, 5, 9], dtype=int32),\n",
              "  'split0_test_score': array([0.95238095, 0.95238095, 0.5       , 0.95238095, 0.95238095,\n",
              "         0.5       , 0.95238095, 0.95238095, 0.5       , 0.95238095,\n",
              "         0.95238095, 0.5       ]),\n",
              "  'split1_test_score': array([0.91666667, 0.95833333, 0.5       , 0.91666667, 0.95833333,\n",
              "         0.5       , 0.91666667, 0.95833333, 0.5       , 0.91666667,\n",
              "         0.95833333, 0.5       ]),\n",
              "  'split2_test_score': array([0.75      , 0.79166667, 0.5       , 0.75      , 0.79166667,\n",
              "         0.5       , 0.75      , 0.79166667, 0.5       , 0.75      ,\n",
              "         0.79166667, 0.5       ]),\n",
              "  'split3_test_score': array([1. , 1. , 0.5, 1. , 1. , 0.5, 1. , 1. , 0.5, 1. , 1. , 0.5]),\n",
              "  'split4_test_score': array([0.83333333, 0.61111111, 0.5       , 0.83333333, 0.61111111,\n",
              "         0.5       , 0.83333333, 0.61111111, 0.5       , 0.83333333,\n",
              "         0.61111111, 0.5       ]),\n",
              "  'std_fit_time': array([0.13692483, 0.15679992, 0.09636588, 0.27536397, 0.14949216,\n",
              "         0.18722023, 0.13829803, 0.14102705, 0.03239655, 0.21073291,\n",
              "         0.07743267, 0.08663072]),\n",
              "  'std_score_time': array([0.04043212, 0.03716995, 0.05575909, 0.06516078, 0.04646449,\n",
              "         0.06735247, 0.08336467, 0.04088762, 0.0615522 , 0.05233545,\n",
              "         0.02649785, 0.04530665]),\n",
              "  'std_test_score': array([0.08889597, 0.14448696, 0.        , 0.08889597, 0.14448696,\n",
              "         0.        , 0.08889597, 0.14448696, 0.        , 0.08889597,\n",
              "         0.14448696, 0.        ])},\n",
              " {'max_depth': 3, 'min_child_weight': 1},\n",
              " 0.8904761904761905)"
            ]
          },
          "metadata": {
            "tags": []
          },
          "execution_count": 115
        }
      ]
    },
    {
      "cell_type": "markdown",
      "metadata": {
        "id": "hq6n0LMIrecQ"
      },
      "source": [
        "#####Tuning2"
      ]
    },
    {
      "cell_type": "code",
      "metadata": {
        "id": "_2Ap0SizlEXS",
        "colab": {
          "base_uri": "https://localhost:8080/"
        },
        "outputId": "73267493-d01b-475b-8bda-6a74899bc1d3"
      },
      "source": [
        "param_test3 = {\r\n",
        " 'gamma':[i/10.0 for i in range(0,5)]\r\n",
        "}\r\n",
        "gsearch3 = GridSearchCV(estimator = XGBClassifier( learning_rate =0.1, n_estimators=140, max_depth=4,\r\n",
        " min_child_weight=6, gamma=0, subsample=0.8, colsample_bytree=0.8,\r\n",
        " objective= 'binary:logistic', nthread=4, scale_pos_weight=1,seed=27), \r\n",
        " param_grid = param_test3, scoring='roc_auc',n_jobs=4,iid=False, cv=5)\r\n",
        "gsearch3.fit(X_train,y_train)\r\n",
        "gsearch3.cv_results_, gsearch3.best_params_, gsearch3.best_score_"
      ],
      "execution_count": null,
      "outputs": [
        {
          "output_type": "execute_result",
          "data": {
            "text/plain": [
              "({'mean_fit_time': array([0.92325754, 0.86223702, 0.90407214, 0.94662137, 0.819414  ]),\n",
              "  'mean_score_time': array([0.15008454, 0.2025269 , 0.12233806, 0.13013463, 0.07556028]),\n",
              "  'mean_test_score': array([0.5, 0.5, 0.5, 0.5, 0.5]),\n",
              "  'param_gamma': masked_array(data=[0.0, 0.1, 0.2, 0.3, 0.4],\n",
              "               mask=[False, False, False, False, False],\n",
              "         fill_value='?',\n",
              "              dtype=object),\n",
              "  'params': [{'gamma': 0.0},\n",
              "   {'gamma': 0.1},\n",
              "   {'gamma': 0.2},\n",
              "   {'gamma': 0.3},\n",
              "   {'gamma': 0.4}],\n",
              "  'rank_test_score': array([1, 1, 1, 1, 1], dtype=int32),\n",
              "  'split0_test_score': array([0.5, 0.5, 0.5, 0.5, 0.5]),\n",
              "  'split1_test_score': array([0.5, 0.5, 0.5, 0.5, 0.5]),\n",
              "  'split2_test_score': array([0.5, 0.5, 0.5, 0.5, 0.5]),\n",
              "  'split3_test_score': array([0.5, 0.5, 0.5, 0.5, 0.5]),\n",
              "  'split4_test_score': array([0.5, 0.5, 0.5, 0.5, 0.5]),\n",
              "  'std_fit_time': array([0.0894618 , 0.13591802, 0.08374211, 0.07605362, 0.07898533]),\n",
              "  'std_score_time': array([0.03603817, 0.04063282, 0.04014582, 0.03028852, 0.02673217]),\n",
              "  'std_test_score': array([0., 0., 0., 0., 0.])},\n",
              " {'gamma': 0.0},\n",
              " 0.5)"
            ]
          },
          "metadata": {
            "tags": []
          },
          "execution_count": 117
        }
      ]
    },
    {
      "cell_type": "markdown",
      "metadata": {
        "id": "yGEdX1GzriZD"
      },
      "source": [
        "####After Tuning "
      ]
    },
    {
      "cell_type": "code",
      "metadata": {
        "id": "tnFTBkqemtEz",
        "colab": {
          "base_uri": "https://localhost:8080/"
        },
        "outputId": "bd83712b-845e-4851-bcfa-c4558873bf3a"
      },
      "source": [
        "xgb4 = XGBClassifier(\r\n",
        " learning_rate =0.01,\r\n",
        " n_estimators=5000,\r\n",
        " max_depth=3,\r\n",
        " min_child_weight=1,\r\n",
        " gamma=0,\r\n",
        " subsample=0.8,\r\n",
        " colsample_bytree=0.8,\r\n",
        " reg_alpha=0.005,\r\n",
        " objective= 'binary:logistic',\r\n",
        " nthread=4,\r\n",
        " scale_pos_weight=1,\r\n",
        " seed=27)\r\n",
        "xgb4.fit(X_train, y_train)\r\n",
        "y_pred = model.predict(X_test)\r\n",
        "predictions = [round(value) for value in y_pred]\r\n",
        "\r\n",
        "accuracy = accuracy_score(y_test, predictions)\r\n",
        "print(\"Accuracy: %.2f%%\" % (accuracy * 100.0))"
      ],
      "execution_count": null,
      "outputs": [
        {
          "output_type": "stream",
          "text": [
            "Accuracy: 53.85%\n"
          ],
          "name": "stdout"
        }
      ]
    },
    {
      "cell_type": "markdown",
      "metadata": {
        "id": "dHQ-VBo7JWbs"
      },
      "source": [
        "####Stacking "
      ]
    },
    {
      "cell_type": "code",
      "metadata": {
        "id": "wH8sq0A4OYKN"
      },
      "source": [
        "from numpy import mean\r\n",
        "from numpy import std\r\n",
        "from sklearn.model_selection import cross_val_score\r\n",
        "from sklearn.model_selection import RepeatedStratifiedKFold\r\n",
        "from sklearn.ensemble import StackingClassifier\r\n",
        "from matplotlib import pyplot\r\n"
      ],
      "execution_count": null,
      "outputs": []
    },
    {
      "cell_type": "code",
      "metadata": {
        "id": "1vZ7T_STmoMr"
      },
      "source": [
        "import warnings\r\n",
        "warnings.filterwarnings(\"ignore\")\r\n"
      ],
      "execution_count": null,
      "outputs": []
    },
    {
      "cell_type": "code",
      "metadata": {
        "id": "iTL7DJ5rmpUA"
      },
      "source": [
        "def stacking():\r\n",
        "\t# define the base models\r\n",
        "\tlevel0 = list()\r\n",
        "\tlevel0.append(('lr', LogisticRegression()))\r\n",
        "\tlevel0.append(('knn', KNeighborsClassifier()))\r\n",
        "\tlevel0.append(('cart', DecisionTreeClassifier()))\r\n",
        "\tlevel0.append(('svm', SVC()))\r\n",
        "\tlevel0.append(('bayes', GaussianNB()))\r\n",
        "\t# define meta learner model\r\n",
        "\tlevel1 = LogisticRegression()\r\n",
        "\t# define the stacking ensemble\r\n",
        "\tmodel = StackingClassifier(estimators=level0, final_estimator=level1, cv=5)\r\n",
        "\treturn model"
      ],
      "execution_count": null,
      "outputs": []
    },
    {
      "cell_type": "code",
      "metadata": {
        "id": "yxEMwsRIm9-Q"
      },
      "source": [
        "def getmodels():\r\n",
        "\tmodels = dict()\r\n",
        "\tmodels['lr'] = LogisticRegression()\r\n",
        "\tmodels['knn'] = KNeighborsClassifier()\r\n",
        "\tmodels['cart'] = DecisionTreeClassifier()\r\n",
        "\tmodels['svm'] = SVC()\r\n",
        "\tmodels['bayes'] = GaussianNB()\r\n",
        "\tmodels['stacking'] = stacking()\r\n",
        "\treturn models"
      ],
      "execution_count": null,
      "outputs": []
    },
    {
      "cell_type": "code",
      "metadata": {
        "id": "kqiSKV3fnPZB"
      },
      "source": [
        " \r\n",
        "# evaluate a give model using cross-validation\r\n",
        "def evaluate_model(model, X_train, y_train):\r\n",
        "\tcv = RepeatedStratifiedKFold(n_splits=10, n_repeats=3, random_state=1)\r\n",
        "\tscores = cross_val_score(model, X, y, scoring='accuracy', cv=cv)\r\n",
        "\treturn scores\r\n",
        " "
      ],
      "execution_count": null,
      "outputs": []
    },
    {
      "cell_type": "code",
      "metadata": {
        "colab": {
          "base_uri": "https://localhost:8080/",
          "height": 374
        },
        "id": "neqIlrrDnUCw",
        "outputId": "12ec7bbe-b5b6-461f-8422-776c1a2bfbf8"
      },
      "source": [
        "models = getmodels()\r\n",
        "results, names = list(), list()\r\n",
        "for name, model in models.items():\r\n",
        "\tscores = evaluate_model(model, X_train, y_train)\r\n",
        "\tresults.append(scores)\r\n",
        "\tnames.append(name)\r\n",
        "\tprint('>%s %.3f (%.3f)' % (name, mean(scores), std(scores)))\r\n",
        "# plot model performance for comparison\r\n",
        "pyplot.boxplot(results, labels=names, showmeans=True)\r\n",
        "pyplot.show()"
      ],
      "execution_count": null,
      "outputs": [
        {
          "output_type": "stream",
          "text": [
            ">lr 0.851 (0.113)\n",
            ">knn 0.846 (0.100)\n",
            ">cart 0.754 (0.140)\n",
            ">svm 0.846 (0.103)\n",
            ">bayes 0.581 (0.179)\n",
            ">stacking 0.852 (0.116)\n"
          ],
          "name": "stdout"
        },
        {
          "output_type": "display_data",
          "data": {
            "image/png": "[encoded data removed]",
            "text/plain": [
              "<Figure size 432x288 with 1 Axes>"
            ]
          },
          "metadata": {
            "tags": [],
            "needs_background": "light"
          }
        }
      ]
    },
    {
      "cell_type": "markdown",
      "metadata": {
        "id": "smX4aPXAhXcm"
      },
      "source": [
        ""
      ]
    }
  ]
}