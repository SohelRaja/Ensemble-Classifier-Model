{
  "nbformat": 4,
  "nbformat_minor": 0,
  "metadata": {
    "colab": {
      "name": "classifier1.ipynb",
      "provenance": [],
      "include_colab_link": true
    },
    "kernelspec": {
      "name": "python3",
      "display_name": "Python 3"
    }
  },
  "cells": [
    {
      "cell_type": "markdown",
      "metadata": {
        "id": "view-in-github",
        "colab_type": "text"
      },
      "source": [
        "<a href=\"https://colab.research.google.com/github/shankha2018/Consensus-and-Ensemble-Model/blob/main/Imbalanced%20Data%20with%20Random%20Ratio/classifier1.ipynb\" target=\"_parent\"><img src=\"https://colab.research.google.com/assets/colab-badge.svg\" alt=\"Open In Colab\"/></a>"
      ]
    },
    {
      "cell_type": "markdown",
      "metadata": {
        "id": "l4icOIGgFJAd"
      },
      "source": [
        "### Classification"
      ]
    },
    {
      "cell_type": "markdown",
      "metadata": {
        "id": "sO-PkJSpI2Iu"
      },
      "source": [
        "### Importing Libraries"
      ]
    },
    {
      "cell_type": "code",
      "metadata": {
        "id": "YUu26Ji_I7UT"
      },
      "source": [
        "import numpy as np\r\n",
        "import pandas as pd \r\n",
        "import seaborn as sns\r\n",
        "import matplotlib.pyplot as plt\r\n",
        "%matplotlib inline"
      ],
      "execution_count": 155,
      "outputs": []
    },
    {
      "cell_type": "code",
      "metadata": {
        "id": "SQpPqrNmuCHh"
      },
      "source": [
        "import warnings\r\n",
        "warnings.filterwarnings(\"ignore\")"
      ],
      "execution_count": 272,
      "outputs": []
    },
    {
      "cell_type": "markdown",
      "metadata": {
        "id": "fWI7eFcUJQ9y"
      },
      "source": [
        "### Reading the Dataset"
      ]
    },
    {
      "cell_type": "code",
      "metadata": {
        "id": "vC21I5wLFWWy"
      },
      "source": [
        "datasetUrl = 'https://raw.githubusercontent.com/SohelRaja/Consensus-and-Ensemble-Model/main/Datasets/colon.csv'"
      ],
      "execution_count": 156,
      "outputs": []
    },
    {
      "cell_type": "code",
      "metadata": {
        "id": "GVPExhBVJk56"
      },
      "source": [
        "colon = pd.read_csv(datasetUrl)"
      ],
      "execution_count": 157,
      "outputs": []
    },
    {
      "cell_type": "code",
      "metadata": {
        "colab": {
          "base_uri": "https://localhost:8080/",
          "height": 265
        },
        "id": "L0fgr6wUJskA",
        "outputId": "807edeb2-4288-4fee-9814-033b208207e8"
      },
      "source": [
        "colon.head(5)"
      ],
      "execution_count": 158,
      "outputs": [
        {
          "output_type": "execute_result",
          "data": {
            "text/html": [
              "<div>\n",
              "<style scoped>\n",
              "    .dataframe tbody tr th:only-of-type {\n",
              "        vertical-align: middle;\n",
              "    }\n",
              "\n",
              "    .dataframe tbody tr th {\n",
              "        vertical-align: top;\n",
              "    }\n",
              "\n",
              "    .dataframe thead th {\n",
              "        text-align: right;\n",
              "    }\n",
              "</style>\n",
              "<table border=\"1\" class=\"dataframe\">\n",
              "  <thead>\n",
              "    <tr style=\"text-align: right;\">\n",
              "      <th></th>\n",
              "      <th>Unnamed: 0</th>\n",
              "      <th>H55933</th>\n",
              "      <th>R39465</th>\n",
              "      <th>R39465_</th>\n",
              "      <th>R85482</th>\n",
              "      <th>U14973</th>\n",
              "      <th>R02593</th>\n",
              "      <th>T51496</th>\n",
              "      <th>H80240</th>\n",
              "      <th>T65938</th>\n",
              "      <th>T55131</th>\n",
              "      <th>T72863</th>\n",
              "      <th>H86060_</th>\n",
              "      <th>X63432</th>\n",
              "      <th>H20709</th>\n",
              "      <th>U14971</th>\n",
              "      <th>T52342</th>\n",
              "      <th>L28809</th>\n",
              "      <th>T63508</th>\n",
              "      <th>H09263</th>\n",
              "      <th>T49423</th>\n",
              "      <th>H79852</th>\n",
              "      <th>J02763</th>\n",
              "      <th>R22197</th>\n",
              "      <th>T59954</th>\n",
              "      <th>H80240_</th>\n",
              "      <th>T95018</th>\n",
              "      <th>H86060</th>\n",
              "      <th>T63484</th>\n",
              "      <th>R02593_</th>\n",
              "      <th>M11799</th>\n",
              "      <th>T61609</th>\n",
              "      <th>T62220</th>\n",
              "      <th>T51574</th>\n",
              "      <th>T48041</th>\n",
              "      <th>T96832</th>\n",
              "      <th>H54676</th>\n",
              "      <th>R86975</th>\n",
              "      <th>T63258</th>\n",
              "      <th>control1</th>\n",
              "      <th>...</th>\n",
              "      <th>R78142</th>\n",
              "      <th>R62945</th>\n",
              "      <th>X70070</th>\n",
              "      <th>U05040</th>\n",
              "      <th>U33429</th>\n",
              "      <th>T60778</th>\n",
              "      <th>X04011</th>\n",
              "      <th>L12350</th>\n",
              "      <th>R06749</th>\n",
              "      <th>U24105</th>\n",
              "      <th>T57468</th>\n",
              "      <th>M55422</th>\n",
              "      <th>M64110</th>\n",
              "      <th>U14577</th>\n",
              "      <th>K03474</th>\n",
              "      <th>T49204</th>\n",
              "      <th>D00760</th>\n",
              "      <th>H20856</th>\n",
              "      <th>R98410</th>\n",
              "      <th>H62854</th>\n",
              "      <th>T89666</th>\n",
              "      <th>D38551</th>\n",
              "      <th>U12140</th>\n",
              "      <th>M63239</th>\n",
              "      <th>D14689</th>\n",
              "      <th>M67454</th>\n",
              "      <th>T64128</th>\n",
              "      <th>R76825</th>\n",
              "      <th>U15212</th>\n",
              "      <th>X67699</th>\n",
              "      <th>R70790</th>\n",
              "      <th>L11706</th>\n",
              "      <th>T90549</th>\n",
              "      <th>D17390</th>\n",
              "      <th>M33210</th>\n",
              "      <th>H18490</th>\n",
              "      <th>H40891</th>\n",
              "      <th>R77780</th>\n",
              "      <th>T49647</th>\n",
              "      <th>Class</th>\n",
              "    </tr>\n",
              "  </thead>\n",
              "  <tbody>\n",
              "    <tr>\n",
              "      <th>0</th>\n",
              "      <td>1</td>\n",
              "      <td>8589.4160</td>\n",
              "      <td>5468.2407</td>\n",
              "      <td>4263.4077</td>\n",
              "      <td>4064.9358</td>\n",
              "      <td>1997.8930</td>\n",
              "      <td>5282.3250</td>\n",
              "      <td>2169.7200</td>\n",
              "      <td>2773.4211</td>\n",
              "      <td>7526.3860</td>\n",
              "      <td>4607.6763</td>\n",
              "      <td>2598.0600</td>\n",
              "      <td>1522.6462</td>\n",
              "      <td>1300.5988</td>\n",
              "      <td>1181.6300</td>\n",
              "      <td>2417.95830</td>\n",
              "      <td>3139.4000</td>\n",
              "      <td>2473.2612</td>\n",
              "      <td>1306.9038</td>\n",
              "      <td>1285.6025</td>\n",
              "      <td>1900.3613</td>\n",
              "      <td>3504.2139</td>\n",
              "      <td>2428.0525</td>\n",
              "      <td>5150.0137</td>\n",
              "      <td>3855.8400</td>\n",
              "      <td>1806.4750</td>\n",
              "      <td>3192.4130</td>\n",
              "      <td>872.0143</td>\n",
              "      <td>1135.82390</td>\n",
              "      <td>2365.2424</td>\n",
              "      <td>1567.2363</td>\n",
              "      <td>1643.5575</td>\n",
              "      <td>1582.03500</td>\n",
              "      <td>2854.9875</td>\n",
              "      <td>2513.3350</td>\n",
              "      <td>930.0712</td>\n",
              "      <td>3166.5800</td>\n",
              "      <td>930.3038</td>\n",
              "      <td>2018.3550</td>\n",
              "      <td>2065.5945</td>\n",
              "      <td>...</td>\n",
              "      <td>135.19624</td>\n",
              "      <td>98.47250</td>\n",
              "      <td>74.65250</td>\n",
              "      <td>46.80125</td>\n",
              "      <td>75.626190</td>\n",
              "      <td>228.42250</td>\n",
              "      <td>77.22375</td>\n",
              "      <td>47.94625</td>\n",
              "      <td>34.68750</td>\n",
              "      <td>225.91500</td>\n",
              "      <td>243.41250</td>\n",
              "      <td>35.825000</td>\n",
              "      <td>177.23810</td>\n",
              "      <td>64.71125</td>\n",
              "      <td>88.44444</td>\n",
              "      <td>107.83375</td>\n",
              "      <td>42.16750</td>\n",
              "      <td>47.62125</td>\n",
              "      <td>163.80125</td>\n",
              "      <td>86.000000</td>\n",
              "      <td>69.35250</td>\n",
              "      <td>90.344444</td>\n",
              "      <td>58.44750</td>\n",
              "      <td>52.86625</td>\n",
              "      <td>12.202632</td>\n",
              "      <td>20.689285</td>\n",
              "      <td>86.81000</td>\n",
              "      <td>51.46000</td>\n",
              "      <td>289.42374</td>\n",
              "      <td>99.11072</td>\n",
              "      <td>67.56125</td>\n",
              "      <td>259.91250</td>\n",
              "      <td>138.89874</td>\n",
              "      <td>88.23250</td>\n",
              "      <td>39.66786</td>\n",
              "      <td>67.82875</td>\n",
              "      <td>75.67750</td>\n",
              "      <td>83.52250</td>\n",
              "      <td>28.70125</td>\n",
              "      <td>Abnormal</td>\n",
              "    </tr>\n",
              "    <tr>\n",
              "      <th>1</th>\n",
              "      <td>2</td>\n",
              "      <td>9164.2540</td>\n",
              "      <td>6719.5293</td>\n",
              "      <td>4883.4487</td>\n",
              "      <td>3718.1590</td>\n",
              "      <td>2015.2214</td>\n",
              "      <td>5569.9070</td>\n",
              "      <td>3849.0588</td>\n",
              "      <td>2793.3875</td>\n",
              "      <td>7017.7340</td>\n",
              "      <td>4802.2524</td>\n",
              "      <td>1672.9750</td>\n",
              "      <td>1792.1769</td>\n",
              "      <td>3792.5425</td>\n",
              "      <td>3630.3826</td>\n",
              "      <td>1906.21310</td>\n",
              "      <td>5745.3960</td>\n",
              "      <td>1919.4462</td>\n",
              "      <td>2036.2838</td>\n",
              "      <td>2253.3625</td>\n",
              "      <td>2490.8738</td>\n",
              "      <td>3759.5850</td>\n",
              "      <td>4268.9185</td>\n",
              "      <td>4166.1914</td>\n",
              "      <td>4286.6900</td>\n",
              "      <td>2699.2844</td>\n",
              "      <td>2796.0833</td>\n",
              "      <td>1015.9143</td>\n",
              "      <td>1459.10250</td>\n",
              "      <td>2865.0388</td>\n",
              "      <td>1156.9563</td>\n",
              "      <td>1351.9650</td>\n",
              "      <td>3218.32130</td>\n",
              "      <td>3855.5337</td>\n",
              "      <td>3097.4539</td>\n",
              "      <td>1667.5425</td>\n",
              "      <td>2779.3037</td>\n",
              "      <td>1064.2675</td>\n",
              "      <td>2430.8790</td>\n",
              "      <td>2814.2800</td>\n",
              "      <td>...</td>\n",
              "      <td>169.08000</td>\n",
              "      <td>76.40750</td>\n",
              "      <td>119.05750</td>\n",
              "      <td>62.59750</td>\n",
              "      <td>81.463100</td>\n",
              "      <td>1803.76370</td>\n",
              "      <td>100.05250</td>\n",
              "      <td>101.37625</td>\n",
              "      <td>61.82250</td>\n",
              "      <td>330.16125</td>\n",
              "      <td>202.20500</td>\n",
              "      <td>37.129760</td>\n",
              "      <td>605.53810</td>\n",
              "      <td>91.29500</td>\n",
              "      <td>86.03611</td>\n",
              "      <td>48.45875</td>\n",
              "      <td>37.41750</td>\n",
              "      <td>86.38625</td>\n",
              "      <td>163.13875</td>\n",
              "      <td>146.125000</td>\n",
              "      <td>89.59000</td>\n",
              "      <td>124.708330</td>\n",
              "      <td>35.79375</td>\n",
              "      <td>62.05875</td>\n",
              "      <td>39.719738</td>\n",
              "      <td>83.142860</td>\n",
              "      <td>321.33750</td>\n",
              "      <td>41.59125</td>\n",
              "      <td>263.36874</td>\n",
              "      <td>126.78929</td>\n",
              "      <td>92.23875</td>\n",
              "      <td>96.27625</td>\n",
              "      <td>150.59000</td>\n",
              "      <td>82.23750</td>\n",
              "      <td>85.03333</td>\n",
              "      <td>152.19500</td>\n",
              "      <td>186.56750</td>\n",
              "      <td>44.47250</td>\n",
              "      <td>16.77375</td>\n",
              "      <td>Normal</td>\n",
              "    </tr>\n",
              "    <tr>\n",
              "      <th>2</th>\n",
              "      <td>3</td>\n",
              "      <td>3825.7050</td>\n",
              "      <td>6970.3613</td>\n",
              "      <td>5369.9688</td>\n",
              "      <td>4705.6500</td>\n",
              "      <td>1166.5536</td>\n",
              "      <td>1572.1678</td>\n",
              "      <td>1325.4025</td>\n",
              "      <td>1472.2587</td>\n",
              "      <td>3296.9512</td>\n",
              "      <td>2786.5820</td>\n",
              "      <td>2441.4187</td>\n",
              "      <td>1487.6711</td>\n",
              "      <td>1315.8538</td>\n",
              "      <td>855.4550</td>\n",
              "      <td>802.30475</td>\n",
              "      <td>3251.1084</td>\n",
              "      <td>781.9950</td>\n",
              "      <td>1618.6500</td>\n",
              "      <td>1066.8387</td>\n",
              "      <td>1006.2112</td>\n",
              "      <td>1436.7850</td>\n",
              "      <td>658.8787</td>\n",
              "      <td>1924.7913</td>\n",
              "      <td>2080.6611</td>\n",
              "      <td>1155.9438</td>\n",
              "      <td>1444.0964</td>\n",
              "      <td>853.4429</td>\n",
              "      <td>734.52875</td>\n",
              "      <td>763.3075</td>\n",
              "      <td>704.1175</td>\n",
              "      <td>591.8088</td>\n",
              "      <td>807.39374</td>\n",
              "      <td>2138.8726</td>\n",
              "      <td>1734.1150</td>\n",
              "      <td>905.6200</td>\n",
              "      <td>1378.1200</td>\n",
              "      <td>797.1925</td>\n",
              "      <td>1880.1875</td>\n",
              "      <td>1389.6302</td>\n",
              "      <td>...</td>\n",
              "      <td>62.98000</td>\n",
              "      <td>51.04375</td>\n",
              "      <td>104.76250</td>\n",
              "      <td>10.15750</td>\n",
              "      <td>47.025000</td>\n",
              "      <td>460.56750</td>\n",
              "      <td>64.46125</td>\n",
              "      <td>159.98000</td>\n",
              "      <td>99.53250</td>\n",
              "      <td>122.04250</td>\n",
              "      <td>97.26750</td>\n",
              "      <td>23.496430</td>\n",
              "      <td>119.11190</td>\n",
              "      <td>75.15500</td>\n",
              "      <td>122.41389</td>\n",
              "      <td>40.46750</td>\n",
              "      <td>6.15625</td>\n",
              "      <td>10.62375</td>\n",
              "      <td>128.99374</td>\n",
              "      <td>24.917105</td>\n",
              "      <td>77.06375</td>\n",
              "      <td>33.443054</td>\n",
              "      <td>14.43625</td>\n",
              "      <td>30.18500</td>\n",
              "      <td>24.805264</td>\n",
              "      <td>6.016071</td>\n",
              "      <td>116.18375</td>\n",
              "      <td>50.87375</td>\n",
              "      <td>71.40125</td>\n",
              "      <td>151.87738</td>\n",
              "      <td>82.71500</td>\n",
              "      <td>31.10250</td>\n",
              "      <td>193.92000</td>\n",
              "      <td>76.97250</td>\n",
              "      <td>224.62024</td>\n",
              "      <td>31.22500</td>\n",
              "      <td>42.65625</td>\n",
              "      <td>16.09250</td>\n",
              "      <td>15.15625</td>\n",
              "      <td>Abnormal</td>\n",
              "    </tr>\n",
              "    <tr>\n",
              "      <th>3</th>\n",
              "      <td>4</td>\n",
              "      <td>6246.4487</td>\n",
              "      <td>7823.5340</td>\n",
              "      <td>5955.8350</td>\n",
              "      <td>3975.5642</td>\n",
              "      <td>2002.6132</td>\n",
              "      <td>2130.5430</td>\n",
              "      <td>1531.1425</td>\n",
              "      <td>1714.6312</td>\n",
              "      <td>3869.7850</td>\n",
              "      <td>4989.4070</td>\n",
              "      <td>1723.5800</td>\n",
              "      <td>1298.7250</td>\n",
              "      <td>1309.3475</td>\n",
              "      <td>1789.6700</td>\n",
              "      <td>1587.79170</td>\n",
              "      <td>3496.1458</td>\n",
              "      <td>1226.2975</td>\n",
              "      <td>1597.2812</td>\n",
              "      <td>1144.6912</td>\n",
              "      <td>1139.6274</td>\n",
              "      <td>2662.0974</td>\n",
              "      <td>2636.1562</td>\n",
              "      <td>3134.7476</td>\n",
              "      <td>4244.0700</td>\n",
              "      <td>1186.8938</td>\n",
              "      <td>2342.3820</td>\n",
              "      <td>792.2143</td>\n",
              "      <td>1133.23750</td>\n",
              "      <td>969.8237</td>\n",
              "      <td>835.3862</td>\n",
              "      <td>1392.7162</td>\n",
              "      <td>3034.57130</td>\n",
              "      <td>4699.3950</td>\n",
              "      <td>3312.4812</td>\n",
              "      <td>854.4288</td>\n",
              "      <td>1880.5400</td>\n",
              "      <td>1329.3225</td>\n",
              "      <td>3124.2488</td>\n",
              "      <td>2456.0930</td>\n",
              "      <td>...</td>\n",
              "      <td>61.42375</td>\n",
              "      <td>97.97375</td>\n",
              "      <td>34.58875</td>\n",
              "      <td>63.75875</td>\n",
              "      <td>45.223810</td>\n",
              "      <td>799.94500</td>\n",
              "      <td>71.27625</td>\n",
              "      <td>24.16875</td>\n",
              "      <td>40.38625</td>\n",
              "      <td>198.43500</td>\n",
              "      <td>170.53876</td>\n",
              "      <td>16.402382</td>\n",
              "      <td>172.44524</td>\n",
              "      <td>90.45500</td>\n",
              "      <td>140.83057</td>\n",
              "      <td>31.11625</td>\n",
              "      <td>21.02875</td>\n",
              "      <td>70.51875</td>\n",
              "      <td>203.06375</td>\n",
              "      <td>174.063160</td>\n",
              "      <td>86.48125</td>\n",
              "      <td>76.851390</td>\n",
              "      <td>38.58875</td>\n",
              "      <td>10.61125</td>\n",
              "      <td>35.985527</td>\n",
              "      <td>43.935715</td>\n",
              "      <td>239.27000</td>\n",
              "      <td>29.55875</td>\n",
              "      <td>367.58124</td>\n",
              "      <td>152.59525</td>\n",
              "      <td>41.68375</td>\n",
              "      <td>5.92500</td>\n",
              "      <td>183.00626</td>\n",
              "      <td>74.52875</td>\n",
              "      <td>67.71072</td>\n",
              "      <td>48.33875</td>\n",
              "      <td>42.52000</td>\n",
              "      <td>49.98250</td>\n",
              "      <td>16.08500</td>\n",
              "      <td>Normal</td>\n",
              "    </tr>\n",
              "    <tr>\n",
              "      <th>4</th>\n",
              "      <td>5</td>\n",
              "      <td>3230.3286</td>\n",
              "      <td>3694.4500</td>\n",
              "      <td>3400.7400</td>\n",
              "      <td>3463.5857</td>\n",
              "      <td>2181.4202</td>\n",
              "      <td>2922.7820</td>\n",
              "      <td>2069.2463</td>\n",
              "      <td>2948.5750</td>\n",
              "      <td>3303.3710</td>\n",
              "      <td>3109.4130</td>\n",
              "      <td>2724.2660</td>\n",
              "      <td>2557.7847</td>\n",
              "      <td>3164.6963</td>\n",
              "      <td>2285.3088</td>\n",
              "      <td>2576.74880</td>\n",
              "      <td>3056.7250</td>\n",
              "      <td>1391.5900</td>\n",
              "      <td>2162.5537</td>\n",
              "      <td>1540.2500</td>\n",
              "      <td>2705.6750</td>\n",
              "      <td>1271.7188</td>\n",
              "      <td>4439.8910</td>\n",
              "      <td>2030.6738</td>\n",
              "      <td>2249.8188</td>\n",
              "      <td>2150.1218</td>\n",
              "      <td>3350.5024</td>\n",
              "      <td>1563.9893</td>\n",
              "      <td>1903.58250</td>\n",
              "      <td>1568.1113</td>\n",
              "      <td>1368.8175</td>\n",
              "      <td>2648.2676</td>\n",
              "      <td>1073.41000</td>\n",
              "      <td>1207.4163</td>\n",
              "      <td>1201.7687</td>\n",
              "      <td>1733.8239</td>\n",
              "      <td>621.6500</td>\n",
              "      <td>1381.4825</td>\n",
              "      <td>719.4525</td>\n",
              "      <td>967.3576</td>\n",
              "      <td>...</td>\n",
              "      <td>40.36000</td>\n",
              "      <td>22.07125</td>\n",
              "      <td>6.37000</td>\n",
              "      <td>17.33375</td>\n",
              "      <td>45.464287</td>\n",
              "      <td>105.94625</td>\n",
              "      <td>28.90500</td>\n",
              "      <td>75.84375</td>\n",
              "      <td>42.00125</td>\n",
              "      <td>123.20875</td>\n",
              "      <td>42.02250</td>\n",
              "      <td>19.664286</td>\n",
              "      <td>49.37738</td>\n",
              "      <td>62.65250</td>\n",
              "      <td>52.74167</td>\n",
              "      <td>55.26750</td>\n",
              "      <td>30.60375</td>\n",
              "      <td>57.94250</td>\n",
              "      <td>149.38500</td>\n",
              "      <td>24.352633</td>\n",
              "      <td>29.42375</td>\n",
              "      <td>49.856945</td>\n",
              "      <td>80.67375</td>\n",
              "      <td>50.12125</td>\n",
              "      <td>71.184210</td>\n",
              "      <td>29.364286</td>\n",
              "      <td>52.59125</td>\n",
              "      <td>43.63625</td>\n",
              "      <td>56.07250</td>\n",
              "      <td>126.46429</td>\n",
              "      <td>76.60375</td>\n",
              "      <td>161.35000</td>\n",
              "      <td>61.70125</td>\n",
              "      <td>54.56375</td>\n",
              "      <td>223.35953</td>\n",
              "      <td>73.09875</td>\n",
              "      <td>57.59875</td>\n",
              "      <td>7.48875</td>\n",
              "      <td>31.81250</td>\n",
              "      <td>Abnormal</td>\n",
              "    </tr>\n",
              "  </tbody>\n",
              "</table>\n",
              "<p>5 rows × 2002 columns</p>\n",
              "</div>"
            ],
            "text/plain": [
              "   Unnamed: 0     H55933     R39465  ...    R77780    T49647     Class\n",
              "0           1  8589.4160  5468.2407  ...  83.52250  28.70125  Abnormal\n",
              "1           2  9164.2540  6719.5293  ...  44.47250  16.77375    Normal\n",
              "2           3  3825.7050  6970.3613  ...  16.09250  15.15625  Abnormal\n",
              "3           4  6246.4487  7823.5340  ...  49.98250  16.08500    Normal\n",
              "4           5  3230.3286  3694.4500  ...   7.48875  31.81250  Abnormal\n",
              "\n",
              "[5 rows x 2002 columns]"
            ]
          },
          "metadata": {
            "tags": []
          },
          "execution_count": 158
        }
      ]
    },
    {
      "cell_type": "markdown",
      "metadata": {
        "id": "uCTI7EkAKNBd"
      },
      "source": [
        "### Data Analysis"
      ]
    },
    {
      "cell_type": "code",
      "metadata": {
        "colab": {
          "base_uri": "https://localhost:8080/"
        },
        "id": "UmkqKNrkJyH4",
        "outputId": "c9fa4d2a-9e20-41d6-9c96-9cbaf145ccc0"
      },
      "source": [
        "colon.info()"
      ],
      "execution_count": 159,
      "outputs": [
        {
          "output_type": "stream",
          "text": [
            "<class 'pandas.core.frame.DataFrame'>\n",
            "RangeIndex: 62 entries, 0 to 61\n",
            "Columns: 2002 entries, Unnamed: 0 to Class\n",
            "dtypes: float64(2000), int64(1), object(1)\n",
            "memory usage: 969.8+ KB\n"
          ],
          "name": "stdout"
        }
      ]
    },
    {
      "cell_type": "code",
      "metadata": {
        "colab": {
          "base_uri": "https://localhost:8080/"
        },
        "id": "PDPvbNGnKRGn",
        "outputId": "8b2ac780-e60e-48b1-e40b-cc8fb4d49240"
      },
      "source": [
        "colon_arr = np.array(colon.columns)\r\n",
        "def unique_value_check():\r\n",
        "    len_col = len(colon_arr)\r\n",
        "    print(\"Column Name : No. of unique value\")\r\n",
        "    print(\"---------------------------------\")\r\n",
        "    for i in range(len_col):\r\n",
        "        val = len(np.unique(colon[colon_arr[i]]))\r\n",
        "        if val != 62:\r\n",
        "            print(i,\" : \",colon_arr[i],\":\",val,end='\\t')\r\n",
        "            if(val<10):\r\n",
        "                print(\"---> \",colon[colon_arr[i]].unique().tolist())\r\n",
        "            else:\r\n",
        "                print(\"---> [Too Much Values]\")\r\n",
        "print(unique_value_check())\r\n",
        "colon_arr"
      ],
      "execution_count": 160,
      "outputs": [
        {
          "output_type": "stream",
          "text": [
            "Column Name : No. of unique value\n",
            "---------------------------------\n",
            "870  :  M16827 : 61\t---> [Too Much Values]\n",
            "1022  :  R38513_ : 61\t---> [Too Much Values]\n",
            "1077  :  R55778 : 61\t---> [Too Much Values]\n",
            "1129  :  T55840 : 61\t---> [Too Much Values]\n",
            "1158  :  T89175 : 61\t---> [Too Much Values]\n",
            "1179  :  U20285 : 61\t---> [Too Much Values]\n",
            "1358  :  U02081 : 61\t---> [Too Much Values]\n",
            "1404  :  M14676 : 61\t---> [Too Much Values]\n",
            "1474  :  L26050_ : 61\t---> [Too Much Values]\n",
            "1521  :  U07139 : 61\t---> [Too Much Values]\n",
            "1524  :  T47719 : 61\t---> [Too Much Values]\n",
            "1531  :  M34344 : 61\t---> [Too Much Values]\n",
            "1701  :  H62466 : 61\t---> [Too Much Values]\n",
            "1740  :  M81651 : 61\t---> [Too Much Values]\n",
            "1771  :  J05032 : 61\t---> [Too Much Values]\n",
            "1864  :  T91121 : 61\t---> [Too Much Values]\n",
            "1947  :  R44112 : 61\t---> [Too Much Values]\n",
            "1984  :  U12140 : 61\t---> [Too Much Values]\n",
            "2001  :  Class : 2\t--->  ['Abnormal', 'Normal']\n",
            "None\n"
          ],
          "name": "stdout"
        },
        {
          "output_type": "execute_result",
          "data": {
            "text/plain": [
              "array(['Unnamed: 0', 'H55933', 'R39465', ..., 'R77780', 'T49647', 'Class'],\n",
              "      dtype=object)"
            ]
          },
          "metadata": {
            "tags": []
          },
          "execution_count": 160
        }
      ]
    },
    {
      "cell_type": "code",
      "metadata": {
        "colab": {
          "base_uri": "https://localhost:8080/",
          "height": 355
        },
        "id": "caFaa0G6MoFY",
        "outputId": "a19401e4-1eec-4576-a57e-2436f1e46bad"
      },
      "source": [
        "colon.describe()"
      ],
      "execution_count": 161,
      "outputs": [
        {
          "output_type": "execute_result",
          "data": {
            "text/html": [
              "<div>\n",
              "<style scoped>\n",
              "    .dataframe tbody tr th:only-of-type {\n",
              "        vertical-align: middle;\n",
              "    }\n",
              "\n",
              "    .dataframe tbody tr th {\n",
              "        vertical-align: top;\n",
              "    }\n",
              "\n",
              "    .dataframe thead th {\n",
              "        text-align: right;\n",
              "    }\n",
              "</style>\n",
              "<table border=\"1\" class=\"dataframe\">\n",
              "  <thead>\n",
              "    <tr style=\"text-align: right;\">\n",
              "      <th></th>\n",
              "      <th>Unnamed: 0</th>\n",
              "      <th>H55933</th>\n",
              "      <th>R39465</th>\n",
              "      <th>R39465_</th>\n",
              "      <th>R85482</th>\n",
              "      <th>U14973</th>\n",
              "      <th>R02593</th>\n",
              "      <th>T51496</th>\n",
              "      <th>H80240</th>\n",
              "      <th>T65938</th>\n",
              "      <th>T55131</th>\n",
              "      <th>T72863</th>\n",
              "      <th>H86060_</th>\n",
              "      <th>X63432</th>\n",
              "      <th>H20709</th>\n",
              "      <th>U14971</th>\n",
              "      <th>T52342</th>\n",
              "      <th>L28809</th>\n",
              "      <th>T63508</th>\n",
              "      <th>H09263</th>\n",
              "      <th>T49423</th>\n",
              "      <th>H79852</th>\n",
              "      <th>J02763</th>\n",
              "      <th>R22197</th>\n",
              "      <th>T59954</th>\n",
              "      <th>H80240_</th>\n",
              "      <th>T95018</th>\n",
              "      <th>H86060</th>\n",
              "      <th>T63484</th>\n",
              "      <th>R02593_</th>\n",
              "      <th>M11799</th>\n",
              "      <th>T61609</th>\n",
              "      <th>T62220</th>\n",
              "      <th>T51574</th>\n",
              "      <th>T48041</th>\n",
              "      <th>T96832</th>\n",
              "      <th>H54676</th>\n",
              "      <th>R86975</th>\n",
              "      <th>T63258</th>\n",
              "      <th>control1</th>\n",
              "      <th>...</th>\n",
              "      <th>H77510</th>\n",
              "      <th>R78142</th>\n",
              "      <th>R62945</th>\n",
              "      <th>X70070</th>\n",
              "      <th>U05040</th>\n",
              "      <th>U33429</th>\n",
              "      <th>T60778</th>\n",
              "      <th>X04011</th>\n",
              "      <th>L12350</th>\n",
              "      <th>R06749</th>\n",
              "      <th>U24105</th>\n",
              "      <th>T57468</th>\n",
              "      <th>M55422</th>\n",
              "      <th>M64110</th>\n",
              "      <th>U14577</th>\n",
              "      <th>K03474</th>\n",
              "      <th>T49204</th>\n",
              "      <th>D00760</th>\n",
              "      <th>H20856</th>\n",
              "      <th>R98410</th>\n",
              "      <th>H62854</th>\n",
              "      <th>T89666</th>\n",
              "      <th>D38551</th>\n",
              "      <th>U12140</th>\n",
              "      <th>M63239</th>\n",
              "      <th>D14689</th>\n",
              "      <th>M67454</th>\n",
              "      <th>T64128</th>\n",
              "      <th>R76825</th>\n",
              "      <th>U15212</th>\n",
              "      <th>X67699</th>\n",
              "      <th>R70790</th>\n",
              "      <th>L11706</th>\n",
              "      <th>T90549</th>\n",
              "      <th>D17390</th>\n",
              "      <th>M33210</th>\n",
              "      <th>H18490</th>\n",
              "      <th>H40891</th>\n",
              "      <th>R77780</th>\n",
              "      <th>T49647</th>\n",
              "    </tr>\n",
              "  </thead>\n",
              "  <tbody>\n",
              "    <tr>\n",
              "      <th>count</th>\n",
              "      <td>62.000000</td>\n",
              "      <td>62.000000</td>\n",
              "      <td>62.000000</td>\n",
              "      <td>62.000000</td>\n",
              "      <td>62.000000</td>\n",
              "      <td>62.000000</td>\n",
              "      <td>62.000000</td>\n",
              "      <td>62.000000</td>\n",
              "      <td>62.000000</td>\n",
              "      <td>62.000000</td>\n",
              "      <td>62.000000</td>\n",
              "      <td>62.000000</td>\n",
              "      <td>62.000000</td>\n",
              "      <td>62.000000</td>\n",
              "      <td>62.000000</td>\n",
              "      <td>62.000000</td>\n",
              "      <td>62.000000</td>\n",
              "      <td>62.000000</td>\n",
              "      <td>62.000000</td>\n",
              "      <td>62.000000</td>\n",
              "      <td>62.000000</td>\n",
              "      <td>62.000000</td>\n",
              "      <td>62.000000</td>\n",
              "      <td>62.000000</td>\n",
              "      <td>62.000000</td>\n",
              "      <td>62.000000</td>\n",
              "      <td>62.000000</td>\n",
              "      <td>62.000000</td>\n",
              "      <td>62.000000</td>\n",
              "      <td>62.000000</td>\n",
              "      <td>62.000000</td>\n",
              "      <td>62.000000</td>\n",
              "      <td>62.000000</td>\n",
              "      <td>62.000000</td>\n",
              "      <td>62.000000</td>\n",
              "      <td>62.000000</td>\n",
              "      <td>62.000000</td>\n",
              "      <td>62.000000</td>\n",
              "      <td>62.000000</td>\n",
              "      <td>62.000000</td>\n",
              "      <td>...</td>\n",
              "      <td>62.000000</td>\n",
              "      <td>62.000000</td>\n",
              "      <td>62.000000</td>\n",
              "      <td>62.000000</td>\n",
              "      <td>62.000000</td>\n",
              "      <td>62.000000</td>\n",
              "      <td>62.000000</td>\n",
              "      <td>62.000000</td>\n",
              "      <td>62.000000</td>\n",
              "      <td>62.000000</td>\n",
              "      <td>62.000000</td>\n",
              "      <td>62.000000</td>\n",
              "      <td>62.000000</td>\n",
              "      <td>62.000000</td>\n",
              "      <td>62.000000</td>\n",
              "      <td>62.000000</td>\n",
              "      <td>62.000000</td>\n",
              "      <td>62.000000</td>\n",
              "      <td>62.000000</td>\n",
              "      <td>62.000000</td>\n",
              "      <td>62.000000</td>\n",
              "      <td>62.000000</td>\n",
              "      <td>62.000000</td>\n",
              "      <td>62.000000</td>\n",
              "      <td>62.000000</td>\n",
              "      <td>62.000000</td>\n",
              "      <td>62.000000</td>\n",
              "      <td>62.000000</td>\n",
              "      <td>62.000000</td>\n",
              "      <td>62.000000</td>\n",
              "      <td>62.000000</td>\n",
              "      <td>62.000000</td>\n",
              "      <td>62.000000</td>\n",
              "      <td>62.000000</td>\n",
              "      <td>62.000000</td>\n",
              "      <td>62.000000</td>\n",
              "      <td>62.000000</td>\n",
              "      <td>62.000000</td>\n",
              "      <td>62.000000</td>\n",
              "      <td>62.000000</td>\n",
              "    </tr>\n",
              "    <tr>\n",
              "      <th>mean</th>\n",
              "      <td>31.500000</td>\n",
              "      <td>7015.786703</td>\n",
              "      <td>4966.959971</td>\n",
              "      <td>4094.727906</td>\n",
              "      <td>3987.789302</td>\n",
              "      <td>2937.126132</td>\n",
              "      <td>4705.119294</td>\n",
              "      <td>3588.800302</td>\n",
              "      <td>2872.288627</td>\n",
              "      <td>4680.191126</td>\n",
              "      <td>4039.661958</td>\n",
              "      <td>3399.386232</td>\n",
              "      <td>2283.847035</td>\n",
              "      <td>3064.709573</td>\n",
              "      <td>3169.054361</td>\n",
              "      <td>3087.897071</td>\n",
              "      <td>4342.216085</td>\n",
              "      <td>2906.718926</td>\n",
              "      <td>2275.056023</td>\n",
              "      <td>2516.240561</td>\n",
              "      <td>2920.266588</td>\n",
              "      <td>3198.948548</td>\n",
              "      <td>4672.716847</td>\n",
              "      <td>3544.121735</td>\n",
              "      <td>3243.616007</td>\n",
              "      <td>2146.440465</td>\n",
              "      <td>4441.338633</td>\n",
              "      <td>1319.834292</td>\n",
              "      <td>2620.612727</td>\n",
              "      <td>2398.687153</td>\n",
              "      <td>2416.720414</td>\n",
              "      <td>2728.851989</td>\n",
              "      <td>1829.040311</td>\n",
              "      <td>3132.103775</td>\n",
              "      <td>1951.479187</td>\n",
              "      <td>1326.721536</td>\n",
              "      <td>2320.837516</td>\n",
              "      <td>2239.639920</td>\n",
              "      <td>1594.724263</td>\n",
              "      <td>2306.324157</td>\n",
              "      <td>...</td>\n",
              "      <td>78.244234</td>\n",
              "      <td>81.977560</td>\n",
              "      <td>223.428349</td>\n",
              "      <td>68.373891</td>\n",
              "      <td>57.369234</td>\n",
              "      <td>72.967761</td>\n",
              "      <td>463.727180</td>\n",
              "      <td>82.297017</td>\n",
              "      <td>128.950785</td>\n",
              "      <td>60.494657</td>\n",
              "      <td>271.628951</td>\n",
              "      <td>203.333509</td>\n",
              "      <td>41.380875</td>\n",
              "      <td>248.155971</td>\n",
              "      <td>79.882218</td>\n",
              "      <td>183.262590</td>\n",
              "      <td>103.252299</td>\n",
              "      <td>90.263649</td>\n",
              "      <td>71.159980</td>\n",
              "      <td>208.169699</td>\n",
              "      <td>90.730603</td>\n",
              "      <td>49.362177</td>\n",
              "      <td>112.489315</td>\n",
              "      <td>49.123790</td>\n",
              "      <td>55.558851</td>\n",
              "      <td>72.746414</td>\n",
              "      <td>61.462875</td>\n",
              "      <td>219.899538</td>\n",
              "      <td>65.092621</td>\n",
              "      <td>186.239012</td>\n",
              "      <td>186.204532</td>\n",
              "      <td>100.227903</td>\n",
              "      <td>293.222722</td>\n",
              "      <td>124.653387</td>\n",
              "      <td>133.186935</td>\n",
              "      <td>184.136636</td>\n",
              "      <td>84.118387</td>\n",
              "      <td>114.930000</td>\n",
              "      <td>53.251230</td>\n",
              "      <td>42.965827</td>\n",
              "    </tr>\n",
              "    <tr>\n",
              "      <th>std</th>\n",
              "      <td>18.041619</td>\n",
              "      <td>3092.970593</td>\n",
              "      <td>2188.890465</td>\n",
              "      <td>1818.080945</td>\n",
              "      <td>2019.086906</td>\n",
              "      <td>1356.932895</td>\n",
              "      <td>2400.848121</td>\n",
              "      <td>1872.106074</td>\n",
              "      <td>1122.365445</td>\n",
              "      <td>2417.239210</td>\n",
              "      <td>2018.044259</td>\n",
              "      <td>1841.232524</td>\n",
              "      <td>805.367040</td>\n",
              "      <td>1752.976635</td>\n",
              "      <td>1629.209786</td>\n",
              "      <td>1531.673225</td>\n",
              "      <td>2091.829860</td>\n",
              "      <td>1597.413732</td>\n",
              "      <td>954.275623</td>\n",
              "      <td>1455.282461</td>\n",
              "      <td>1646.820322</td>\n",
              "      <td>1657.661682</td>\n",
              "      <td>2202.233176</td>\n",
              "      <td>2012.013956</td>\n",
              "      <td>1923.390782</td>\n",
              "      <td>845.154632</td>\n",
              "      <td>2486.862067</td>\n",
              "      <td>521.621695</td>\n",
              "      <td>1314.871487</td>\n",
              "      <td>1332.286091</td>\n",
              "      <td>1236.560380</td>\n",
              "      <td>1708.641893</td>\n",
              "      <td>844.895807</td>\n",
              "      <td>1771.742108</td>\n",
              "      <td>877.221537</td>\n",
              "      <td>594.530875</td>\n",
              "      <td>1324.342855</td>\n",
              "      <td>1261.389033</td>\n",
              "      <td>795.542247</td>\n",
              "      <td>1330.420236</td>\n",
              "      <td>...</td>\n",
              "      <td>55.980613</td>\n",
              "      <td>52.123156</td>\n",
              "      <td>384.934640</td>\n",
              "      <td>38.273377</td>\n",
              "      <td>44.448600</td>\n",
              "      <td>55.354463</td>\n",
              "      <td>479.368497</td>\n",
              "      <td>48.883995</td>\n",
              "      <td>147.003258</td>\n",
              "      <td>51.905583</td>\n",
              "      <td>163.084930</td>\n",
              "      <td>146.025051</td>\n",
              "      <td>24.685863</td>\n",
              "      <td>325.837881</td>\n",
              "      <td>53.547760</td>\n",
              "      <td>201.103915</td>\n",
              "      <td>66.941879</td>\n",
              "      <td>99.478449</td>\n",
              "      <td>41.911208</td>\n",
              "      <td>136.261553</td>\n",
              "      <td>67.567683</td>\n",
              "      <td>27.559189</td>\n",
              "      <td>95.161307</td>\n",
              "      <td>23.945443</td>\n",
              "      <td>46.316973</td>\n",
              "      <td>54.988725</td>\n",
              "      <td>52.075881</td>\n",
              "      <td>200.746139</td>\n",
              "      <td>42.511124</td>\n",
              "      <td>116.216778</td>\n",
              "      <td>117.605889</td>\n",
              "      <td>78.022713</td>\n",
              "      <td>179.249194</td>\n",
              "      <td>75.535838</td>\n",
              "      <td>101.372557</td>\n",
              "      <td>159.914871</td>\n",
              "      <td>86.182028</td>\n",
              "      <td>88.011866</td>\n",
              "      <td>38.462814</td>\n",
              "      <td>28.395175</td>\n",
              "    </tr>\n",
              "    <tr>\n",
              "      <th>min</th>\n",
              "      <td>1.000000</td>\n",
              "      <td>1914.677500</td>\n",
              "      <td>1383.488600</td>\n",
              "      <td>1269.648700</td>\n",
              "      <td>1186.030400</td>\n",
              "      <td>1166.553600</td>\n",
              "      <td>1087.750000</td>\n",
              "      <td>1062.697500</td>\n",
              "      <td>1026.477500</td>\n",
              "      <td>995.790000</td>\n",
              "      <td>974.815500</td>\n",
              "      <td>967.785000</td>\n",
              "      <td>962.561500</td>\n",
              "      <td>886.018740</td>\n",
              "      <td>855.455000</td>\n",
              "      <td>802.304750</td>\n",
              "      <td>758.529200</td>\n",
              "      <td>745.535000</td>\n",
              "      <td>736.873800</td>\n",
              "      <td>716.773740</td>\n",
              "      <td>672.956240</td>\n",
              "      <td>666.181300</td>\n",
              "      <td>658.878700</td>\n",
              "      <td>607.091250</td>\n",
              "      <td>606.788760</td>\n",
              "      <td>601.550000</td>\n",
              "      <td>590.352360</td>\n",
              "      <td>569.736900</td>\n",
              "      <td>568.015000</td>\n",
              "      <td>566.867500</td>\n",
              "      <td>561.336240</td>\n",
              "      <td>538.690000</td>\n",
              "      <td>524.087500</td>\n",
              "      <td>502.191250</td>\n",
              "      <td>473.665000</td>\n",
              "      <td>461.221250</td>\n",
              "      <td>460.318760</td>\n",
              "      <td>439.676240</td>\n",
              "      <td>422.656250</td>\n",
              "      <td>408.691830</td>\n",
              "      <td>...</td>\n",
              "      <td>6.427500</td>\n",
              "      <td>6.416250</td>\n",
              "      <td>6.382500</td>\n",
              "      <td>6.370000</td>\n",
              "      <td>6.361250</td>\n",
              "      <td>6.330952</td>\n",
              "      <td>6.317500</td>\n",
              "      <td>6.298750</td>\n",
              "      <td>6.296250</td>\n",
              "      <td>6.295000</td>\n",
              "      <td>6.271250</td>\n",
              "      <td>6.261250</td>\n",
              "      <td>6.259524</td>\n",
              "      <td>6.253571</td>\n",
              "      <td>6.220000</td>\n",
              "      <td>6.191667</td>\n",
              "      <td>6.161250</td>\n",
              "      <td>6.156250</td>\n",
              "      <td>6.136250</td>\n",
              "      <td>6.121250</td>\n",
              "      <td>6.088158</td>\n",
              "      <td>6.081250</td>\n",
              "      <td>6.072222</td>\n",
              "      <td>6.068750</td>\n",
              "      <td>6.068750</td>\n",
              "      <td>6.032895</td>\n",
              "      <td>6.016071</td>\n",
              "      <td>6.010000</td>\n",
              "      <td>5.967500</td>\n",
              "      <td>5.960000</td>\n",
              "      <td>5.950000</td>\n",
              "      <td>5.935000</td>\n",
              "      <td>5.925000</td>\n",
              "      <td>5.923750</td>\n",
              "      <td>5.916250</td>\n",
              "      <td>5.888095</td>\n",
              "      <td>5.878750</td>\n",
              "      <td>5.848750</td>\n",
              "      <td>5.842500</td>\n",
              "      <td>5.816250</td>\n",
              "    </tr>\n",
              "    <tr>\n",
              "      <th>25%</th>\n",
              "      <td>16.250000</td>\n",
              "      <td>4877.364750</td>\n",
              "      <td>3408.951225</td>\n",
              "      <td>2763.725975</td>\n",
              "      <td>2648.942800</td>\n",
              "      <td>1890.857050</td>\n",
              "      <td>2843.368825</td>\n",
              "      <td>2112.952225</td>\n",
              "      <td>2050.814050</td>\n",
              "      <td>2971.792800</td>\n",
              "      <td>2797.992475</td>\n",
              "      <td>2262.145950</td>\n",
              "      <td>1611.937025</td>\n",
              "      <td>1907.105625</td>\n",
              "      <td>2172.427500</td>\n",
              "      <td>1910.997925</td>\n",
              "      <td>2819.642700</td>\n",
              "      <td>1838.989650</td>\n",
              "      <td>1572.333100</td>\n",
              "      <td>1512.676525</td>\n",
              "      <td>1900.875675</td>\n",
              "      <td>2151.280250</td>\n",
              "      <td>3294.699100</td>\n",
              "      <td>2082.751750</td>\n",
              "      <td>1901.467200</td>\n",
              "      <td>1545.273475</td>\n",
              "      <td>2537.145150</td>\n",
              "      <td>921.028275</td>\n",
              "      <td>1650.939025</td>\n",
              "      <td>1422.442500</td>\n",
              "      <td>1560.012825</td>\n",
              "      <td>1416.335900</td>\n",
              "      <td>1175.271800</td>\n",
              "      <td>1850.027550</td>\n",
              "      <td>1258.330050</td>\n",
              "      <td>893.686555</td>\n",
              "      <td>1414.655000</td>\n",
              "      <td>1265.376250</td>\n",
              "      <td>963.191550</td>\n",
              "      <td>1419.536425</td>\n",
              "      <td>...</td>\n",
              "      <td>41.089375</td>\n",
              "      <td>40.845625</td>\n",
              "      <td>61.557812</td>\n",
              "      <td>42.507500</td>\n",
              "      <td>27.512500</td>\n",
              "      <td>33.380059</td>\n",
              "      <td>119.756250</td>\n",
              "      <td>51.588125</td>\n",
              "      <td>43.374063</td>\n",
              "      <td>30.591250</td>\n",
              "      <td>142.063740</td>\n",
              "      <td>106.802813</td>\n",
              "      <td>22.445536</td>\n",
              "      <td>48.647916</td>\n",
              "      <td>44.088125</td>\n",
              "      <td>76.950000</td>\n",
              "      <td>53.410313</td>\n",
              "      <td>38.074062</td>\n",
              "      <td>37.255625</td>\n",
              "      <td>110.201875</td>\n",
              "      <td>38.524999</td>\n",
              "      <td>28.680312</td>\n",
              "      <td>47.329515</td>\n",
              "      <td>32.277187</td>\n",
              "      <td>24.349063</td>\n",
              "      <td>35.990133</td>\n",
              "      <td>28.098660</td>\n",
              "      <td>87.134062</td>\n",
              "      <td>33.091562</td>\n",
              "      <td>97.613125</td>\n",
              "      <td>117.778870</td>\n",
              "      <td>48.409375</td>\n",
              "      <td>161.518125</td>\n",
              "      <td>69.121250</td>\n",
              "      <td>71.637500</td>\n",
              "      <td>85.905057</td>\n",
              "      <td>30.701875</td>\n",
              "      <td>53.881563</td>\n",
              "      <td>27.334375</td>\n",
              "      <td>24.610000</td>\n",
              "    </tr>\n",
              "    <tr>\n",
              "      <th>50%</th>\n",
              "      <td>31.500000</td>\n",
              "      <td>6274.612550</td>\n",
              "      <td>4738.280500</td>\n",
              "      <td>3890.338150</td>\n",
              "      <td>3451.498150</td>\n",
              "      <td>2666.075700</td>\n",
              "      <td>4416.617650</td>\n",
              "      <td>3438.180000</td>\n",
              "      <td>2844.960650</td>\n",
              "      <td>4088.735500</td>\n",
              "      <td>3823.017800</td>\n",
              "      <td>2826.344350</td>\n",
              "      <td>2262.380750</td>\n",
              "      <td>2492.688100</td>\n",
              "      <td>2816.295000</td>\n",
              "      <td>2712.358850</td>\n",
              "      <td>3897.531200</td>\n",
              "      <td>2598.854500</td>\n",
              "      <td>2155.740600</td>\n",
              "      <td>2270.915000</td>\n",
              "      <td>2580.613150</td>\n",
              "      <td>2821.245000</td>\n",
              "      <td>4205.968800</td>\n",
              "      <td>3026.407450</td>\n",
              "      <td>2866.318750</td>\n",
              "      <td>2114.454700</td>\n",
              "      <td>3536.417850</td>\n",
              "      <td>1238.191650</td>\n",
              "      <td>2537.421750</td>\n",
              "      <td>2203.850550</td>\n",
              "      <td>2154.311850</td>\n",
              "      <td>2218.594350</td>\n",
              "      <td>1660.793800</td>\n",
              "      <td>2874.126200</td>\n",
              "      <td>1901.573150</td>\n",
              "      <td>1135.861250</td>\n",
              "      <td>1958.271250</td>\n",
              "      <td>1769.682500</td>\n",
              "      <td>1526.170000</td>\n",
              "      <td>2057.862750</td>\n",
              "      <td>...</td>\n",
              "      <td>64.441875</td>\n",
              "      <td>71.073125</td>\n",
              "      <td>104.259375</td>\n",
              "      <td>56.256875</td>\n",
              "      <td>47.458750</td>\n",
              "      <td>60.527975</td>\n",
              "      <td>252.145005</td>\n",
              "      <td>66.357500</td>\n",
              "      <td>93.665625</td>\n",
              "      <td>42.738750</td>\n",
              "      <td>249.394375</td>\n",
              "      <td>175.462505</td>\n",
              "      <td>36.244644</td>\n",
              "      <td>143.002970</td>\n",
              "      <td>68.923750</td>\n",
              "      <td>128.356945</td>\n",
              "      <td>90.375000</td>\n",
              "      <td>66.401250</td>\n",
              "      <td>67.405000</td>\n",
              "      <td>176.822495</td>\n",
              "      <td>65.128948</td>\n",
              "      <td>47.325625</td>\n",
              "      <td>86.543750</td>\n",
              "      <td>46.275000</td>\n",
              "      <td>40.516875</td>\n",
              "      <td>62.219736</td>\n",
              "      <td>40.495537</td>\n",
              "      <td>154.537500</td>\n",
              "      <td>53.750000</td>\n",
              "      <td>152.221250</td>\n",
              "      <td>152.722625</td>\n",
              "      <td>83.080625</td>\n",
              "      <td>251.883125</td>\n",
              "      <td>114.658125</td>\n",
              "      <td>104.271875</td>\n",
              "      <td>142.578565</td>\n",
              "      <td>56.385625</td>\n",
              "      <td>93.825625</td>\n",
              "      <td>45.358125</td>\n",
              "      <td>34.775000</td>\n",
              "    </tr>\n",
              "    <tr>\n",
              "      <th>75%</th>\n",
              "      <td>46.750000</td>\n",
              "      <td>8712.283250</td>\n",
              "      <td>6455.843300</td>\n",
              "      <td>5008.993925</td>\n",
              "      <td>4738.408950</td>\n",
              "      <td>3563.969400</td>\n",
              "      <td>6076.031850</td>\n",
              "      <td>4420.645200</td>\n",
              "      <td>3414.228475</td>\n",
              "      <td>6171.382750</td>\n",
              "      <td>4840.715525</td>\n",
              "      <td>4452.665550</td>\n",
              "      <td>2701.564975</td>\n",
              "      <td>3783.073450</td>\n",
              "      <td>3732.618825</td>\n",
              "      <td>3903.791150</td>\n",
              "      <td>5689.288750</td>\n",
              "      <td>3528.117450</td>\n",
              "      <td>2850.737500</td>\n",
              "      <td>3141.238200</td>\n",
              "      <td>3585.230075</td>\n",
              "      <td>4015.545275</td>\n",
              "      <td>5175.069200</td>\n",
              "      <td>4304.264175</td>\n",
              "      <td>3918.914300</td>\n",
              "      <td>2638.589050</td>\n",
              "      <td>6005.005000</td>\n",
              "      <td>1562.154775</td>\n",
              "      <td>3171.343200</td>\n",
              "      <td>2969.483750</td>\n",
              "      <td>3226.700300</td>\n",
              "      <td>3401.894675</td>\n",
              "      <td>2408.888050</td>\n",
              "      <td>3823.606200</td>\n",
              "      <td>2473.673125</td>\n",
              "      <td>1717.253550</td>\n",
              "      <td>2956.512500</td>\n",
              "      <td>2857.738750</td>\n",
              "      <td>2121.883750</td>\n",
              "      <td>2858.822650</td>\n",
              "      <td>...</td>\n",
              "      <td>96.124688</td>\n",
              "      <td>109.620312</td>\n",
              "      <td>202.349063</td>\n",
              "      <td>97.647500</td>\n",
              "      <td>67.532813</td>\n",
              "      <td>97.192859</td>\n",
              "      <td>717.615675</td>\n",
              "      <td>99.065000</td>\n",
              "      <td>156.652500</td>\n",
              "      <td>82.830938</td>\n",
              "      <td>379.323753</td>\n",
              "      <td>286.484380</td>\n",
              "      <td>51.166370</td>\n",
              "      <td>292.635120</td>\n",
              "      <td>94.648438</td>\n",
              "      <td>191.697230</td>\n",
              "      <td>125.748750</td>\n",
              "      <td>102.055312</td>\n",
              "      <td>105.196250</td>\n",
              "      <td>240.360937</td>\n",
              "      <td>132.379932</td>\n",
              "      <td>62.545625</td>\n",
              "      <td>153.776727</td>\n",
              "      <td>63.690313</td>\n",
              "      <td>71.107813</td>\n",
              "      <td>95.139802</td>\n",
              "      <td>83.622320</td>\n",
              "      <td>295.172180</td>\n",
              "      <td>83.565625</td>\n",
              "      <td>254.069065</td>\n",
              "      <td>247.298513</td>\n",
              "      <td>117.208438</td>\n",
              "      <td>424.742500</td>\n",
              "      <td>177.730310</td>\n",
              "      <td>149.772188</td>\n",
              "      <td>212.019948</td>\n",
              "      <td>101.231250</td>\n",
              "      <td>145.074062</td>\n",
              "      <td>66.235312</td>\n",
              "      <td>54.697500</td>\n",
              "    </tr>\n",
              "    <tr>\n",
              "      <th>max</th>\n",
              "      <td>62.000000</td>\n",
              "      <td>14876.407000</td>\n",
              "      <td>10152.273000</td>\n",
              "      <td>8605.044000</td>\n",
              "      <td>11248.680000</td>\n",
              "      <td>8093.875000</td>\n",
              "      <td>11222.682000</td>\n",
              "      <td>9939.246000</td>\n",
              "      <td>5917.026400</td>\n",
              "      <td>14144.835000</td>\n",
              "      <td>12307.913000</td>\n",
              "      <td>8021.137700</td>\n",
              "      <td>4224.231000</td>\n",
              "      <td>8878.309000</td>\n",
              "      <td>7860.928700</td>\n",
              "      <td>7190.996600</td>\n",
              "      <td>10694.517000</td>\n",
              "      <td>8875.920000</td>\n",
              "      <td>4680.407700</td>\n",
              "      <td>7498.049000</td>\n",
              "      <td>9255.164000</td>\n",
              "      <td>8706.220000</td>\n",
              "      <td>12112.095000</td>\n",
              "      <td>10051.350000</td>\n",
              "      <td>10721.298000</td>\n",
              "      <td>4620.137700</td>\n",
              "      <td>12061.600000</td>\n",
              "      <td>2714.634500</td>\n",
              "      <td>6943.249000</td>\n",
              "      <td>6196.501500</td>\n",
              "      <td>6215.131300</td>\n",
              "      <td>8193.987000</td>\n",
              "      <td>4026.877400</td>\n",
              "      <td>8418.048000</td>\n",
              "      <td>4246.701000</td>\n",
              "      <td>2822.997600</td>\n",
              "      <td>5684.589000</td>\n",
              "      <td>6190.576000</td>\n",
              "      <td>4111.697300</td>\n",
              "      <td>6961.134300</td>\n",
              "      <td>...</td>\n",
              "      <td>309.888760</td>\n",
              "      <td>255.560000</td>\n",
              "      <td>2586.041300</td>\n",
              "      <td>158.012500</td>\n",
              "      <td>212.325000</td>\n",
              "      <td>248.822620</td>\n",
              "      <td>2002.773800</td>\n",
              "      <td>205.428760</td>\n",
              "      <td>800.747500</td>\n",
              "      <td>285.026250</td>\n",
              "      <td>654.580000</td>\n",
              "      <td>670.437500</td>\n",
              "      <td>112.685710</td>\n",
              "      <td>1878.304800</td>\n",
              "      <td>269.295000</td>\n",
              "      <td>1174.891700</td>\n",
              "      <td>266.388760</td>\n",
              "      <td>534.781250</td>\n",
              "      <td>154.807500</td>\n",
              "      <td>554.676300</td>\n",
              "      <td>280.576320</td>\n",
              "      <td>147.623750</td>\n",
              "      <td>577.147200</td>\n",
              "      <td>107.090000</td>\n",
              "      <td>216.385000</td>\n",
              "      <td>242.228940</td>\n",
              "      <td>255.076800</td>\n",
              "      <td>1090.617600</td>\n",
              "      <td>217.951250</td>\n",
              "      <td>496.083740</td>\n",
              "      <td>725.338100</td>\n",
              "      <td>438.383760</td>\n",
              "      <td>902.572500</td>\n",
              "      <td>333.418760</td>\n",
              "      <td>464.930000</td>\n",
              "      <td>702.130900</td>\n",
              "      <td>405.600000</td>\n",
              "      <td>390.890000</td>\n",
              "      <td>197.220000</td>\n",
              "      <td>126.826250</td>\n",
              "    </tr>\n",
              "  </tbody>\n",
              "</table>\n",
              "<p>8 rows × 2001 columns</p>\n",
              "</div>"
            ],
            "text/plain": [
              "       Unnamed: 0        H55933  ...      R77780      T49647\n",
              "count   62.000000     62.000000  ...   62.000000   62.000000\n",
              "mean    31.500000   7015.786703  ...   53.251230   42.965827\n",
              "std     18.041619   3092.970593  ...   38.462814   28.395175\n",
              "min      1.000000   1914.677500  ...    5.842500    5.816250\n",
              "25%     16.250000   4877.364750  ...   27.334375   24.610000\n",
              "50%     31.500000   6274.612550  ...   45.358125   34.775000\n",
              "75%     46.750000   8712.283250  ...   66.235312   54.697500\n",
              "max     62.000000  14876.407000  ...  197.220000  126.826250\n",
              "\n",
              "[8 rows x 2001 columns]"
            ]
          },
          "metadata": {
            "tags": []
          },
          "execution_count": 161
        }
      ]
    },
    {
      "cell_type": "code",
      "metadata": {
        "colab": {
          "base_uri": "https://localhost:8080/",
          "height": 337
        },
        "id": "AQIZ6PAHPZ62",
        "outputId": "e1784bf9-e90c-4b31-fca5-b23f68f5b36e"
      },
      "source": [
        "sns.heatmap(colon.isnull(),cbar=False)"
      ],
      "execution_count": 162,
      "outputs": [
        {
          "output_type": "execute_result",
          "data": {
            "text/plain": [
              "<matplotlib.axes._subplots.AxesSubplot at 0x7f39dc384470>"
            ]
          },
          "metadata": {
            "tags": []
          },
          "execution_count": 162
        },
        {
          "output_type": "display_data",
          "data": {
            "image/png": "[encoded data removed]",
            "text/plain": [
              "<Figure size 432x288 with 1 Axes>"
            ]
          },
          "metadata": {
            "tags": [],
            "needs_background": "light"
          }
        }
      ]
    },
    {
      "cell_type": "code",
      "metadata": {
        "id": "jzyPwLJgQHN7"
      },
      "source": [
        "df = colon.drop(columns=['Unnamed: 0'],axis=1)"
      ],
      "execution_count": 163,
      "outputs": []
    },
    {
      "cell_type": "code",
      "metadata": {
        "colab": {
          "base_uri": "https://localhost:8080/"
        },
        "id": "WzoeMgrlRAmn",
        "outputId": "c704204f-5742-43ed-c4c6-79c70618b9d7"
      },
      "source": [
        "df.info()"
      ],
      "execution_count": 164,
      "outputs": [
        {
          "output_type": "stream",
          "text": [
            "<class 'pandas.core.frame.DataFrame'>\n",
            "RangeIndex: 62 entries, 0 to 61\n",
            "Columns: 2001 entries, H55933 to Class\n",
            "dtypes: float64(2000), object(1)\n",
            "memory usage: 969.4+ KB\n"
          ],
          "name": "stdout"
        }
      ]
    },
    {
      "cell_type": "code",
      "metadata": {
        "id": "J4QhI04vatcP"
      },
      "source": [
        "df = colon.drop(columns=['Unnamed: 0'],axis=1)"
      ],
      "execution_count": 165,
      "outputs": []
    },
    {
      "cell_type": "code",
      "metadata": {
        "colab": {
          "base_uri": "https://localhost:8080/",
          "height": 247
        },
        "id": "fF8XECTuawum",
        "outputId": "d60dff92-8b2d-4dbb-8c7c-b87dfd4b0814"
      },
      "source": [
        "df.head()\r\n"
      ],
      "execution_count": 166,
      "outputs": [
        {
          "output_type": "execute_result",
          "data": {
            "text/html": [
              "<div>\n",
              "<style scoped>\n",
              "    .dataframe tbody tr th:only-of-type {\n",
              "        vertical-align: middle;\n",
              "    }\n",
              "\n",
              "    .dataframe tbody tr th {\n",
              "        vertical-align: top;\n",
              "    }\n",
              "\n",
              "    .dataframe thead th {\n",
              "        text-align: right;\n",
              "    }\n",
              "</style>\n",
              "<table border=\"1\" class=\"dataframe\">\n",
              "  <thead>\n",
              "    <tr style=\"text-align: right;\">\n",
              "      <th></th>\n",
              "      <th>H55933</th>\n",
              "      <th>R39465</th>\n",
              "      <th>R39465_</th>\n",
              "      <th>R85482</th>\n",
              "      <th>U14973</th>\n",
              "      <th>R02593</th>\n",
              "      <th>T51496</th>\n",
              "      <th>H80240</th>\n",
              "      <th>T65938</th>\n",
              "      <th>T55131</th>\n",
              "      <th>T72863</th>\n",
              "      <th>H86060_</th>\n",
              "      <th>X63432</th>\n",
              "      <th>H20709</th>\n",
              "      <th>U14971</th>\n",
              "      <th>T52342</th>\n",
              "      <th>L28809</th>\n",
              "      <th>T63508</th>\n",
              "      <th>H09263</th>\n",
              "      <th>T49423</th>\n",
              "      <th>H79852</th>\n",
              "      <th>J02763</th>\n",
              "      <th>R22197</th>\n",
              "      <th>T59954</th>\n",
              "      <th>H80240_</th>\n",
              "      <th>T95018</th>\n",
              "      <th>H86060</th>\n",
              "      <th>T63484</th>\n",
              "      <th>R02593_</th>\n",
              "      <th>M11799</th>\n",
              "      <th>T61609</th>\n",
              "      <th>T62220</th>\n",
              "      <th>T51574</th>\n",
              "      <th>T48041</th>\n",
              "      <th>T96832</th>\n",
              "      <th>H54676</th>\n",
              "      <th>R86975</th>\n",
              "      <th>T63258</th>\n",
              "      <th>control1</th>\n",
              "      <th>control2</th>\n",
              "      <th>...</th>\n",
              "      <th>R78142</th>\n",
              "      <th>R62945</th>\n",
              "      <th>X70070</th>\n",
              "      <th>U05040</th>\n",
              "      <th>U33429</th>\n",
              "      <th>T60778</th>\n",
              "      <th>X04011</th>\n",
              "      <th>L12350</th>\n",
              "      <th>R06749</th>\n",
              "      <th>U24105</th>\n",
              "      <th>T57468</th>\n",
              "      <th>M55422</th>\n",
              "      <th>M64110</th>\n",
              "      <th>U14577</th>\n",
              "      <th>K03474</th>\n",
              "      <th>T49204</th>\n",
              "      <th>D00760</th>\n",
              "      <th>H20856</th>\n",
              "      <th>R98410</th>\n",
              "      <th>H62854</th>\n",
              "      <th>T89666</th>\n",
              "      <th>D38551</th>\n",
              "      <th>U12140</th>\n",
              "      <th>M63239</th>\n",
              "      <th>D14689</th>\n",
              "      <th>M67454</th>\n",
              "      <th>T64128</th>\n",
              "      <th>R76825</th>\n",
              "      <th>U15212</th>\n",
              "      <th>X67699</th>\n",
              "      <th>R70790</th>\n",
              "      <th>L11706</th>\n",
              "      <th>T90549</th>\n",
              "      <th>D17390</th>\n",
              "      <th>M33210</th>\n",
              "      <th>H18490</th>\n",
              "      <th>H40891</th>\n",
              "      <th>R77780</th>\n",
              "      <th>T49647</th>\n",
              "      <th>Class</th>\n",
              "    </tr>\n",
              "  </thead>\n",
              "  <tbody>\n",
              "    <tr>\n",
              "      <th>0</th>\n",
              "      <td>8589.4160</td>\n",
              "      <td>5468.2407</td>\n",
              "      <td>4263.4077</td>\n",
              "      <td>4064.9358</td>\n",
              "      <td>1997.8930</td>\n",
              "      <td>5282.3250</td>\n",
              "      <td>2169.7200</td>\n",
              "      <td>2773.4211</td>\n",
              "      <td>7526.3860</td>\n",
              "      <td>4607.6763</td>\n",
              "      <td>2598.0600</td>\n",
              "      <td>1522.6462</td>\n",
              "      <td>1300.5988</td>\n",
              "      <td>1181.6300</td>\n",
              "      <td>2417.95830</td>\n",
              "      <td>3139.4000</td>\n",
              "      <td>2473.2612</td>\n",
              "      <td>1306.9038</td>\n",
              "      <td>1285.6025</td>\n",
              "      <td>1900.3613</td>\n",
              "      <td>3504.2139</td>\n",
              "      <td>2428.0525</td>\n",
              "      <td>5150.0137</td>\n",
              "      <td>3855.8400</td>\n",
              "      <td>1806.4750</td>\n",
              "      <td>3192.4130</td>\n",
              "      <td>872.0143</td>\n",
              "      <td>1135.82390</td>\n",
              "      <td>2365.2424</td>\n",
              "      <td>1567.2363</td>\n",
              "      <td>1643.5575</td>\n",
              "      <td>1582.03500</td>\n",
              "      <td>2854.9875</td>\n",
              "      <td>2513.3350</td>\n",
              "      <td>930.0712</td>\n",
              "      <td>3166.5800</td>\n",
              "      <td>930.3038</td>\n",
              "      <td>2018.3550</td>\n",
              "      <td>2065.5945</td>\n",
              "      <td>2065.5945</td>\n",
              "      <td>...</td>\n",
              "      <td>135.19624</td>\n",
              "      <td>98.47250</td>\n",
              "      <td>74.65250</td>\n",
              "      <td>46.80125</td>\n",
              "      <td>75.626190</td>\n",
              "      <td>228.42250</td>\n",
              "      <td>77.22375</td>\n",
              "      <td>47.94625</td>\n",
              "      <td>34.68750</td>\n",
              "      <td>225.91500</td>\n",
              "      <td>243.41250</td>\n",
              "      <td>35.825000</td>\n",
              "      <td>177.23810</td>\n",
              "      <td>64.71125</td>\n",
              "      <td>88.44444</td>\n",
              "      <td>107.83375</td>\n",
              "      <td>42.16750</td>\n",
              "      <td>47.62125</td>\n",
              "      <td>163.80125</td>\n",
              "      <td>86.000000</td>\n",
              "      <td>69.35250</td>\n",
              "      <td>90.344444</td>\n",
              "      <td>58.44750</td>\n",
              "      <td>52.86625</td>\n",
              "      <td>12.202632</td>\n",
              "      <td>20.689285</td>\n",
              "      <td>86.81000</td>\n",
              "      <td>51.46000</td>\n",
              "      <td>289.42374</td>\n",
              "      <td>99.11072</td>\n",
              "      <td>67.56125</td>\n",
              "      <td>259.91250</td>\n",
              "      <td>138.89874</td>\n",
              "      <td>88.23250</td>\n",
              "      <td>39.66786</td>\n",
              "      <td>67.82875</td>\n",
              "      <td>75.67750</td>\n",
              "      <td>83.52250</td>\n",
              "      <td>28.70125</td>\n",
              "      <td>Abnormal</td>\n",
              "    </tr>\n",
              "    <tr>\n",
              "      <th>1</th>\n",
              "      <td>9164.2540</td>\n",
              "      <td>6719.5293</td>\n",
              "      <td>4883.4487</td>\n",
              "      <td>3718.1590</td>\n",
              "      <td>2015.2214</td>\n",
              "      <td>5569.9070</td>\n",
              "      <td>3849.0588</td>\n",
              "      <td>2793.3875</td>\n",
              "      <td>7017.7340</td>\n",
              "      <td>4802.2524</td>\n",
              "      <td>1672.9750</td>\n",
              "      <td>1792.1769</td>\n",
              "      <td>3792.5425</td>\n",
              "      <td>3630.3826</td>\n",
              "      <td>1906.21310</td>\n",
              "      <td>5745.3960</td>\n",
              "      <td>1919.4462</td>\n",
              "      <td>2036.2838</td>\n",
              "      <td>2253.3625</td>\n",
              "      <td>2490.8738</td>\n",
              "      <td>3759.5850</td>\n",
              "      <td>4268.9185</td>\n",
              "      <td>4166.1914</td>\n",
              "      <td>4286.6900</td>\n",
              "      <td>2699.2844</td>\n",
              "      <td>2796.0833</td>\n",
              "      <td>1015.9143</td>\n",
              "      <td>1459.10250</td>\n",
              "      <td>2865.0388</td>\n",
              "      <td>1156.9563</td>\n",
              "      <td>1351.9650</td>\n",
              "      <td>3218.32130</td>\n",
              "      <td>3855.5337</td>\n",
              "      <td>3097.4539</td>\n",
              "      <td>1667.5425</td>\n",
              "      <td>2779.3037</td>\n",
              "      <td>1064.2675</td>\n",
              "      <td>2430.8790</td>\n",
              "      <td>2814.2800</td>\n",
              "      <td>2814.2800</td>\n",
              "      <td>...</td>\n",
              "      <td>169.08000</td>\n",
              "      <td>76.40750</td>\n",
              "      <td>119.05750</td>\n",
              "      <td>62.59750</td>\n",
              "      <td>81.463100</td>\n",
              "      <td>1803.76370</td>\n",
              "      <td>100.05250</td>\n",
              "      <td>101.37625</td>\n",
              "      <td>61.82250</td>\n",
              "      <td>330.16125</td>\n",
              "      <td>202.20500</td>\n",
              "      <td>37.129760</td>\n",
              "      <td>605.53810</td>\n",
              "      <td>91.29500</td>\n",
              "      <td>86.03611</td>\n",
              "      <td>48.45875</td>\n",
              "      <td>37.41750</td>\n",
              "      <td>86.38625</td>\n",
              "      <td>163.13875</td>\n",
              "      <td>146.125000</td>\n",
              "      <td>89.59000</td>\n",
              "      <td>124.708330</td>\n",
              "      <td>35.79375</td>\n",
              "      <td>62.05875</td>\n",
              "      <td>39.719738</td>\n",
              "      <td>83.142860</td>\n",
              "      <td>321.33750</td>\n",
              "      <td>41.59125</td>\n",
              "      <td>263.36874</td>\n",
              "      <td>126.78929</td>\n",
              "      <td>92.23875</td>\n",
              "      <td>96.27625</td>\n",
              "      <td>150.59000</td>\n",
              "      <td>82.23750</td>\n",
              "      <td>85.03333</td>\n",
              "      <td>152.19500</td>\n",
              "      <td>186.56750</td>\n",
              "      <td>44.47250</td>\n",
              "      <td>16.77375</td>\n",
              "      <td>Normal</td>\n",
              "    </tr>\n",
              "    <tr>\n",
              "      <th>2</th>\n",
              "      <td>3825.7050</td>\n",
              "      <td>6970.3613</td>\n",
              "      <td>5369.9688</td>\n",
              "      <td>4705.6500</td>\n",
              "      <td>1166.5536</td>\n",
              "      <td>1572.1678</td>\n",
              "      <td>1325.4025</td>\n",
              "      <td>1472.2587</td>\n",
              "      <td>3296.9512</td>\n",
              "      <td>2786.5820</td>\n",
              "      <td>2441.4187</td>\n",
              "      <td>1487.6711</td>\n",
              "      <td>1315.8538</td>\n",
              "      <td>855.4550</td>\n",
              "      <td>802.30475</td>\n",
              "      <td>3251.1084</td>\n",
              "      <td>781.9950</td>\n",
              "      <td>1618.6500</td>\n",
              "      <td>1066.8387</td>\n",
              "      <td>1006.2112</td>\n",
              "      <td>1436.7850</td>\n",
              "      <td>658.8787</td>\n",
              "      <td>1924.7913</td>\n",
              "      <td>2080.6611</td>\n",
              "      <td>1155.9438</td>\n",
              "      <td>1444.0964</td>\n",
              "      <td>853.4429</td>\n",
              "      <td>734.52875</td>\n",
              "      <td>763.3075</td>\n",
              "      <td>704.1175</td>\n",
              "      <td>591.8088</td>\n",
              "      <td>807.39374</td>\n",
              "      <td>2138.8726</td>\n",
              "      <td>1734.1150</td>\n",
              "      <td>905.6200</td>\n",
              "      <td>1378.1200</td>\n",
              "      <td>797.1925</td>\n",
              "      <td>1880.1875</td>\n",
              "      <td>1389.6302</td>\n",
              "      <td>1389.6302</td>\n",
              "      <td>...</td>\n",
              "      <td>62.98000</td>\n",
              "      <td>51.04375</td>\n",
              "      <td>104.76250</td>\n",
              "      <td>10.15750</td>\n",
              "      <td>47.025000</td>\n",
              "      <td>460.56750</td>\n",
              "      <td>64.46125</td>\n",
              "      <td>159.98000</td>\n",
              "      <td>99.53250</td>\n",
              "      <td>122.04250</td>\n",
              "      <td>97.26750</td>\n",
              "      <td>23.496430</td>\n",
              "      <td>119.11190</td>\n",
              "      <td>75.15500</td>\n",
              "      <td>122.41389</td>\n",
              "      <td>40.46750</td>\n",
              "      <td>6.15625</td>\n",
              "      <td>10.62375</td>\n",
              "      <td>128.99374</td>\n",
              "      <td>24.917105</td>\n",
              "      <td>77.06375</td>\n",
              "      <td>33.443054</td>\n",
              "      <td>14.43625</td>\n",
              "      <td>30.18500</td>\n",
              "      <td>24.805264</td>\n",
              "      <td>6.016071</td>\n",
              "      <td>116.18375</td>\n",
              "      <td>50.87375</td>\n",
              "      <td>71.40125</td>\n",
              "      <td>151.87738</td>\n",
              "      <td>82.71500</td>\n",
              "      <td>31.10250</td>\n",
              "      <td>193.92000</td>\n",
              "      <td>76.97250</td>\n",
              "      <td>224.62024</td>\n",
              "      <td>31.22500</td>\n",
              "      <td>42.65625</td>\n",
              "      <td>16.09250</td>\n",
              "      <td>15.15625</td>\n",
              "      <td>Abnormal</td>\n",
              "    </tr>\n",
              "    <tr>\n",
              "      <th>3</th>\n",
              "      <td>6246.4487</td>\n",
              "      <td>7823.5340</td>\n",
              "      <td>5955.8350</td>\n",
              "      <td>3975.5642</td>\n",
              "      <td>2002.6132</td>\n",
              "      <td>2130.5430</td>\n",
              "      <td>1531.1425</td>\n",
              "      <td>1714.6312</td>\n",
              "      <td>3869.7850</td>\n",
              "      <td>4989.4070</td>\n",
              "      <td>1723.5800</td>\n",
              "      <td>1298.7250</td>\n",
              "      <td>1309.3475</td>\n",
              "      <td>1789.6700</td>\n",
              "      <td>1587.79170</td>\n",
              "      <td>3496.1458</td>\n",
              "      <td>1226.2975</td>\n",
              "      <td>1597.2812</td>\n",
              "      <td>1144.6912</td>\n",
              "      <td>1139.6274</td>\n",
              "      <td>2662.0974</td>\n",
              "      <td>2636.1562</td>\n",
              "      <td>3134.7476</td>\n",
              "      <td>4244.0700</td>\n",
              "      <td>1186.8938</td>\n",
              "      <td>2342.3820</td>\n",
              "      <td>792.2143</td>\n",
              "      <td>1133.23750</td>\n",
              "      <td>969.8237</td>\n",
              "      <td>835.3862</td>\n",
              "      <td>1392.7162</td>\n",
              "      <td>3034.57130</td>\n",
              "      <td>4699.3950</td>\n",
              "      <td>3312.4812</td>\n",
              "      <td>854.4288</td>\n",
              "      <td>1880.5400</td>\n",
              "      <td>1329.3225</td>\n",
              "      <td>3124.2488</td>\n",
              "      <td>2456.0930</td>\n",
              "      <td>2456.0930</td>\n",
              "      <td>...</td>\n",
              "      <td>61.42375</td>\n",
              "      <td>97.97375</td>\n",
              "      <td>34.58875</td>\n",
              "      <td>63.75875</td>\n",
              "      <td>45.223810</td>\n",
              "      <td>799.94500</td>\n",
              "      <td>71.27625</td>\n",
              "      <td>24.16875</td>\n",
              "      <td>40.38625</td>\n",
              "      <td>198.43500</td>\n",
              "      <td>170.53876</td>\n",
              "      <td>16.402382</td>\n",
              "      <td>172.44524</td>\n",
              "      <td>90.45500</td>\n",
              "      <td>140.83057</td>\n",
              "      <td>31.11625</td>\n",
              "      <td>21.02875</td>\n",
              "      <td>70.51875</td>\n",
              "      <td>203.06375</td>\n",
              "      <td>174.063160</td>\n",
              "      <td>86.48125</td>\n",
              "      <td>76.851390</td>\n",
              "      <td>38.58875</td>\n",
              "      <td>10.61125</td>\n",
              "      <td>35.985527</td>\n",
              "      <td>43.935715</td>\n",
              "      <td>239.27000</td>\n",
              "      <td>29.55875</td>\n",
              "      <td>367.58124</td>\n",
              "      <td>152.59525</td>\n",
              "      <td>41.68375</td>\n",
              "      <td>5.92500</td>\n",
              "      <td>183.00626</td>\n",
              "      <td>74.52875</td>\n",
              "      <td>67.71072</td>\n",
              "      <td>48.33875</td>\n",
              "      <td>42.52000</td>\n",
              "      <td>49.98250</td>\n",
              "      <td>16.08500</td>\n",
              "      <td>Normal</td>\n",
              "    </tr>\n",
              "    <tr>\n",
              "      <th>4</th>\n",
              "      <td>3230.3286</td>\n",
              "      <td>3694.4500</td>\n",
              "      <td>3400.7400</td>\n",
              "      <td>3463.5857</td>\n",
              "      <td>2181.4202</td>\n",
              "      <td>2922.7820</td>\n",
              "      <td>2069.2463</td>\n",
              "      <td>2948.5750</td>\n",
              "      <td>3303.3710</td>\n",
              "      <td>3109.4130</td>\n",
              "      <td>2724.2660</td>\n",
              "      <td>2557.7847</td>\n",
              "      <td>3164.6963</td>\n",
              "      <td>2285.3088</td>\n",
              "      <td>2576.74880</td>\n",
              "      <td>3056.7250</td>\n",
              "      <td>1391.5900</td>\n",
              "      <td>2162.5537</td>\n",
              "      <td>1540.2500</td>\n",
              "      <td>2705.6750</td>\n",
              "      <td>1271.7188</td>\n",
              "      <td>4439.8910</td>\n",
              "      <td>2030.6738</td>\n",
              "      <td>2249.8188</td>\n",
              "      <td>2150.1218</td>\n",
              "      <td>3350.5024</td>\n",
              "      <td>1563.9893</td>\n",
              "      <td>1903.58250</td>\n",
              "      <td>1568.1113</td>\n",
              "      <td>1368.8175</td>\n",
              "      <td>2648.2676</td>\n",
              "      <td>1073.41000</td>\n",
              "      <td>1207.4163</td>\n",
              "      <td>1201.7687</td>\n",
              "      <td>1733.8239</td>\n",
              "      <td>621.6500</td>\n",
              "      <td>1381.4825</td>\n",
              "      <td>719.4525</td>\n",
              "      <td>967.3576</td>\n",
              "      <td>967.3576</td>\n",
              "      <td>...</td>\n",
              "      <td>40.36000</td>\n",
              "      <td>22.07125</td>\n",
              "      <td>6.37000</td>\n",
              "      <td>17.33375</td>\n",
              "      <td>45.464287</td>\n",
              "      <td>105.94625</td>\n",
              "      <td>28.90500</td>\n",
              "      <td>75.84375</td>\n",
              "      <td>42.00125</td>\n",
              "      <td>123.20875</td>\n",
              "      <td>42.02250</td>\n",
              "      <td>19.664286</td>\n",
              "      <td>49.37738</td>\n",
              "      <td>62.65250</td>\n",
              "      <td>52.74167</td>\n",
              "      <td>55.26750</td>\n",
              "      <td>30.60375</td>\n",
              "      <td>57.94250</td>\n",
              "      <td>149.38500</td>\n",
              "      <td>24.352633</td>\n",
              "      <td>29.42375</td>\n",
              "      <td>49.856945</td>\n",
              "      <td>80.67375</td>\n",
              "      <td>50.12125</td>\n",
              "      <td>71.184210</td>\n",
              "      <td>29.364286</td>\n",
              "      <td>52.59125</td>\n",
              "      <td>43.63625</td>\n",
              "      <td>56.07250</td>\n",
              "      <td>126.46429</td>\n",
              "      <td>76.60375</td>\n",
              "      <td>161.35000</td>\n",
              "      <td>61.70125</td>\n",
              "      <td>54.56375</td>\n",
              "      <td>223.35953</td>\n",
              "      <td>73.09875</td>\n",
              "      <td>57.59875</td>\n",
              "      <td>7.48875</td>\n",
              "      <td>31.81250</td>\n",
              "      <td>Abnormal</td>\n",
              "    </tr>\n",
              "  </tbody>\n",
              "</table>\n",
              "<p>5 rows × 2001 columns</p>\n",
              "</div>"
            ],
            "text/plain": [
              "      H55933     R39465    R39465_  ...    R77780    T49647     Class\n",
              "0  8589.4160  5468.2407  4263.4077  ...  83.52250  28.70125  Abnormal\n",
              "1  9164.2540  6719.5293  4883.4487  ...  44.47250  16.77375    Normal\n",
              "2  3825.7050  6970.3613  5369.9688  ...  16.09250  15.15625  Abnormal\n",
              "3  6246.4487  7823.5340  5955.8350  ...  49.98250  16.08500    Normal\n",
              "4  3230.3286  3694.4500  3400.7400  ...   7.48875  31.81250  Abnormal\n",
              "\n",
              "[5 rows x 2001 columns]"
            ]
          },
          "metadata": {
            "tags": []
          },
          "execution_count": 166
        }
      ]
    },
    {
      "cell_type": "code",
      "metadata": {
        "id": "IWudOWnrazH_"
      },
      "source": [
        "X = df.drop(['Class'],axis=1)\r\n",
        "y = df['Class']"
      ],
      "execution_count": 167,
      "outputs": []
    },
    {
      "cell_type": "markdown",
      "metadata": {
        "id": "tPQtNAG9pA5U"
      },
      "source": [
        "### Taking Dummy Values"
      ]
    },
    {
      "cell_type": "code",
      "metadata": {
        "id": "upkUo7frnGgG",
        "colab": {
          "base_uri": "https://localhost:8080/",
          "height": 0
        },
        "outputId": "2ee5f66e-589e-4e77-c07c-cf92306cf40b"
      },
      "source": [
        "Y = pd.get_dummies(y,drop_first=True)\r\n",
        "Y.head()"
      ],
      "execution_count": 168,
      "outputs": [
        {
          "output_type": "execute_result",
          "data": {
            "text/html": [
              "<div>\n",
              "<style scoped>\n",
              "    .dataframe tbody tr th:only-of-type {\n",
              "        vertical-align: middle;\n",
              "    }\n",
              "\n",
              "    .dataframe tbody tr th {\n",
              "        vertical-align: top;\n",
              "    }\n",
              "\n",
              "    .dataframe thead th {\n",
              "        text-align: right;\n",
              "    }\n",
              "</style>\n",
              "<table border=\"1\" class=\"dataframe\">\n",
              "  <thead>\n",
              "    <tr style=\"text-align: right;\">\n",
              "      <th></th>\n",
              "      <th>Normal</th>\n",
              "    </tr>\n",
              "  </thead>\n",
              "  <tbody>\n",
              "    <tr>\n",
              "      <th>0</th>\n",
              "      <td>0</td>\n",
              "    </tr>\n",
              "    <tr>\n",
              "      <th>1</th>\n",
              "      <td>1</td>\n",
              "    </tr>\n",
              "    <tr>\n",
              "      <th>2</th>\n",
              "      <td>0</td>\n",
              "    </tr>\n",
              "    <tr>\n",
              "      <th>3</th>\n",
              "      <td>1</td>\n",
              "    </tr>\n",
              "    <tr>\n",
              "      <th>4</th>\n",
              "      <td>0</td>\n",
              "    </tr>\n",
              "  </tbody>\n",
              "</table>\n",
              "</div>"
            ],
            "text/plain": [
              "   Normal\n",
              "0       0\n",
              "1       1\n",
              "2       0\n",
              "3       1\n",
              "4       0"
            ]
          },
          "metadata": {
            "tags": []
          },
          "execution_count": 168
        }
      ]
    },
    {
      "cell_type": "markdown",
      "metadata": {
        "id": "HkWo4ue6pH5Q"
      },
      "source": [
        "### Spliting of Training and testing dataset"
      ]
    },
    {
      "cell_type": "code",
      "metadata": {
        "id": "ojaBAAHqnffP"
      },
      "source": [
        "from sklearn.model_selection import train_test_split"
      ],
      "execution_count": 169,
      "outputs": []
    },
    {
      "cell_type": "code",
      "metadata": {
        "id": "TR4GCXMDniC8"
      },
      "source": [
        "X_train, X_test, y_train, y_test = train_test_split(X, Y, test_size=0.2, random_state=101)"
      ],
      "execution_count": 170,
      "outputs": []
    },
    {
      "cell_type": "markdown",
      "metadata": {
        "id": "uZGeIIDqpTjE"
      },
      "source": [
        "### KNN Classification"
      ]
    },
    {
      "cell_type": "code",
      "metadata": {
        "id": "G7BtyXwxnj_S"
      },
      "source": [
        "from sklearn.neighbors import KNeighborsClassifier\r\n",
        "from sklearn import metrics"
      ],
      "execution_count": 171,
      "outputs": []
    },
    {
      "cell_type": "code",
      "metadata": {
        "id": "q8zdlak7npLo"
      },
      "source": [
        "K = 15\r\n",
        "acc = np.zeros((K-1))\r\n",
        "for k in range(1,K):\r\n",
        "  clf_knn = KNeighborsClassifier(n_neighbors=k).fit(X_train,y_train)\r\n",
        "  y_pred_knn = clf_knn.predict(X_test)\r\n",
        "  acc[k-1] = metrics.accuracy_score(y_test,y_pred_knn)"
      ],
      "execution_count": 273,
      "outputs": []
    },
    {
      "cell_type": "code",
      "metadata": {
        "id": "R-3QELzBnt4m",
        "colab": {
          "base_uri": "https://localhost:8080/"
        },
        "outputId": "590dc00d-804d-4f04-ed77-7702ad9529a0"
      },
      "source": [
        "print(\"The Best Accuracy is:\",acc.max()*100,\"% with k=\",acc.argmax()+1)"
      ],
      "execution_count": 274,
      "outputs": [
        {
          "output_type": "stream",
          "text": [
            "The Best Accuracy is: 92.3076923076923 % with k= 5\n"
          ],
          "name": "stdout"
        }
      ]
    },
    {
      "cell_type": "code",
      "metadata": {
        "id": "_8H3stri5qA0"
      },
      "source": [
        ""
      ],
      "execution_count": 173,
      "outputs": []
    },
    {
      "cell_type": "code",
      "metadata": {
        "id": "TmynnnzZF0Kf",
        "colab": {
          "base_uri": "https://localhost:8080/"
        },
        "outputId": "64ebd51c-ec83-4a20-c69f-12a5d07f4ded"
      },
      "source": [
        "knn_model = KNeighborsClassifier(n_neighbors=5).fit(X_train,y_train)\r\n",
        "y_pred_knn = knn_model.predict(X_test)\r\n",
        "print(\"Accuracy : \",metrics.accuracy_score(y_test,y_pred_knn))"
      ],
      "execution_count": 174,
      "outputs": [
        {
          "output_type": "stream",
          "text": [
            "Accuracy :  0.9230769230769231\n"
          ],
          "name": "stdout"
        },
        {
          "output_type": "stream",
          "text": [
            "/usr/local/lib/python3.6/dist-packages/ipykernel_launcher.py:1: DataConversionWarning: A column-vector y was passed when a 1d array was expected. Please change the shape of y to (n_samples, ), for example using ravel().\n",
            "  \"\"\"Entry point for launching an IPython kernel.\n"
          ],
          "name": "stderr"
        }
      ]
    },
    {
      "cell_type": "code",
      "metadata": {
        "id": "-UrU4EsKF5TP",
        "colab": {
          "base_uri": "https://localhost:8080/"
        },
        "outputId": "18bdc5d4-2e2a-4d4f-d924-252c8a5ae5c5"
      },
      "source": [
        "print(\"Train Accuracy :\", knn_model.score(X_train, y_train), \"Testing Accuracy :\", knn_model.score(X_test, y_test))"
      ],
      "execution_count": 275,
      "outputs": [
        {
          "output_type": "stream",
          "text": [
            "Train Accuracy : 0.8571428571428571 Testing Accuracy : 0.9230769230769231\n"
          ],
          "name": "stdout"
        }
      ]
    },
    {
      "cell_type": "code",
      "metadata": {
        "id": "xyZdDimVLj5N",
        "colab": {
          "base_uri": "https://localhost:8080/"
        },
        "outputId": "51e0ea69-b376-4e84-ef58-454514926a57"
      },
      "source": [
        "from sklearn.metrics import precision_score\r\n",
        "print(precision_score(y_test, y_pred_knn, average='macro'))\r\n",
        "print(precision_score(y_test, y_pred_knn, average='micro'))\r\n",
        "print(precision_score(y_test, y_pred_knn, average='weighted'))"
      ],
      "execution_count": 276,
      "outputs": [
        {
          "output_type": "stream",
          "text": [
            "0.875\n",
            "0.7692307692307693\n",
            "0.8269230769230769\n"
          ],
          "name": "stdout"
        }
      ]
    },
    {
      "cell_type": "markdown",
      "metadata": {
        "id": "09D960wJpZUQ"
      },
      "source": [
        "### Logistic Regression"
      ]
    },
    {
      "cell_type": "code",
      "metadata": {
        "id": "pbNYlMgjnxwj"
      },
      "source": [
        "from sklearn.linear_model import LogisticRegression"
      ],
      "execution_count": 177,
      "outputs": []
    },
    {
      "cell_type": "code",
      "metadata": {
        "id": "rAPMrpHjnz8m"
      },
      "source": [
        "clf_logreg = LogisticRegression(max_iter=50, verbose=1, random_state=101)"
      ],
      "execution_count": 178,
      "outputs": []
    },
    {
      "cell_type": "code",
      "metadata": {
        "id": "ijfYeHQhn3Fj",
        "colab": {
          "base_uri": "https://localhost:8080/"
        },
        "outputId": "6869ba7d-3999-4737-bd97-719be0ab6c91"
      },
      "source": [
        "clf_logreg.fit(X_train, y_train)"
      ],
      "execution_count": 277,
      "outputs": [
        {
          "output_type": "stream",
          "text": [
            "[Parallel(n_jobs=1)]: Using backend SequentialBackend with 1 concurrent workers.\n",
            "[Parallel(n_jobs=1)]: Done   1 out of   1 | elapsed:    0.0s finished\n"
          ],
          "name": "stderr"
        },
        {
          "output_type": "execute_result",
          "data": {
            "text/plain": [
              "LogisticRegression(C=1.0, class_weight=None, dual=False, fit_intercept=True,\n",
              "                   intercept_scaling=1, l1_ratio=None, max_iter=50,\n",
              "                   multi_class='auto', n_jobs=None, penalty='l2',\n",
              "                   random_state=101, solver='lbfgs', tol=0.0001, verbose=1,\n",
              "                   warm_start=False)"
            ]
          },
          "metadata": {
            "tags": []
          },
          "execution_count": 277
        }
      ]
    },
    {
      "cell_type": "code",
      "metadata": {
        "id": "g6Xx9bkTn4ok"
      },
      "source": [
        "y_pred_logreg = clf_logreg.predict(X_test)"
      ],
      "execution_count": 278,
      "outputs": []
    },
    {
      "cell_type": "code",
      "metadata": {
        "id": "KTj8ph6dn8Ku",
        "colab": {
          "base_uri": "https://localhost:8080/"
        },
        "outputId": "5fe9e39c-3812-43ed-a4d8-bee688e88fa6"
      },
      "source": [
        "print('Accuracy of logistic regression classifier on test set:{:.2f}'.format(clf_logreg.score(X_test,y_test)*100))"
      ],
      "execution_count": 181,
      "outputs": [
        {
          "output_type": "stream",
          "text": [
            "Accuracy of logistic regression classifier on test set:61.54\n"
          ],
          "name": "stdout"
        }
      ]
    },
    {
      "cell_type": "code",
      "metadata": {
        "id": "RSGNp5_8ENVf",
        "colab": {
          "base_uri": "https://localhost:8080/"
        },
        "outputId": "f4e4f8a2-3800-4da3-a09a-c91493bcce40"
      },
      "source": [
        "print(\"Train Accuracy :\", clf_logreg.score(X_train,y_train), \"Testing Accuracy :\", clf_logreg.score(X_test, y_test))"
      ],
      "execution_count": 182,
      "outputs": [
        {
          "output_type": "stream",
          "text": [
            "Train Accuracy : 1.0 Testing Accuracy : 0.6153846153846154\n"
          ],
          "name": "stdout"
        }
      ]
    },
    {
      "cell_type": "code",
      "metadata": {
        "id": "1cow2GAEMS0b",
        "colab": {
          "base_uri": "https://localhost:8080/"
        },
        "outputId": "a4974f5d-48f8-47a8-b8e0-c31d6a910033"
      },
      "source": [
        "print(precision_score(y_test, y_pred_logreg, average='macro'))\r\n",
        "print(precision_score(y_test, y_pred_logreg, average='micro'))\r\n",
        "print(precision_score(y_test, y_pred_logreg, average='weighted'))"
      ],
      "execution_count": 183,
      "outputs": [
        {
          "output_type": "stream",
          "text": [
            "0.6309523809523809\n",
            "0.6153846153846154\n",
            "0.7087912087912087\n"
          ],
          "name": "stdout"
        }
      ]
    },
    {
      "cell_type": "markdown",
      "metadata": {
        "id": "6tcOstS5peQE"
      },
      "source": [
        "### Naive Bayes"
      ]
    },
    {
      "cell_type": "code",
      "metadata": {
        "id": "1DR32XXnoAMg"
      },
      "source": [
        "from sklearn.naive_bayes import GaussianNB"
      ],
      "execution_count": 217,
      "outputs": []
    },
    {
      "cell_type": "code",
      "metadata": {
        "id": "RGV5sGc2oDCI"
      },
      "source": [
        "clf_gnb = GaussianNB()\r\n",
        "clf_gnb.fit(X_train, y_train)\r\n",
        "y_pred_gnb = clf_gnb.predict(X_test)"
      ],
      "execution_count": 279,
      "outputs": []
    },
    {
      "cell_type": "code",
      "metadata": {
        "id": "3wpQGGu6oFX4",
        "colab": {
          "base_uri": "https://localhost:8080/"
        },
        "outputId": "6f2d36ed-b5f9-46df-da1d-b353e22893cd"
      },
      "source": [
        "print(\"Accuracy \",metrics.accuracy_score(y_test,y_pred_gnb)*100)"
      ],
      "execution_count": 280,
      "outputs": [
        {
          "output_type": "stream",
          "text": [
            "Accuracy  46.15384615384615\n"
          ],
          "name": "stdout"
        }
      ]
    },
    {
      "cell_type": "code",
      "metadata": {
        "id": "cw3BLkieEYf-",
        "colab": {
          "base_uri": "https://localhost:8080/"
        },
        "outputId": "5218a995-c3c0-446c-e55d-9095f9ccbb9d"
      },
      "source": [
        "print(\"Train Accuracy :\", clf_gnb.score(X_train,y_train), \"Testing Accuracy :\",clf_gnb.score(X_test,y_test))"
      ],
      "execution_count": 281,
      "outputs": [
        {
          "output_type": "stream",
          "text": [
            "Train Accuracy : 0.6530612244897959 Testing Accuracy : 0.46153846153846156\n"
          ],
          "name": "stdout"
        }
      ]
    },
    {
      "cell_type": "code",
      "metadata": {
        "id": "wjuUBNVcoIiM",
        "colab": {
          "base_uri": "https://localhost:8080/"
        },
        "outputId": "da4440d1-699f-4aa9-db4a-0a196d4ef46f"
      },
      "source": [
        "from sklearn.metrics import confusion_matrix\r\n",
        "confusion_matrix = confusion_matrix(y_test,y_pred_gnb)\r\n",
        "print(confusion_matrix)"
      ],
      "execution_count": 283,
      "outputs": [
        {
          "output_type": "stream",
          "text": [
            "[[2 7]\n",
            " [0 4]]\n"
          ],
          "name": "stdout"
        }
      ]
    },
    {
      "cell_type": "markdown",
      "metadata": {
        "id": "vUyQm5z13Qtu"
      },
      "source": [
        "### Decision Tree"
      ]
    },
    {
      "cell_type": "code",
      "metadata": {
        "id": "7cuEOQ3o3Uo7",
        "colab": {
          "base_uri": "https://localhost:8080/"
        },
        "outputId": "4753ff55-3713-4515-fb63-7416446149be"
      },
      "source": [
        "from sklearn.tree import DecisionTreeClassifier\r\n",
        "clf_dt_entropy = DecisionTreeClassifier(criterion='entropy', random_state=1)\r\n",
        "clf_dt_entropy.fit(X_train,y_train)\r\n",
        "y_pred = clf_dt_entropy.predict(X_test)\r\n",
        "dt_accuracy = round(metrics.accuracy_score(y_test,y_pred)*100,2)\r\n",
        "print('Accuracy(Decision Tree): ',dt_accuracy,'%')\r\n",
        "print(\"Train Accuracy :\", clf_dt_entropy.score(X_train,y_train), \"Testing Accuracy :\", clf_dt_entropy.score(X_test, y_test))"
      ],
      "execution_count": 189,
      "outputs": [
        {
          "output_type": "stream",
          "text": [
            "Accuracy(Decision Tree):  46.15 %\n",
            "Train Accuracy : 1.0 Testing Accuracy : 0.46153846153846156\n"
          ],
          "name": "stdout"
        }
      ]
    },
    {
      "cell_type": "markdown",
      "metadata": {
        "id": "ABSTkdmY3bbQ"
      },
      "source": [
        "### SVM"
      ]
    },
    {
      "cell_type": "code",
      "metadata": {
        "id": "Ywz_yRuT3dOx",
        "colab": {
          "base_uri": "https://localhost:8080/"
        },
        "outputId": "4e6bc845-e637-4d5a-912b-72772ca3d68d"
      },
      "source": [
        "from sklearn import svm\r\n",
        "clf_svm = svm.SVC()\r\n",
        "clf_svm.fit(X_train,y_train)\r\n",
        "y_pred = clf_svm.predict(X_test)\r\n",
        "svm_accuracy = round(metrics.accuracy_score(y_test,y_pred)*100,2)\r\n",
        "print('Accuracy(SVM): ',svm_accuracy,'%')\r\n",
        "print(\"Train Accuracy :\", clf_svm.score(X_train, y_train), \"Testing Accuracy :\", clf_svm.score(X_test, y_test))"
      ],
      "execution_count": 284,
      "outputs": [
        {
          "output_type": "stream",
          "text": [
            "Accuracy(SVM):  92.31 %\n",
            "Train Accuracy : 0.8979591836734694 Testing Accuracy : 0.9230769230769231\n"
          ],
          "name": "stdout"
        }
      ]
    },
    {
      "cell_type": "markdown",
      "metadata": {
        "id": "_7X9AAqg7Nu1"
      },
      "source": [
        "### Bagging Approach"
      ]
    },
    {
      "cell_type": "code",
      "metadata": {
        "id": "3_UTZs3L7Up3"
      },
      "source": [
        "from sklearn.ensemble import RandomForestClassifier\r\n",
        "from sklearn.metrics import accuracy_score, roc_curve, auc"
      ],
      "execution_count": 285,
      "outputs": []
    },
    {
      "cell_type": "code",
      "metadata": {
        "id": "cR4pCqtO7PyV"
      },
      "source": [
        "n_estimators = [2, 4, 8, 16, 32, 64, 100, 200, 300, 400, 500]\r\n",
        "train_result_rf = []\r\n",
        "test_result_rf = []"
      ],
      "execution_count": 192,
      "outputs": []
    },
    {
      "cell_type": "markdown",
      "metadata": {
        "id": "aaHHTIQjCGti"
      },
      "source": [
        "#### Random Forest with gini criterion "
      ]
    },
    {
      "cell_type": "code",
      "metadata": {
        "id": "-aVloSrW7eV7",
        "colab": {
          "base_uri": "https://localhost:8080/"
        },
        "outputId": "f7a213e7-b3f4-41e6-ddaa-f13ee2944063"
      },
      "source": [
        "for estimator in n_estimators:\r\n",
        "    rf = RandomForestClassifier(n_estimators = estimator, criterion='gini')\r\n",
        "    rf.fit(X_train, y_train)\r\n",
        "    train_pred = rf.predict(X_train)\r\n",
        "    false_positive_rate, true_positive_rate, thresholds = roc_curve(y_train, train_pred)\r\n",
        "    roc_auc = auc(false_positive_rate, true_positive_rate)\r\n",
        "    train_result_rf.append(roc_auc)\r\n",
        "    y_pred = rf.predict(X_test)\r\n",
        "    false_positive_rate, true_positive_rate, thresholds = roc_curve(y_test, y_pred)\r\n",
        "    roc_auc = auc(false_positive_rate, true_positive_rate)\r\n",
        "    test_result_rf.append(roc_auc)\r\n"
      ],
      "execution_count": 193,
      "outputs": [
        {
          "output_type": "stream",
          "text": [
            "/usr/local/lib/python3.6/dist-packages/ipykernel_launcher.py:3: DataConversionWarning: A column-vector y was passed when a 1d array was expected. Please change the shape of y to (n_samples,), for example using ravel().\n",
            "  This is separate from the ipykernel package so we can avoid doing imports until\n",
            "/usr/local/lib/python3.6/dist-packages/ipykernel_launcher.py:3: DataConversionWarning: A column-vector y was passed when a 1d array was expected. Please change the shape of y to (n_samples,), for example using ravel().\n",
            "  This is separate from the ipykernel package so we can avoid doing imports until\n",
            "/usr/local/lib/python3.6/dist-packages/ipykernel_launcher.py:3: DataConversionWarning: A column-vector y was passed when a 1d array was expected. Please change the shape of y to (n_samples,), for example using ravel().\n",
            "  This is separate from the ipykernel package so we can avoid doing imports until\n",
            "/usr/local/lib/python3.6/dist-packages/ipykernel_launcher.py:3: DataConversionWarning: A column-vector y was passed when a 1d array was expected. Please change the shape of y to (n_samples,), for example using ravel().\n",
            "  This is separate from the ipykernel package so we can avoid doing imports until\n",
            "/usr/local/lib/python3.6/dist-packages/ipykernel_launcher.py:3: DataConversionWarning: A column-vector y was passed when a 1d array was expected. Please change the shape of y to (n_samples,), for example using ravel().\n",
            "  This is separate from the ipykernel package so we can avoid doing imports until\n",
            "/usr/local/lib/python3.6/dist-packages/ipykernel_launcher.py:3: DataConversionWarning: A column-vector y was passed when a 1d array was expected. Please change the shape of y to (n_samples,), for example using ravel().\n",
            "  This is separate from the ipykernel package so we can avoid doing imports until\n",
            "/usr/local/lib/python3.6/dist-packages/ipykernel_launcher.py:3: DataConversionWarning: A column-vector y was passed when a 1d array was expected. Please change the shape of y to (n_samples,), for example using ravel().\n",
            "  This is separate from the ipykernel package so we can avoid doing imports until\n",
            "/usr/local/lib/python3.6/dist-packages/ipykernel_launcher.py:3: DataConversionWarning: A column-vector y was passed when a 1d array was expected. Please change the shape of y to (n_samples,), for example using ravel().\n",
            "  This is separate from the ipykernel package so we can avoid doing imports until\n",
            "/usr/local/lib/python3.6/dist-packages/ipykernel_launcher.py:3: DataConversionWarning: A column-vector y was passed when a 1d array was expected. Please change the shape of y to (n_samples,), for example using ravel().\n",
            "  This is separate from the ipykernel package so we can avoid doing imports until\n",
            "/usr/local/lib/python3.6/dist-packages/ipykernel_launcher.py:3: DataConversionWarning: A column-vector y was passed when a 1d array was expected. Please change the shape of y to (n_samples,), for example using ravel().\n",
            "  This is separate from the ipykernel package so we can avoid doing imports until\n",
            "/usr/local/lib/python3.6/dist-packages/ipykernel_launcher.py:3: DataConversionWarning: A column-vector y was passed when a 1d array was expected. Please change the shape of y to (n_samples,), for example using ravel().\n",
            "  This is separate from the ipykernel package so we can avoid doing imports until\n"
          ],
          "name": "stderr"
        }
      ]
    },
    {
      "cell_type": "code",
      "metadata": {
        "id": "qUFHhbGh9tA3",
        "colab": {
          "base_uri": "https://localhost:8080/",
          "height": 0
        },
        "outputId": "f12e537f-2c8c-4464-be6e-b660473ddcc0"
      },
      "source": [
        "from matplotlib.legend_handler import HandlerLine2D\r\n",
        "\r\n",
        "line1, = plt.plot(n_estimators, train_result_rf, \"b\", label=\"Train AUC\")\r\n",
        "line2, = plt.plot(n_estimators, test_result_rf, \"r\", label=\"Test AUC\")\r\n",
        "plt.legend(handler_map={line1: HandlerLine2D(numpoints=2)})\r\n",
        "plt.ylabel(\"AUC Score\")\r\n",
        "plt.xlabel(\"n_estimators\")\r\n",
        "plt.show()"
      ],
      "execution_count": 194,
      "outputs": [
        {
          "output_type": "display_data",
          "data": {
            "image/png": "[encoded data removed]",
            "text/plain": [
              "<Figure size 432x288 with 1 Axes>"
            ]
          },
          "metadata": {
            "tags": [],
            "needs_background": "light"
          }
        }
      ]
    },
    {
      "cell_type": "code",
      "metadata": {
        "id": "zpevNX5K-AzP"
      },
      "source": [
        "n_estimators = [50, 55, 60, 65, 70, 75, 80]\r\n",
        "train_result_rf = []\r\n",
        "test_result_rf = []"
      ],
      "execution_count": 195,
      "outputs": []
    },
    {
      "cell_type": "code",
      "metadata": {
        "id": "cAksWnqJAPec",
        "colab": {
          "base_uri": "https://localhost:8080/"
        },
        "outputId": "f74b8c14-99a3-48d8-e7e9-35b819c0c723"
      },
      "source": [
        "for estimator in n_estimators:\r\n",
        "    rf = RandomForestClassifier(n_estimators = estimator, criterion='gini')\r\n",
        "    rf.fit(X_train, y_train)\r\n",
        "    train_pred = rf.predict(X_train)\r\n",
        "    false_positive_rate, true_positive_rate, thresholds = roc_curve(y_train, train_pred)\r\n",
        "    roc_auc = auc(false_positive_rate, true_positive_rate)\r\n",
        "    train_result_rf.append(roc_auc)\r\n",
        "    y_pred = rf.predict(X_test)\r\n",
        "    false_positive_rate, true_positive_rate, thresholds = roc_curve(y_test, y_pred)\r\n",
        "    roc_auc = auc(false_positive_rate, true_positive_rate)\r\n",
        "    test_result_rf.append(roc_auc)"
      ],
      "execution_count": 196,
      "outputs": [
        {
          "output_type": "stream",
          "text": [
            "/usr/local/lib/python3.6/dist-packages/ipykernel_launcher.py:3: DataConversionWarning: A column-vector y was passed when a 1d array was expected. Please change the shape of y to (n_samples,), for example using ravel().\n",
            "  This is separate from the ipykernel package so we can avoid doing imports until\n",
            "/usr/local/lib/python3.6/dist-packages/ipykernel_launcher.py:3: DataConversionWarning: A column-vector y was passed when a 1d array was expected. Please change the shape of y to (n_samples,), for example using ravel().\n",
            "  This is separate from the ipykernel package so we can avoid doing imports until\n",
            "/usr/local/lib/python3.6/dist-packages/ipykernel_launcher.py:3: DataConversionWarning: A column-vector y was passed when a 1d array was expected. Please change the shape of y to (n_samples,), for example using ravel().\n",
            "  This is separate from the ipykernel package so we can avoid doing imports until\n",
            "/usr/local/lib/python3.6/dist-packages/ipykernel_launcher.py:3: DataConversionWarning: A column-vector y was passed when a 1d array was expected. Please change the shape of y to (n_samples,), for example using ravel().\n",
            "  This is separate from the ipykernel package so we can avoid doing imports until\n",
            "/usr/local/lib/python3.6/dist-packages/ipykernel_launcher.py:3: DataConversionWarning: A column-vector y was passed when a 1d array was expected. Please change the shape of y to (n_samples,), for example using ravel().\n",
            "  This is separate from the ipykernel package so we can avoid doing imports until\n",
            "/usr/local/lib/python3.6/dist-packages/ipykernel_launcher.py:3: DataConversionWarning: A column-vector y was passed when a 1d array was expected. Please change the shape of y to (n_samples,), for example using ravel().\n",
            "  This is separate from the ipykernel package so we can avoid doing imports until\n",
            "/usr/local/lib/python3.6/dist-packages/ipykernel_launcher.py:3: DataConversionWarning: A column-vector y was passed when a 1d array was expected. Please change the shape of y to (n_samples,), for example using ravel().\n",
            "  This is separate from the ipykernel package so we can avoid doing imports until\n"
          ],
          "name": "stderr"
        }
      ]
    },
    {
      "cell_type": "code",
      "metadata": {
        "id": "lWcxC__vAQdt",
        "colab": {
          "base_uri": "https://localhost:8080/",
          "height": 0
        },
        "outputId": "65644006-7efb-436f-cd35-459c201822e4"
      },
      "source": [
        "line1, = plt.plot(n_estimators, train_result_rf, \"b\", label=\"Train AUC\")\r\n",
        "line2, = plt.plot(n_estimators, test_result_rf, \"r\", label=\"Test AUC\")\r\n",
        "plt.legend(handler_map={line1: HandlerLine2D(numpoints=2)})\r\n",
        "plt.ylabel(\"AUC Score\")\r\n",
        "plt.xlabel(\"n_estimators\")\r\n",
        "plt.show()"
      ],
      "execution_count": 197,
      "outputs": [
        {
          "output_type": "display_data",
          "data": {
            "image/png": "[encoded data removed]",
            "text/plain": [
              "<Figure size 432x288 with 1 Axes>"
            ]
          },
          "metadata": {
            "tags": [],
            "needs_background": "light"
          }
        }
      ]
    },
    {
      "cell_type": "code",
      "metadata": {
        "id": "k3zh0tT4AT7G",
        "colab": {
          "base_uri": "https://localhost:8080/"
        },
        "outputId": "0b7fe32d-e5cd-4dba-df44-703519748f9d"
      },
      "source": [
        "rf = RandomForestClassifier(n_estimators = 60)\r\n",
        "rf.fit(X_train,y_train)\r\n",
        "y_pred = rf.predict(X_test)\r\n",
        "rf_accuracy = round(accuracy_score(y_test,y_pred)*100,2)\r\n",
        "print('Accuracy(Random Forest): ',rf_accuracy,'%')"
      ],
      "execution_count": 198,
      "outputs": [
        {
          "output_type": "stream",
          "text": [
            "Accuracy(Random Forest):  69.23 %\n"
          ],
          "name": "stdout"
        },
        {
          "output_type": "stream",
          "text": [
            "/usr/local/lib/python3.6/dist-packages/ipykernel_launcher.py:2: DataConversionWarning: A column-vector y was passed when a 1d array was expected. Please change the shape of y to (n_samples,), for example using ravel().\n",
            "  \n"
          ],
          "name": "stderr"
        }
      ]
    },
    {
      "cell_type": "markdown",
      "metadata": {
        "id": "ASdc24auCaF7"
      },
      "source": [
        "#### Random Forest with entropy criterion"
      ]
    },
    {
      "cell_type": "code",
      "metadata": {
        "id": "_Hy-H2UPCd0E",
        "colab": {
          "base_uri": "https://localhost:8080/",
          "height": 0
        },
        "outputId": "df9d2f0d-b999-4c55-f4c7-069d3f9b0b5f"
      },
      "source": [
        "n_estimators = [2, 4, 8, 16, 32, 64, 100, 200, 300, 400, 500]\r\n",
        "train_result_rf = []\r\n",
        "test_result_rf = []\r\n",
        "\r\n",
        "for estimator in n_estimators:\r\n",
        "    rf = RandomForestClassifier(n_estimators = estimator, criterion='entropy')\r\n",
        "    rf.fit(X_train, y_train)\r\n",
        "    train_pred = rf.predict(X_train)\r\n",
        "    false_positive_rate, true_positive_rate, thresholds = roc_curve(y_train, train_pred)\r\n",
        "    roc_auc = auc(false_positive_rate, true_positive_rate)\r\n",
        "    train_result_rf.append(roc_auc)\r\n",
        "    y_pred = rf.predict(X_test)\r\n",
        "    false_positive_rate, true_positive_rate, thresholds = roc_curve(y_test, y_pred)\r\n",
        "    roc_auc = auc(false_positive_rate, true_positive_rate)\r\n",
        "    test_result_rf.append(roc_auc)\r\n",
        "\r\n",
        "line1, = plt.plot(n_estimators, train_result_rf, \"b\", label=\"Train AUC\")\r\n",
        "line2, = plt.plot(n_estimators, test_result_rf, \"r\", label=\"Test AUC\")\r\n",
        "plt.legend(handler_map={line1: HandlerLine2D(numpoints=2)})\r\n",
        "plt.ylabel(\"AUC Score\")\r\n",
        "plt.xlabel(\"n_estimators\")\r\n",
        "plt.show()"
      ],
      "execution_count": 199,
      "outputs": [
        {
          "output_type": "stream",
          "text": [
            "/usr/local/lib/python3.6/dist-packages/ipykernel_launcher.py:7: DataConversionWarning: A column-vector y was passed when a 1d array was expected. Please change the shape of y to (n_samples,), for example using ravel().\n",
            "  import sys\n",
            "/usr/local/lib/python3.6/dist-packages/ipykernel_launcher.py:7: DataConversionWarning: A column-vector y was passed when a 1d array was expected. Please change the shape of y to (n_samples,), for example using ravel().\n",
            "  import sys\n",
            "/usr/local/lib/python3.6/dist-packages/ipykernel_launcher.py:7: DataConversionWarning: A column-vector y was passed when a 1d array was expected. Please change the shape of y to (n_samples,), for example using ravel().\n",
            "  import sys\n",
            "/usr/local/lib/python3.6/dist-packages/ipykernel_launcher.py:7: DataConversionWarning: A column-vector y was passed when a 1d array was expected. Please change the shape of y to (n_samples,), for example using ravel().\n",
            "  import sys\n",
            "/usr/local/lib/python3.6/dist-packages/ipykernel_launcher.py:7: DataConversionWarning: A column-vector y was passed when a 1d array was expected. Please change the shape of y to (n_samples,), for example using ravel().\n",
            "  import sys\n",
            "/usr/local/lib/python3.6/dist-packages/ipykernel_launcher.py:7: DataConversionWarning: A column-vector y was passed when a 1d array was expected. Please change the shape of y to (n_samples,), for example using ravel().\n",
            "  import sys\n",
            "/usr/local/lib/python3.6/dist-packages/ipykernel_launcher.py:7: DataConversionWarning: A column-vector y was passed when a 1d array was expected. Please change the shape of y to (n_samples,), for example using ravel().\n",
            "  import sys\n",
            "/usr/local/lib/python3.6/dist-packages/ipykernel_launcher.py:7: DataConversionWarning: A column-vector y was passed when a 1d array was expected. Please change the shape of y to (n_samples,), for example using ravel().\n",
            "  import sys\n",
            "/usr/local/lib/python3.6/dist-packages/ipykernel_launcher.py:7: DataConversionWarning: A column-vector y was passed when a 1d array was expected. Please change the shape of y to (n_samples,), for example using ravel().\n",
            "  import sys\n",
            "/usr/local/lib/python3.6/dist-packages/ipykernel_launcher.py:7: DataConversionWarning: A column-vector y was passed when a 1d array was expected. Please change the shape of y to (n_samples,), for example using ravel().\n",
            "  import sys\n",
            "/usr/local/lib/python3.6/dist-packages/ipykernel_launcher.py:7: DataConversionWarning: A column-vector y was passed when a 1d array was expected. Please change the shape of y to (n_samples,), for example using ravel().\n",
            "  import sys\n"
          ],
          "name": "stderr"
        },
        {
          "output_type": "display_data",
          "data": {
            "image/png": "[encoded data removed]",
            "text/plain": [
              "<Figure size 432x288 with 1 Axes>"
            ]
          },
          "metadata": {
            "tags": [],
            "needs_background": "light"
          }
        }
      ]
    },
    {
      "cell_type": "code",
      "metadata": {
        "id": "yMHLn7jDChgP",
        "colab": {
          "base_uri": "https://localhost:8080/",
          "height": 0
        },
        "outputId": "4a8552f3-6dca-4ba3-e83f-d8e15461084f"
      },
      "source": [
        "n_estimators = [20, 30, 40, 45, 50, 55, 60, 65, 70, 75]\r\n",
        "train_result_rf = []\r\n",
        "test_result_rf = []\r\n",
        "\r\n",
        "for estimator in n_estimators:\r\n",
        "    rf = RandomForestClassifier(n_estimators = estimator, criterion='entropy')\r\n",
        "    rf.fit(X_train, y_train)\r\n",
        "    train_pred = rf.predict(X_train)\r\n",
        "    false_positive_rate, true_positive_rate, thresholds = roc_curve(y_train, train_pred)\r\n",
        "    roc_auc = auc(false_positive_rate, true_positive_rate)\r\n",
        "    train_result_rf.append(roc_auc)\r\n",
        "    y_pred = rf.predict(X_test)\r\n",
        "    false_positive_rate, true_positive_rate, thresholds = roc_curve(y_test, y_pred)\r\n",
        "    roc_auc = auc(false_positive_rate, true_positive_rate)\r\n",
        "    test_result_rf.append(roc_auc)\r\n",
        "\r\n",
        "line1, = plt.plot(n_estimators, train_result_rf, \"b\", label=\"Train AUC\")\r\n",
        "line2, = plt.plot(n_estimators, test_result_rf, \"r\", label=\"Test AUC\")\r\n",
        "plt.legend(handler_map={line1: HandlerLine2D(numpoints=2)})\r\n",
        "plt.ylabel(\"AUC Score\")\r\n",
        "plt.xlabel(\"n_estimators\")\r\n",
        "plt.show()"
      ],
      "execution_count": 200,
      "outputs": [
        {
          "output_type": "stream",
          "text": [
            "/usr/local/lib/python3.6/dist-packages/ipykernel_launcher.py:7: DataConversionWarning: A column-vector y was passed when a 1d array was expected. Please change the shape of y to (n_samples,), for example using ravel().\n",
            "  import sys\n",
            "/usr/local/lib/python3.6/dist-packages/ipykernel_launcher.py:7: DataConversionWarning: A column-vector y was passed when a 1d array was expected. Please change the shape of y to (n_samples,), for example using ravel().\n",
            "  import sys\n",
            "/usr/local/lib/python3.6/dist-packages/ipykernel_launcher.py:7: DataConversionWarning: A column-vector y was passed when a 1d array was expected. Please change the shape of y to (n_samples,), for example using ravel().\n",
            "  import sys\n",
            "/usr/local/lib/python3.6/dist-packages/ipykernel_launcher.py:7: DataConversionWarning: A column-vector y was passed when a 1d array was expected. Please change the shape of y to (n_samples,), for example using ravel().\n",
            "  import sys\n",
            "/usr/local/lib/python3.6/dist-packages/ipykernel_launcher.py:7: DataConversionWarning: A column-vector y was passed when a 1d array was expected. Please change the shape of y to (n_samples,), for example using ravel().\n",
            "  import sys\n",
            "/usr/local/lib/python3.6/dist-packages/ipykernel_launcher.py:7: DataConversionWarning: A column-vector y was passed when a 1d array was expected. Please change the shape of y to (n_samples,), for example using ravel().\n",
            "  import sys\n",
            "/usr/local/lib/python3.6/dist-packages/ipykernel_launcher.py:7: DataConversionWarning: A column-vector y was passed when a 1d array was expected. Please change the shape of y to (n_samples,), for example using ravel().\n",
            "  import sys\n",
            "/usr/local/lib/python3.6/dist-packages/ipykernel_launcher.py:7: DataConversionWarning: A column-vector y was passed when a 1d array was expected. Please change the shape of y to (n_samples,), for example using ravel().\n",
            "  import sys\n",
            "/usr/local/lib/python3.6/dist-packages/ipykernel_launcher.py:7: DataConversionWarning: A column-vector y was passed when a 1d array was expected. Please change the shape of y to (n_samples,), for example using ravel().\n",
            "  import sys\n",
            "/usr/local/lib/python3.6/dist-packages/ipykernel_launcher.py:7: DataConversionWarning: A column-vector y was passed when a 1d array was expected. Please change the shape of y to (n_samples,), for example using ravel().\n",
            "  import sys\n"
          ],
          "name": "stderr"
        },
        {
          "output_type": "display_data",
          "data": {
            "image/png": "[encoded data removed]",
            "text/plain": [
              "<Figure size 432x288 with 1 Axes>"
            ]
          },
          "metadata": {
            "tags": [],
            "needs_background": "light"
          }
        }
      ]
    },
    {
      "cell_type": "code",
      "metadata": {
        "id": "4IlLNkBYDmkp",
        "colab": {
          "base_uri": "https://localhost:8080/"
        },
        "outputId": "4934e95c-9273-4c75-8e9e-61e756a8c576"
      },
      "source": [
        "rf = RandomForestClassifier(n_estimators=50, criterion='entropy')\r\n",
        "rf.fit(X_train,y_train)\r\n",
        "y_pred = rf.predict(X_test)\r\n",
        "rf_accuracy = round(accuracy_score(y_test,y_pred)*100,2)\r\n",
        "print('Accuracy(Random Forest): ',rf_accuracy,'%')"
      ],
      "execution_count": 201,
      "outputs": [
        {
          "output_type": "stream",
          "text": [
            "Accuracy(Random Forest):  76.92 %\n"
          ],
          "name": "stdout"
        },
        {
          "output_type": "stream",
          "text": [
            "/usr/local/lib/python3.6/dist-packages/ipykernel_launcher.py:2: DataConversionWarning: A column-vector y was passed when a 1d array was expected. Please change the shape of y to (n_samples,), for example using ravel().\n",
            "  \n"
          ],
          "name": "stderr"
        }
      ]
    },
    {
      "cell_type": "code",
      "metadata": {
        "id": "fHD1W-krPUke",
        "colab": {
          "base_uri": "https://localhost:8080/"
        },
        "outputId": "2213a4f4-7232-431a-e485-bfe14e66145a"
      },
      "source": [
        "from sklearn.svm import SVC\r\n",
        "from sklearn.linear_model import LogisticRegression\r\n",
        "from sklearn.neighbors import KNeighborsClassifier\r\n",
        "from sklearn.tree import DecisionTreeClassifier\r\n",
        "from sklearn.ensemble import RandomForestClassifier\r\n",
        "from sklearn.naive_bayes import GaussianNB\r\n",
        "\r\n",
        "from sklearn.ensemble import VotingClassifier\r\n",
        "\r\n",
        "log_clf = LogisticRegression()\r\n",
        "rnd_clf = RandomForestClassifier()\r\n",
        "svm_clf = SVC(kernel=\"linear\", C=1000)\r\n",
        "nb_clf = GaussianNB()\r\n",
        "dt_clf = DecisionTreeClassifier(criterion='entropy', random_state=2)\r\n",
        "knn_clf = KNeighborsClassifier(n_neighbors=38)\r\n",
        "\r\n",
        "voting_clf = VotingClassifier(\r\n",
        "\testimators = [('lr', log_clf), ('rf', rnd_clf), ('knn',knn_clf),('dt',dt_clf),('nb', nb_clf)])    \r\n",
        "voting_clf.fit(X_train, y_train)\r\n",
        "y_pred=voting_clf.predict(X_test)\r\n",
        "\r\n",
        "vot_accuracy = round(accuracy_score(y_test,y_pred)*100,2)\r\n",
        "print('\\n\\nAccuracy(Voting Classifier) for Training Dataset :', voting_clf.score(X_train, y_train)*100, \"%, \",'Accuracy(Voting Classifier) for Testing Dataset: ',vot_accuracy,'%')"
      ],
      "execution_count": 202,
      "outputs": [
        {
          "output_type": "stream",
          "text": [
            "/usr/local/lib/python3.6/dist-packages/sklearn/preprocessing/_label.py:235: DataConversionWarning: A column-vector y was passed when a 1d array was expected. Please change the shape of y to (n_samples, ), for example using ravel().\n",
            "  y = column_or_1d(y, warn=True)\n",
            "/usr/local/lib/python3.6/dist-packages/sklearn/preprocessing/_label.py:268: DataConversionWarning: A column-vector y was passed when a 1d array was expected. Please change the shape of y to (n_samples, ), for example using ravel().\n",
            "  y = column_or_1d(y, warn=True)\n"
          ],
          "name": "stderr"
        },
        {
          "output_type": "stream",
          "text": [
            "\n",
            "\n",
            "Accuracy(Voting Classifier) for Training Dataset : 100.0 %,  Accuracy(Voting Classifier) for Testing Dataset:  69.23 %\n"
          ],
          "name": "stdout"
        }
      ]
    },
    {
      "cell_type": "code",
      "metadata": {
        "id": "ZrG-1UWIEClJ"
      },
      "source": [
        "from sklearn.ensemble import BaggingClassifier"
      ],
      "execution_count": 203,
      "outputs": []
    },
    {
      "cell_type": "markdown",
      "metadata": {
        "id": "5OO8sPjToJgP"
      },
      "source": [
        "### Bagging (KNeighborsClassifier)"
      ]
    },
    {
      "cell_type": "code",
      "metadata": {
        "id": "o7gI3g_r4XV_"
      },
      "source": [
        "n =30\r\n",
        "l_knn=[]\r\n",
        "for i in range(1,n):\r\n",
        "  bg =BaggingClassifier(KNeighborsClassifier(n_neighbors=5),max_samples=0.7,max_features=0.7,n_estimators=i)\r\n",
        "  bg.fit(X_train,y_train)\r\n",
        "  l_knn.append(bg.score(X_test,y_test))\r\n"
      ],
      "execution_count": 286,
      "outputs": []
    },
    {
      "cell_type": "code",
      "metadata": {
        "colab": {
          "base_uri": "https://localhost:8080/"
        },
        "id": "HxKqjyHD5jTX",
        "outputId": "db270595-d4e4-4931-c5e7-d1b1b98022d5"
      },
      "source": [
        "#print(\"The Best Accuracy is:\",acc.max()*100,\"% with n_estimator=\",acc.argmax()+1)\r\n",
        "print(\"accuracy = \" + str(max(l_knn))+ \" with estimator \"+ str(1+l_knn.index(max(l_knn))))\r\n"
      ],
      "execution_count": 287,
      "outputs": [
        {
          "output_type": "stream",
          "text": [
            "accuracy = 0.9230769230769231 with estimator 2\n"
          ],
          "name": "stdout"
        }
      ]
    },
    {
      "cell_type": "markdown",
      "metadata": {
        "id": "OgOJ77DCoTs9"
      },
      "source": [
        "Bagging (Decision Tree)"
      ]
    },
    {
      "cell_type": "code",
      "metadata": {
        "id": "XlRGVhPjmcMq"
      },
      "source": [
        "n =30\r\n",
        "l_dt=[]\r\n",
        "for i in range(1,n):\r\n",
        "  bg_dt = BaggingClassifier(DecisionTreeClassifier(criterion='entropy'),max_samples=0.5,max_features=1.0,n_estimators=i)\r\n",
        "  bg_dt.fit(X_train,y_train)\r\n",
        "  l_dt.append(bg_dt.score(X_test,y_test))\r\n"
      ],
      "execution_count": 288,
      "outputs": []
    },
    {
      "cell_type": "code",
      "metadata": {
        "colab": {
          "base_uri": "https://localhost:8080/"
        },
        "id": "wl1Mv9Ma_Wxe",
        "outputId": "6ff0f274-0443-451a-c4bf-800d9555fabd"
      },
      "source": [
        "#print(l_dt)\r\n",
        "print(\"accuracy = \" + str(max(l_dt))+ \" with estimator \"+ str(1+l_dt.index(max(l_dt))))"
      ],
      "execution_count": 290,
      "outputs": [
        {
          "output_type": "stream",
          "text": [
            "accuracy = 0.7692307692307693 with estimator 4\n"
          ],
          "name": "stdout"
        }
      ]
    },
    {
      "cell_type": "markdown",
      "metadata": {
        "id": "7qZwAz3gobl7"
      },
      "source": [
        "###Bagging(LogisticRegression)"
      ]
    },
    {
      "cell_type": "code",
      "metadata": {
        "id": "-OGzJsHzmlnb"
      },
      "source": [
        "n =30\r\n",
        "l_lr=[]\r\n",
        "for i in range(1,n):\r\n",
        "  bg_lr= BaggingClassifier(LogisticRegression(),max_samples=0.5,max_features=1.0,n_estimators=i)\r\n",
        "  bg_lr.fit(X_train,y_train)\r\n",
        "  l_lr.append(bg_lr.score(X_test,y_test))\r\n",
        "\r\n"
      ],
      "execution_count": 291,
      "outputs": []
    },
    {
      "cell_type": "code",
      "metadata": {
        "colab": {
          "base_uri": "https://localhost:8080/"
        },
        "id": "Af8NoqXs-g41",
        "outputId": "8bd98a3d-12a6-4ff4-847d-6c36d3abe6f6"
      },
      "source": [
        "\r\n",
        "print(\"accuracy = \" + str(max(l_lr))+ \" with estimator \"+ str(1+l_lr.index(max(l_lr))))"
      ],
      "execution_count": 293,
      "outputs": [
        {
          "output_type": "stream",
          "text": [
            "accuracy = 0.9230769230769231 with estimator 2\n"
          ],
          "name": "stdout"
        }
      ]
    },
    {
      "cell_type": "markdown",
      "metadata": {
        "id": "uAv10PB-olm-"
      },
      "source": [
        "### Bagging (SVM)"
      ]
    },
    {
      "cell_type": "code",
      "metadata": {
        "id": "QN57kSOVmr59",
        "colab": {
          "base_uri": "https://localhost:8080/"
        },
        "outputId": "9e69594b-1714-4c28-ccd5-a8f31f0676aa"
      },
      "source": [
        "bg = BaggingClassifier(svm.SVC(),max_samples=0.5,max_features=1.0,n_estimators=30)\r\n",
        "bg.fit(X_train,y_train)\r\n",
        "print(bg.score(X_train, y_train),bg.score(X_test,y_test))"
      ],
      "execution_count": 294,
      "outputs": [
        {
          "output_type": "stream",
          "text": [
            "0.7755102040816326 0.9230769230769231\n"
          ],
          "name": "stdout"
        }
      ]
    },
    {
      "cell_type": "code",
      "metadata": {
        "id": "PWPWZ54JoAxE"
      },
      "source": [
        "from sklearn.ensemble import  AdaBoostClassifier"
      ],
      "execution_count": 295,
      "outputs": []
    },
    {
      "cell_type": "markdown",
      "metadata": {
        "id": "1UzkVrJwrWjs"
      },
      "source": [
        "####AdaBoosting (DecisionTree)"
      ]
    },
    {
      "cell_type": "code",
      "metadata": {
        "id": "LbTwRv5mqgas",
        "colab": {
          "base_uri": "https://localhost:8080/"
        },
        "outputId": "f83fd7b7-6e18-4fe6-9034-fc047d9205b4"
      },
      "source": [
        "from sklearn.model_selection import KFold\r\n",
        "seed = 5\r\n",
        "kfold = KFold(n_splits = 10, random_state = seed)\r\n",
        "adb_dt =AdaBoostClassifier(DecisionTreeClassifier(),n_estimators=5,learning_rate=1)\r\n",
        "adb_dt.fit(X_train,y_train)"
      ],
      "execution_count": 248,
      "outputs": [
        {
          "output_type": "execute_result",
          "data": {
            "text/plain": [
              "AdaBoostClassifier(algorithm='SAMME.R',\n",
              "                   base_estimator=DecisionTreeClassifier(ccp_alpha=0.0,\n",
              "                                                         class_weight=None,\n",
              "                                                         criterion='gini',\n",
              "                                                         max_depth=None,\n",
              "                                                         max_features=None,\n",
              "                                                         max_leaf_nodes=None,\n",
              "                                                         min_impurity_decrease=0.0,\n",
              "                                                         min_impurity_split=None,\n",
              "                                                         min_samples_leaf=1,\n",
              "                                                         min_samples_split=2,\n",
              "                                                         min_weight_fraction_leaf=0.0,\n",
              "                                                         presort='deprecated',\n",
              "                                                         random_state=None,\n",
              "                                                         splitter='best'),\n",
              "                   learning_rate=1, n_estimators=5, random_state=None)"
            ]
          },
          "metadata": {
            "tags": []
          },
          "execution_count": 248
        }
      ]
    },
    {
      "cell_type": "code",
      "metadata": {
        "colab": {
          "base_uri": "https://localhost:8080/"
        },
        "id": "v5rqNUeTjBVF",
        "outputId": "4a7b30cd-a571-4217-df86-c6980e163199"
      },
      "source": [
        "results = cross_val_score(adb_dt, X_train,y_train, cv = kfold)\r\n",
        "print(results.mean())"
      ],
      "execution_count": 256,
      "outputs": [
        {
          "output_type": "stream",
          "text": [
            "0.8400000000000001\n"
          ],
          "name": "stdout"
        }
      ]
    },
    {
      "cell_type": "code",
      "metadata": {
        "id": "Qn16A_bhqt3u",
        "colab": {
          "base_uri": "https://localhost:8080/"
        },
        "outputId": "bf700761-5847-4061-fbad-c5d67d3a7363"
      },
      "source": [
        "adb_dt.score(X_test,y_test)"
      ],
      "execution_count": 257,
      "outputs": [
        {
          "output_type": "execute_result",
          "data": {
            "text/plain": [
              "0.6153846153846154"
            ]
          },
          "metadata": {
            "tags": []
          },
          "execution_count": 257
        }
      ]
    },
    {
      "cell_type": "code",
      "metadata": {
        "id": "7pK2i8gWq8CN",
        "colab": {
          "base_uri": "https://localhost:8080/"
        },
        "outputId": "51943b0c-0d3f-4e85-c14b-bd017f5d3785"
      },
      "source": [
        "adb_dt.score(X_train,y_train)"
      ],
      "execution_count": 258,
      "outputs": [
        {
          "output_type": "execute_result",
          "data": {
            "text/plain": [
              "1.0"
            ]
          },
          "metadata": {
            "tags": []
          },
          "execution_count": 258
        }
      ]
    },
    {
      "cell_type": "markdown",
      "metadata": {
        "id": "Kp8k5oE61r8k"
      },
      "source": [
        "####AdaBoost(Logistic Regression)"
      ]
    },
    {
      "cell_type": "code",
      "metadata": {
        "id": "eCWsSe6210LA",
        "colab": {
          "base_uri": "https://localhost:8080/"
        },
        "outputId": "43b9fa6a-d1bd-4888-92b9-36d186ac9b56"
      },
      "source": [
        "adb_lr =AdaBoostClassifier(LogisticRegression(),n_estimators=5,learning_rate=1)\r\n",
        "adb_lr.fit(X_train,y_train)\r\n",
        "print(adb_lr.score(X_test,y_test))\r\n",
        "results = cross_val_score(adb_lr, X_train,y_train, cv = kfold)\r\n",
        "print(results.mean())"
      ],
      "execution_count": 261,
      "outputs": [
        {
          "output_type": "stream",
          "text": [
            "0.6923076923076923\n",
            "0.795\n"
          ],
          "name": "stdout"
        }
      ]
    },
    {
      "cell_type": "markdown",
      "metadata": {
        "id": "wH-9H5ud3UUN"
      },
      "source": [
        "####Adaboost(SVM)"
      ]
    },
    {
      "cell_type": "code",
      "metadata": {
        "id": "JCmeyOuk3BzB",
        "colab": {
          "base_uri": "https://localhost:8080/"
        },
        "outputId": "f74146a3-828a-4f31-ca29-7905a9dbd3e0"
      },
      "source": [
        "\r\n",
        "adb_svm= AdaBoostClassifier(SVC(probability=True, kernel='linear'),n_estimators=20,learning_rate=1)\r\n",
        "adb_svm.fit(X_train,y_train)\r\n",
        "print(adb_svm.score(X_test,y_test))\r\n",
        "results = cross_val_score(adb_svm, X_train,y_train, cv = kfold)\r\n",
        "print(results.mean())"
      ],
      "execution_count": 264,
      "outputs": [
        {
          "output_type": "stream",
          "text": [
            "0.6923076923076923\n",
            "0.755\n"
          ],
          "name": "stdout"
        }
      ]
    },
    {
      "cell_type": "markdown",
      "metadata": {
        "id": "dHQ-VBo7JWbs"
      },
      "source": [
        "####Stacking "
      ]
    },
    {
      "cell_type": "code",
      "metadata": {
        "id": "wH8sq0A4OYKN"
      },
      "source": [
        "from numpy import mean\r\n",
        "from numpy import std\r\n",
        "from sklearn.model_selection import cross_val_score\r\n",
        "from sklearn.model_selection import RepeatedStratifiedKFold\r\n",
        "from sklearn.ensemble import StackingClassifier\r\n",
        "from matplotlib import pyplot\r\n"
      ],
      "execution_count": 265,
      "outputs": []
    },
    {
      "cell_type": "code",
      "metadata": {
        "id": "1vZ7T_STmoMr"
      },
      "source": [
        "import warnings\r\n",
        "warnings.filterwarnings(\"ignore\")\r\n"
      ],
      "execution_count": 266,
      "outputs": []
    },
    {
      "cell_type": "code",
      "metadata": {
        "id": "iTL7DJ5rmpUA"
      },
      "source": [
        "def stacking():\r\n",
        "\t# define the base models\r\n",
        "\tlevel0 = list()\r\n",
        "\tlevel0.append(('lr', LogisticRegression()))\r\n",
        "\tlevel0.append(('knn', KNeighborsClassifier()))\r\n",
        "\tlevel0.append(('cart', DecisionTreeClassifier()))\r\n",
        "\tlevel0.append(('svm', SVC()))\r\n",
        "\tlevel0.append(('bayes', GaussianNB()))\r\n",
        "\t# define meta learner model\r\n",
        "\tlevel1 = LogisticRegression()\r\n",
        "\t# define the stacking ensemble\r\n",
        "\tmodel = StackingClassifier(estimators=level0, final_estimator=level1, cv=5)\r\n",
        "\treturn model"
      ],
      "execution_count": 296,
      "outputs": []
    },
    {
      "cell_type": "code",
      "metadata": {
        "id": "yxEMwsRIm9-Q"
      },
      "source": [
        "def getmodels():\r\n",
        "\tmodels = dict()\r\n",
        "\tmodels['lr'] = LogisticRegression()\r\n",
        "\tmodels['knn'] = KNeighborsClassifier()\r\n",
        "\tmodels['cart'] = DecisionTreeClassifier()\r\n",
        "\tmodels['svm'] = SVC()\r\n",
        "\tmodels['bayes'] = GaussianNB()\r\n",
        "\tmodels['stacking'] = stacking()\r\n",
        "\treturn models"
      ],
      "execution_count": 297,
      "outputs": []
    },
    {
      "cell_type": "code",
      "metadata": {
        "id": "kqiSKV3fnPZB"
      },
      "source": [
        " \r\n",
        "# evaluate a give model using cross-validation\r\n",
        "def evaluate_model(model, X_train, y_train):\r\n",
        "\tcv = RepeatedStratifiedKFold(n_splits=10, n_repeats=3, random_state=1)\r\n",
        "\tscores = cross_val_score(model, X, y, scoring='accuracy', cv=cv)\r\n",
        "\treturn scores\r\n",
        " "
      ],
      "execution_count": 298,
      "outputs": []
    },
    {
      "cell_type": "code",
      "metadata": {
        "colab": {
          "base_uri": "https://localhost:8080/",
          "height": 374
        },
        "id": "neqIlrrDnUCw",
        "outputId": "a49add82-cb8f-45d4-d5e1-9d0001bf999c"
      },
      "source": [
        "models = getmodels()\r\n",
        "results, names = list(), list()\r\n",
        "for name, model in models.items():\r\n",
        "\tscores = evaluate_model(model, X_train, y_train)\r\n",
        "\tresults.append(scores)\r\n",
        "\tnames.append(name)\r\n",
        "\tprint('>%s %.3f (%.3f)' % (name, mean(scores), std(scores)))\r\n",
        "# plot model performance for comparison\r\n",
        "pyplot.boxplot(results, labels=names, showmeans=True)\r\n",
        "pyplot.show()"
      ],
      "execution_count": 299,
      "outputs": [
        {
          "output_type": "stream",
          "text": [
            ">lr 0.851 (0.113)\n",
            ">knn 0.846 (0.100)\n",
            ">cart 0.742 (0.154)\n",
            ">svm 0.846 (0.103)\n",
            ">bayes 0.581 (0.179)\n",
            ">stacking 0.868 (0.095)\n"
          ],
          "name": "stdout"
        },
        {
          "output_type": "display_data",
          "data": {
            "image/png": "[encoded data removed]",
            "text/plain": [
              "<Figure size 432x288 with 1 Axes>"
            ]
          },
          "metadata": {
            "tags": [],
            "needs_background": "light"
          }
        }
      ]
    }
  ]
}